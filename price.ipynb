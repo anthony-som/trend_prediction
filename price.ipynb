{
 "cells": [
  {
   "cell_type": "code",
   "execution_count": 98,
   "id": "5cf5ef63-b117-4ce3-98a9-ab6f079c2479",
   "metadata": {
    "tags": []
   },
   "outputs": [
    {
     "name": "stdout",
     "output_type": "stream",
     "text": [
      "Requirement already satisfied: yfinance in .\\prediction\\lib\\site-packages (0.2.37)\n",
      "Requirement already satisfied: neuralprophet in .\\prediction\\lib\\site-packages (0.8.0)\n",
      "Requirement already satisfied: appdirs>=1.4.4 in .\\prediction\\lib\\site-packages (from yfinance) (1.4.4)\n",
      "Requirement already satisfied: beautifulsoup4>=4.11.1 in .\\prediction\\lib\\site-packages (from yfinance) (4.12.3)\n",
      "Requirement already satisfied: peewee>=3.16.2 in .\\prediction\\lib\\site-packages (from yfinance) (3.17.1)\n",
      "Requirement already satisfied: numpy>=1.16.5 in .\\prediction\\lib\\site-packages (from yfinance) (1.26.4)\n",
      "Requirement already satisfied: pandas>=1.3.0 in .\\prediction\\lib\\site-packages (from yfinance) (2.2.1)\n",
      "Requirement already satisfied: frozendict>=2.3.4 in .\\prediction\\lib\\site-packages (from yfinance) (2.4.0)\n",
      "Requirement already satisfied: requests>=2.31 in .\\prediction\\lib\\site-packages (from yfinance) (2.31.0)\n",
      "Requirement already satisfied: multitasking>=0.0.7 in .\\prediction\\lib\\site-packages (from yfinance) (0.0.11)\n",
      "Requirement already satisfied: pytz>=2022.5 in .\\prediction\\lib\\site-packages (from yfinance) (2024.1)\n",
      "Requirement already satisfied: lxml>=4.9.1 in .\\prediction\\lib\\site-packages (from yfinance) (5.1.0)\n",
      "Requirement already satisfied: html5lib>=1.1 in .\\prediction\\lib\\site-packages (from yfinance) (1.1)\n",
      "Requirement already satisfied: matplotlib<4.0.0,>=3.5.3 in .\\prediction\\lib\\site-packages (from neuralprophet) (3.8.3)\n",
      "Requirement already satisfied: torch<3.0.0,>=2.0.0 in .\\prediction\\lib\\site-packages (from neuralprophet) (2.2.1)\n",
      "Requirement already satisfied: tensorboard<3.0.0,>=2.11.2 in .\\prediction\\lib\\site-packages (from neuralprophet) (2.16.2)\n",
      "Requirement already satisfied: captum>=0.6.0 in .\\prediction\\lib\\site-packages (from neuralprophet) (0.7.0)\n",
      "Requirement already satisfied: nbformat<6.0.0,>=5.8.0 in .\\prediction\\lib\\site-packages (from neuralprophet) (5.9.2)\n",
      "Requirement already satisfied: pytorch-lightning<2.0.0,>=1.9.4 in .\\prediction\\lib\\site-packages (from neuralprophet) (1.9.5)\n",
      "Requirement already satisfied: torchmetrics<2.0.0,>=1.0.0 in .\\prediction\\lib\\site-packages (from neuralprophet) (1.3.1)\n",
      "Requirement already satisfied: holidays>=0.41 in .\\prediction\\lib\\site-packages (from neuralprophet) (0.43)\n",
      "Requirement already satisfied: typing-extensions<5.0.0,>=4.5.0 in .\\prediction\\lib\\site-packages (from neuralprophet) (4.10.0)\n",
      "Requirement already satisfied: plotly<6.0.0,>=5.13.1 in .\\prediction\\lib\\site-packages (from neuralprophet) (5.19.0)\n",
      "Requirement already satisfied: soupsieve>1.2 in .\\prediction\\lib\\site-packages (from beautifulsoup4>=4.11.1->yfinance) (2.5)\n",
      "Requirement already satisfied: tzdata>=2022.7 in .\\prediction\\lib\\site-packages (from pandas>=1.3.0->yfinance) (2024.1)\n",
      "Requirement already satisfied: python-dateutil>=2.8.2 in .\\prediction\\lib\\site-packages (from pandas>=1.3.0->yfinance) (2.8.2)\n",
      "Requirement already satisfied: urllib3<3,>=1.21.1 in .\\prediction\\lib\\site-packages (from requests>=2.31->yfinance) (2.2.1)\n",
      "Requirement already satisfied: certifi>=2017.4.17 in .\\prediction\\lib\\site-packages (from requests>=2.31->yfinance) (2024.2.2)\n",
      "Requirement already satisfied: charset-normalizer<4,>=2 in .\\prediction\\lib\\site-packages (from requests>=2.31->yfinance) (3.3.2)\n",
      "Requirement already satisfied: idna<4,>=2.5 in .\\prediction\\lib\\site-packages (from requests>=2.31->yfinance) (3.6)\n",
      "Requirement already satisfied: webencodings in .\\prediction\\lib\\site-packages (from html5lib>=1.1->yfinance) (0.5.1)\n",
      "Requirement already satisfied: six>=1.9 in .\\prediction\\lib\\site-packages (from html5lib>=1.1->yfinance) (1.16.0)\n",
      "Requirement already satisfied: importlib-resources>=3.2.0; python_version < \"3.10\" in .\\prediction\\lib\\site-packages (from matplotlib<4.0.0,>=3.5.3->neuralprophet) (6.1.2)\n",
      "Requirement already satisfied: contourpy>=1.0.1 in .\\prediction\\lib\\site-packages (from matplotlib<4.0.0,>=3.5.3->neuralprophet) (1.2.0)\n",
      "Requirement already satisfied: fonttools>=4.22.0 in .\\prediction\\lib\\site-packages (from matplotlib<4.0.0,>=3.5.3->neuralprophet) (4.49.0)\n",
      "Requirement already satisfied: pyparsing>=2.3.1 in .\\prediction\\lib\\site-packages (from matplotlib<4.0.0,>=3.5.3->neuralprophet) (3.1.1)\n",
      "Requirement already satisfied: cycler>=0.10 in .\\prediction\\lib\\site-packages (from matplotlib<4.0.0,>=3.5.3->neuralprophet) (0.12.1)\n",
      "Requirement already satisfied: packaging>=20.0 in .\\prediction\\lib\\site-packages (from matplotlib<4.0.0,>=3.5.3->neuralprophet) (23.2)\n",
      "Requirement already satisfied: kiwisolver>=1.3.1 in .\\prediction\\lib\\site-packages (from matplotlib<4.0.0,>=3.5.3->neuralprophet) (1.4.5)\n",
      "Requirement already satisfied: pillow>=8 in .\\prediction\\lib\\site-packages (from matplotlib<4.0.0,>=3.5.3->neuralprophet) (10.2.0)\n",
      "Requirement already satisfied: jinja2 in .\\prediction\\lib\\site-packages (from torch<3.0.0,>=2.0.0->neuralprophet) (3.1.3)\n",
      "Requirement already satisfied: sympy in .\\prediction\\lib\\site-packages (from torch<3.0.0,>=2.0.0->neuralprophet) (1.12)\n",
      "Requirement already satisfied: networkx in .\\prediction\\lib\\site-packages (from torch<3.0.0,>=2.0.0->neuralprophet) (3.2.1)\n",
      "Requirement already satisfied: fsspec in .\\prediction\\lib\\site-packages (from torch<3.0.0,>=2.0.0->neuralprophet) (2024.2.0)\n",
      "Requirement already satisfied: filelock in .\\prediction\\lib\\site-packages (from torch<3.0.0,>=2.0.0->neuralprophet) (3.13.1)\n",
      "Requirement already satisfied: markdown>=2.6.8 in .\\prediction\\lib\\site-packages (from tensorboard<3.0.0,>=2.11.2->neuralprophet) (3.5.2)\n",
      "Requirement already satisfied: setuptools>=41.0.0 in .\\prediction\\lib\\site-packages (from tensorboard<3.0.0,>=2.11.2->neuralprophet) (49.2.1)\n",
      "Requirement already satisfied: tensorboard-data-server<0.8.0,>=0.7.0 in .\\prediction\\lib\\site-packages (from tensorboard<3.0.0,>=2.11.2->neuralprophet) (0.7.2)\n",
      "Requirement already satisfied: grpcio>=1.48.2 in .\\prediction\\lib\\site-packages (from tensorboard<3.0.0,>=2.11.2->neuralprophet) (1.62.0)\n",
      "Requirement already satisfied: protobuf!=4.24.0,>=3.19.6 in .\\prediction\\lib\\site-packages (from tensorboard<3.0.0,>=2.11.2->neuralprophet) (4.25.3)\n",
      "Requirement already satisfied: absl-py>=0.4 in .\\prediction\\lib\\site-packages (from tensorboard<3.0.0,>=2.11.2->neuralprophet) (2.1.0)\n",
      "Requirement already satisfied: werkzeug>=1.0.1 in .\\prediction\\lib\\site-packages (from tensorboard<3.0.0,>=2.11.2->neuralprophet) (3.0.1)\n",
      "Requirement already satisfied: tqdm in .\\prediction\\lib\\site-packages (from captum>=0.6.0->neuralprophet) (4.66.2)\n",
      "Requirement already satisfied: fastjsonschema in .\\prediction\\lib\\site-packages (from nbformat<6.0.0,>=5.8.0->neuralprophet) (2.19.1)\n",
      "Requirement already satisfied: jupyter-core in .\\prediction\\lib\\site-packages (from nbformat<6.0.0,>=5.8.0->neuralprophet) (5.7.1)\n",
      "Requirement already satisfied: traitlets>=5.1 in .\\prediction\\lib\\site-packages (from nbformat<6.0.0,>=5.8.0->neuralprophet) (5.14.1)\n",
      "Requirement already satisfied: jsonschema>=2.6 in .\\prediction\\lib\\site-packages (from nbformat<6.0.0,>=5.8.0->neuralprophet) (4.21.1)\n",
      "Requirement already satisfied: lightning-utilities>=0.6.0.post0 in .\\prediction\\lib\\site-packages (from pytorch-lightning<2.0.0,>=1.9.4->neuralprophet) (0.10.1)\n",
      "Requirement already satisfied: PyYAML>=5.4 in .\\prediction\\lib\\site-packages (from pytorch-lightning<2.0.0,>=1.9.4->neuralprophet) (6.0.1)\n",
      "Requirement already satisfied: tenacity>=6.2.0 in .\\prediction\\lib\\site-packages (from plotly<6.0.0,>=5.13.1->neuralprophet) (8.2.3)\n",
      "Requirement already satisfied: zipp>=3.1.0; python_version < \"3.10\" in .\\prediction\\lib\\site-packages (from importlib-resources>=3.2.0; python_version < \"3.10\"->matplotlib<4.0.0,>=3.5.3->neuralprophet) (3.17.0)\n",
      "Requirement already satisfied: MarkupSafe>=2.0 in .\\prediction\\lib\\site-packages (from jinja2->torch<3.0.0,>=2.0.0->neuralprophet) (2.1.5)\n",
      "Requirement already satisfied: mpmath>=0.19 in .\\prediction\\lib\\site-packages (from sympy->torch<3.0.0,>=2.0.0->neuralprophet) (1.3.0)\n",
      "Requirement already satisfied: importlib-metadata>=4.4; python_version < \"3.10\" in .\\prediction\\lib\\site-packages (from markdown>=2.6.8->tensorboard<3.0.0,>=2.11.2->neuralprophet) (7.0.1)\n",
      "Requirement already satisfied: colorama; platform_system == \"Windows\" in .\\prediction\\lib\\site-packages (from tqdm->captum>=0.6.0->neuralprophet) (0.4.6)\n",
      "Requirement already satisfied: platformdirs>=2.5 in .\\prediction\\lib\\site-packages (from jupyter-core->nbformat<6.0.0,>=5.8.0->neuralprophet) (4.2.0)\n",
      "Requirement already satisfied: pywin32>=300; sys_platform == \"win32\" and platform_python_implementation != \"PyPy\" in .\\prediction\\lib\\site-packages (from jupyter-core->nbformat<6.0.0,>=5.8.0->neuralprophet) (306)\n",
      "Requirement already satisfied: rpds-py>=0.7.1 in .\\prediction\\lib\\site-packages (from jsonschema>=2.6->nbformat<6.0.0,>=5.8.0->neuralprophet) (0.18.0)\n",
      "Requirement already satisfied: jsonschema-specifications>=2023.03.6 in .\\prediction\\lib\\site-packages (from jsonschema>=2.6->nbformat<6.0.0,>=5.8.0->neuralprophet) (2023.12.1)\n",
      "Requirement already satisfied: referencing>=0.28.4 in .\\prediction\\lib\\site-packages (from jsonschema>=2.6->nbformat<6.0.0,>=5.8.0->neuralprophet) (0.33.0)\n",
      "Requirement already satisfied: attrs>=22.2.0 in .\\prediction\\lib\\site-packages (from jsonschema>=2.6->nbformat<6.0.0,>=5.8.0->neuralprophet) (23.2.0)\n",
      "Note: you may need to restart the kernel to use updated packages.\n"
     ]
    },
    {
     "name": "stderr",
     "output_type": "stream",
     "text": [
      "WARNING: You are using pip version 20.2.3; however, version 24.0 is available.\n",
      "You should consider upgrading via the 'f:\\trend_prediction\\prediction\\Scripts\\python.exe -m pip install --upgrade pip' command.\n"
     ]
    }
   ],
   "source": [
    "pip install yfinance neuralprophet"
   ]
  },
  {
   "cell_type": "code",
   "execution_count": 99,
   "id": "88299f56-19a3-4d2b-8919-3294c913e75b",
   "metadata": {
    "tags": []
   },
   "outputs": [
    {
     "name": "stderr",
     "output_type": "stream",
     "text": [
      "[*********************100%%**********************]  1 of 1 completed"
     ]
    },
    {
     "name": "stdout",
     "output_type": "stream",
     "text": [
      "                Open      High       Low     Close  Adj Close    Volume\n",
      "Date                                                                   \n",
      "2020-04-10  0.832005  1.313487  0.694187  0.951054   0.951054  87364276\n",
      "2020-04-11  0.951054  1.049073  0.765020  0.776819   0.776819  43862444\n",
      "2020-04-12  0.785448  0.956670  0.762426  0.882507   0.882507  38736897\n",
      "2020-04-13  0.890760  0.891603  0.773976  0.777832   0.777832  18211285\n",
      "2020-04-14  0.777832  0.796472  0.628169  0.661925   0.661925  16747614\n"
     ]
    },
    {
     "name": "stderr",
     "output_type": "stream",
     "text": [
      "\n"
     ]
    }
   ],
   "source": [
    "stock_symbol = 'SOL-USD'\n",
    "start_date = '2015-01-01'\n",
    "end_date = '2024-01-01'\n",
    "\n",
    "stock_data = yf.download(stock_symbol, start=start_date, end=end_date)\n",
    "\n",
    "print(stock_data.head())\n",
    "stock_data.to_csv('stock_data.csv')"
   ]
  },
  {
   "cell_type": "code",
   "execution_count": 100,
   "id": "a5bc1f00-d53b-497e-8742-ecd72542f05a",
   "metadata": {
    "tags": []
   },
   "outputs": [
    {
     "data": {
      "image/png": "[encoded data removed]",
      "text/plain": [
       "<Figure size 640x480 with 1 Axes>"
      ]
     },
     "metadata": {},
     "output_type": "display_data"
    }
   ],
   "source": [
    "stocks = pd.read_csv('stock_data.csv')\n",
    "stocks['Data'] = pd.to_datetime(stocks['Date'])\n",
    "stocks = stocks[['Date', 'Close']]\n",
    "\n",
    "stocks.columns= ['ds', 'y']\n",
    "\n",
    "\n",
    "plt.plot(stocks['ds'], stocks['y'], label = 'actual', c = 'g')\n",
    "plt.show()"
   ]
  },
  {
   "cell_type": "code",
   "execution_count": 101,
   "id": "0e50c0dc-ff6a-4de1-8b05-445f1dbbf6b7",
   "metadata": {
    "tags": []
   },
   "outputs": [
    {
     "name": "stderr",
     "output_type": "stream",
     "text": [
      "WARNING - (NP.forecaster.fit) - When Global modeling with local normalization, metrics are displayed in normalized scale.\n",
      "WARNING - (py.warnings._showwarnmsg) - f:\\trend_prediction\\prediction\\lib\\site-packages\\neuralprophet\\df_utils.py:1152: FutureWarning:\n",
      "\n",
      "Series.view is deprecated and will be removed in a future version. Use ``astype`` as an alternative to change the dtype.\n",
      "\n",
      "\n",
      "INFO - (NP.df_utils._infer_frequency) - Major frequency D corresponds to 99.927% of the data.\n",
      "INFO - (NP.df_utils._infer_frequency) - Dataframe freq automatically defined as D\n",
      "INFO - (NP.config.init_data_params) - Setting normalization to global as only one dataframe provided for training.\n",
      "INFO - (NP.utils.set_auto_seasonalities) - Disabling daily seasonality. Run NeuralProphet with daily_seasonality=True to override this.\n",
      "INFO - (NP.config.set_auto_batch_epoch) - Auto-set batch_size to 32\n",
      "INFO - (NP.config.set_auto_batch_epoch) - Auto-set epochs to 100\n",
      "WARNING - (NP.config.set_lr_finder_args) - Learning rate finder: The number of batches (43) is too small than the required number                     for the learning rate finder (229). The results might not be optimal.\n",
      "Finding best initial lr: 100%|██████████| 229/229 [00:00<00:00, 313.95it/s]\n"
     ]
    },
    {
     "name": "stdout",
     "output_type": "stream",
     "text": [
      "Epoch 100: 100%|██████████| 100/100 [00:00<00:00, 735.29it/s, loss=0.00923, v_num=15, MAE=10.30, RMSE=14.30, Loss=0.00863, RegLoss=0.000]  \n"
     ]
    },
    {
     "data": {
      "text/html": [
       "<div>\n",
       "<style scoped>\n",
       "    .dataframe tbody tr th:only-of-type {\n",
       "        vertical-align: middle;\n",
       "    }\n",
       "\n",
       "    .dataframe tbody tr th {\n",
       "        vertical-align: top;\n",
       "    }\n",
       "\n",
       "    .dataframe thead th {\n",
       "        text-align: right;\n",
       "    }\n",
       "</style>\n",
       "<table border=\"1\" class=\"dataframe\">\n",
       "  <thead>\n",
       "    <tr style=\"text-align: right;\">\n",
       "      <th></th>\n",
       "      <th>MAE</th>\n",
       "      <th>RMSE</th>\n",
       "      <th>Loss</th>\n",
       "      <th>RegLoss</th>\n",
       "      <th>epoch</th>\n",
       "    </tr>\n",
       "  </thead>\n",
       "  <tbody>\n",
       "    <tr>\n",
       "      <th>0</th>\n",
       "      <td>158.331055</td>\n",
       "      <td>197.168106</td>\n",
       "      <td>0.586985</td>\n",
       "      <td>0.0</td>\n",
       "      <td>0</td>\n",
       "    </tr>\n",
       "    <tr>\n",
       "      <th>1</th>\n",
       "      <td>113.386574</td>\n",
       "      <td>140.580231</td>\n",
       "      <td>0.385110</td>\n",
       "      <td>0.0</td>\n",
       "      <td>1</td>\n",
       "    </tr>\n",
       "    <tr>\n",
       "      <th>2</th>\n",
       "      <td>75.951683</td>\n",
       "      <td>95.445808</td>\n",
       "      <td>0.227304</td>\n",
       "      <td>0.0</td>\n",
       "      <td>2</td>\n",
       "    </tr>\n",
       "    <tr>\n",
       "      <th>3</th>\n",
       "      <td>46.168411</td>\n",
       "      <td>64.693993</td>\n",
       "      <td>0.114862</td>\n",
       "      <td>0.0</td>\n",
       "      <td>3</td>\n",
       "    </tr>\n",
       "    <tr>\n",
       "      <th>4</th>\n",
       "      <td>32.689163</td>\n",
       "      <td>52.622894</td>\n",
       "      <td>0.075022</td>\n",
       "      <td>0.0</td>\n",
       "      <td>4</td>\n",
       "    </tr>\n",
       "    <tr>\n",
       "      <th>...</th>\n",
       "      <td>...</td>\n",
       "      <td>...</td>\n",
       "      <td>...</td>\n",
       "      <td>...</td>\n",
       "      <td>...</td>\n",
       "    </tr>\n",
       "    <tr>\n",
       "      <th>95</th>\n",
       "      <td>10.330038</td>\n",
       "      <td>14.363979</td>\n",
       "      <td>0.008549</td>\n",
       "      <td>0.0</td>\n",
       "      <td>95</td>\n",
       "    </tr>\n",
       "    <tr>\n",
       "      <th>96</th>\n",
       "      <td>10.271096</td>\n",
       "      <td>14.163336</td>\n",
       "      <td>0.008471</td>\n",
       "      <td>0.0</td>\n",
       "      <td>96</td>\n",
       "    </tr>\n",
       "    <tr>\n",
       "      <th>97</th>\n",
       "      <td>10.306903</td>\n",
       "      <td>14.202788</td>\n",
       "      <td>0.008470</td>\n",
       "      <td>0.0</td>\n",
       "      <td>97</td>\n",
       "    </tr>\n",
       "    <tr>\n",
       "      <th>98</th>\n",
       "      <td>10.282552</td>\n",
       "      <td>14.120143</td>\n",
       "      <td>0.008439</td>\n",
       "      <td>0.0</td>\n",
       "      <td>98</td>\n",
       "    </tr>\n",
       "    <tr>\n",
       "      <th>99</th>\n",
       "      <td>10.334795</td>\n",
       "      <td>14.288158</td>\n",
       "      <td>0.008633</td>\n",
       "      <td>0.0</td>\n",
       "      <td>99</td>\n",
       "    </tr>\n",
       "  </tbody>\n",
       "</table>\n",
       "<p>100 rows × 5 columns</p>\n",
       "</div>"
      ],
      "text/plain": [
       "           MAE        RMSE      Loss  RegLoss  epoch\n",
       "0   158.331055  197.168106  0.586985      0.0      0\n",
       "1   113.386574  140.580231  0.385110      0.0      1\n",
       "2    75.951683   95.445808  0.227304      0.0      2\n",
       "3    46.168411   64.693993  0.114862      0.0      3\n",
       "4    32.689163   52.622894  0.075022      0.0      4\n",
       "..         ...         ...       ...      ...    ...\n",
       "95   10.330038   14.363979  0.008549      0.0     95\n",
       "96   10.271096   14.163336  0.008471      0.0     96\n",
       "97   10.306903   14.202788  0.008470      0.0     97\n",
       "98   10.282552   14.120143  0.008439      0.0     98\n",
       "99   10.334795   14.288158  0.008633      0.0     99\n",
       "\n",
       "[100 rows x 5 columns]"
      ]
     },
     "execution_count": 101,
     "metadata": {},
     "output_type": "execute_result"
    }
   ],
   "source": [
    "model = NeuralProphet()\n",
    "model.fit(stocks)"
   ]
  },
  {
   "cell_type": "code",
   "execution_count": 102,
   "id": "4a71d916-a9ce-40b5-82a3-684bc7a13c65",
   "metadata": {
    "tags": []
   },
   "outputs": [
    {
     "name": "stderr",
     "output_type": "stream",
     "text": [
      "WARNING - (py.warnings._showwarnmsg) - f:\\trend_prediction\\prediction\\lib\\site-packages\\neuralprophet\\df_utils.py:1152: FutureWarning:\n",
      "\n",
      "Series.view is deprecated and will be removed in a future version. Use ``astype`` as an alternative to change the dtype.\n",
      "\n",
      "\n",
      "INFO - (NP.df_utils._infer_frequency) - Major frequency D corresponds to 99.927% of the data.\n",
      "WARNING - (py.warnings._showwarnmsg) - f:\\trend_prediction\\prediction\\lib\\site-packages\\neuralprophet\\df_utils.py:1152: FutureWarning:\n",
      "\n",
      "Series.view is deprecated and will be removed in a future version. Use ``astype`` as an alternative to change the dtype.\n",
      "\n",
      "\n",
      "WARNING - (py.warnings._showwarnmsg) - f:\\trend_prediction\\prediction\\lib\\site-packages\\neuralprophet\\df_utils.py:1152: FutureWarning:\n",
      "\n",
      "Series.view is deprecated and will be removed in a future version. Use ``astype`` as an alternative to change the dtype.\n",
      "\n",
      "\n",
      "INFO - (NP.df_utils._infer_frequency) - Defined frequency is equal to major frequency - D\n",
      "INFO - (NP.df_utils.return_df_in_original_format) - Returning df with no ID column\n",
      "WARNING - (py.warnings._showwarnmsg) - f:\\trend_prediction\\prediction\\lib\\site-packages\\neuralprophet\\df_utils.py:1152: FutureWarning:\n",
      "\n",
      "Series.view is deprecated and will be removed in a future version. Use ``astype`` as an alternative to change the dtype.\n",
      "\n",
      "\n",
      "INFO - (NP.df_utils._infer_frequency) - Major frequency D corresponds to 99.667% of the data.\n",
      "WARNING - (py.warnings._showwarnmsg) - f:\\trend_prediction\\prediction\\lib\\site-packages\\neuralprophet\\df_utils.py:1152: FutureWarning:\n",
      "\n",
      "Series.view is deprecated and will be removed in a future version. Use ``astype`` as an alternative to change the dtype.\n",
      "\n",
      "\n",
      "WARNING - (py.warnings._showwarnmsg) - f:\\trend_prediction\\prediction\\lib\\site-packages\\neuralprophet\\df_utils.py:1152: FutureWarning:\n",
      "\n",
      "Series.view is deprecated and will be removed in a future version. Use ``astype`` as an alternative to change the dtype.\n",
      "\n",
      "\n",
      "INFO - (NP.df_utils._infer_frequency) - Defined frequency is equal to major frequency - D\n",
      "WARNING - (py.warnings._showwarnmsg) - f:\\trend_prediction\\prediction\\lib\\site-packages\\neuralprophet\\df_utils.py:1152: FutureWarning:\n",
      "\n",
      "Series.view is deprecated and will be removed in a future version. Use ``astype`` as an alternative to change the dtype.\n",
      "\n",
      "\n",
      "INFO - (NP.df_utils._infer_frequency) - Major frequency D corresponds to 99.667% of the data.\n",
      "WARNING - (py.warnings._showwarnmsg) - f:\\trend_prediction\\prediction\\lib\\site-packages\\neuralprophet\\df_utils.py:1152: FutureWarning:\n",
      "\n",
      "Series.view is deprecated and will be removed in a future version. Use ``astype`` as an alternative to change the dtype.\n",
      "\n",
      "\n",
      "WARNING - (py.warnings._showwarnmsg) - f:\\trend_prediction\\prediction\\lib\\site-packages\\neuralprophet\\df_utils.py:1152: FutureWarning:\n",
      "\n",
      "Series.view is deprecated and will be removed in a future version. Use ``astype`` as an alternative to change the dtype.\n",
      "\n",
      "\n",
      "INFO - (NP.df_utils._infer_frequency) - Defined frequency is equal to major frequency - D\n"
     ]
    },
    {
     "name": "stdout",
     "output_type": "stream",
     "text": [
      "Predicting DataLoader 0: 100%|██████████| 1/1 [00:00<00:00, 500.33it/s] "
     ]
    },
    {
     "name": "stderr",
     "output_type": "stream",
     "text": [
      "INFO - (NP.df_utils.return_df_in_original_format) - Returning df with no ID column\n",
      "WARNING - (py.warnings._showwarnmsg) - f:\\trend_prediction\\prediction\\lib\\site-packages\\neuralprophet\\df_utils.py:1152: FutureWarning:\n",
      "\n",
      "Series.view is deprecated and will be removed in a future version. Use ``astype`` as an alternative to change the dtype.\n",
      "\n",
      "\n",
      "INFO - (NP.df_utils._infer_frequency) - Major frequency D corresponds to 99.927% of the data.\n",
      "WARNING - (py.warnings._showwarnmsg) - f:\\trend_prediction\\prediction\\lib\\site-packages\\neuralprophet\\df_utils.py:1152: FutureWarning:\n",
      "\n",
      "Series.view is deprecated and will be removed in a future version. Use ``astype`` as an alternative to change the dtype.\n",
      "\n",
      "\n",
      "WARNING - (py.warnings._showwarnmsg) - f:\\trend_prediction\\prediction\\lib\\site-packages\\neuralprophet\\df_utils.py:1152: FutureWarning:\n",
      "\n",
      "Series.view is deprecated and will be removed in a future version. Use ``astype`` as an alternative to change the dtype.\n",
      "\n",
      "\n",
      "INFO - (NP.df_utils._infer_frequency) - Defined frequency is equal to major frequency - D\n",
      "WARNING - (py.warnings._showwarnmsg) - f:\\trend_prediction\\prediction\\lib\\site-packages\\neuralprophet\\df_utils.py:1152: FutureWarning:\n",
      "\n",
      "Series.view is deprecated and will be removed in a future version. Use ``astype`` as an alternative to change the dtype.\n",
      "\n",
      "\n",
      "INFO - (NP.df_utils._infer_frequency) - Major frequency D corresponds to 99.927% of the data.\n",
      "WARNING - (py.warnings._showwarnmsg) - f:\\trend_prediction\\prediction\\lib\\site-packages\\neuralprophet\\df_utils.py:1152: FutureWarning:\n",
      "\n",
      "Series.view is deprecated and will be removed in a future version. Use ``astype`` as an alternative to change the dtype.\n",
      "\n",
      "\n",
      "WARNING - (py.warnings._showwarnmsg) - f:\\trend_prediction\\prediction\\lib\\site-packages\\neuralprophet\\df_utils.py:1152: FutureWarning:\n",
      "\n",
      "Series.view is deprecated and will be removed in a future version. Use ``astype`` as an alternative to change the dtype.\n",
      "\n",
      "\n",
      "INFO - (NP.df_utils._infer_frequency) - Defined frequency is equal to major frequency - D\n"
     ]
    },
    {
     "name": "stdout",
     "output_type": "stream",
     "text": [
      "\n",
      "Predicting DataLoader 0: 100%|██████████| 2/2 [00:00<00:00, 375.78it/s]"
     ]
    },
    {
     "name": "stderr",
     "output_type": "stream",
     "text": [
      "INFO - (NP.df_utils.return_df_in_original_format) - Returning df with no ID column\n"
     ]
    },
    {
     "name": "stdout",
     "output_type": "stream",
     "text": [
      "\n"
     ]
    },
    {
     "data": {
      "image/png": "[encoded data removed]",
      "text/plain": [
       "<Figure size 640x480 with 1 Axes>"
      ]
     },
     "metadata": {},
     "output_type": "display_data"
    }
   ],
   "source": [
    "future = model.make_future_dataframe(stocks, periods = 300)\n",
    "\n",
    "forecast = model.predict(future)\n",
    "actual_prediction = model.predict(stocks)\n",
    "actual_prediction['ds'] = pd.to_datetime(actual_prediction['ds'])\n",
    "forecast['ds'] = pd.to_datetime(forecast['ds'])\n",
    "stocks['ds'] = pd.to_datetime(stocks['ds'])\n",
    "\n",
    "plt.plot(actual_prediction['ds'], actual_prediction['yhat1'], label = 'prediction_Actual', c='r')\n",
    "plt.plot(forecast['ds'], forecast['yhat1'], label = 'future_prediction', c='b')\n",
    "plt.plot(stocks['ds'], stocks['y'], label = 'actual', c = 'g')\n",
    "plt.legend()\n",
    "plt.show()"
   ]
  },
  {
   "cell_type": "code",
   "execution_count": 103,
   "id": "71560810",
   "metadata": {},
   "outputs": [
    {
     "name": "stderr",
     "output_type": "stream",
     "text": [
      "ERROR - (NP.plotly.plot_components) - plotly-resampler is not installed. Please install it to use the resampler.\n",
      "WARNING - (py.warnings._showwarnmsg) - f:\\trend_prediction\\prediction\\lib\\site-packages\\neuralprophet\\plot_forecast_plotly.py:283: FutureWarning:\n",
      "\n",
      "Downcasting object dtype arrays on .fillna, .ffill, .bfill is deprecated and will change in a future version. Call result.infer_objects(copy=False) instead. To opt-in to the future behavior, set `pd.set_option('future.no_silent_downcasting', True)`\n",
      "\n",
      "\n",
      "WARNING - (py.warnings._showwarnmsg) - f:\\trend_prediction\\prediction\\lib\\site-packages\\neuralprophet\\plot_forecast_plotly.py:410: FutureWarning:\n",
      "\n",
      "The behavior of DatetimeProperties.to_pydatetime is deprecated, in a future version this will return a Series containing python datetime objects instead of an ndarray. To retain the old behavior, call `np.array` on the result\n",
      "\n",
      "\n"
     ]
    },
    {
     "data": {
      "application/vnd.plotly.v1+json": {
       "config": {
        "plotlyServerURL": "https://plot.ly"
       },
       "data": [
        {
         "line": {
          "color": "#2d92ff",
          "width": 2
         },
         "mode": "lines",
         "name": "Trend",
         "showlegend": false,
         "type": "scatter",
         "x": [
          "2024-01-01T00:00:00",
          "2024-01-02T00:00:00",
          "2024-01-03T00:00:00",
          "2024-01-04T00:00:00",
          "2024-01-05T00:00:00",
          "2024-01-06T00:00:00",
          "2024-01-07T00:00:00",
          "2024-01-08T00:00:00",
          "2024-01-09T00:00:00",
          "2024-01-10T00:00:00",
          "2024-01-11T00:00:00",
          "2024-01-12T00:00:00",
          "2024-01-13T00:00:00",
          "2024-01-14T00:00:00",
          "2024-01-15T00:00:00",
          "2024-01-16T00:00:00",
          "2024-01-17T00:00:00",
          "2024-01-18T00:00:00",
          "2024-01-19T00:00:00",
          "2024-01-20T00:00:00",
          "2024-01-21T00:00:00",
          "2024-01-22T00:00:00",
          "2024-01-23T00:00:00",
          "2024-01-24T00:00:00",
          "2024-01-25T00:00:00",
          "2024-01-26T00:00:00",
          "2024-01-27T00:00:00",
          "2024-01-28T00:00:00",
          "2024-01-29T00:00:00",
          "2024-01-30T00:00:00",
          "2024-01-31T00:00:00",
          "2024-02-01T00:00:00",
          "2024-02-02T00:00:00",
          "2024-02-03T00:00:00",
          "2024-02-04T00:00:00",
          "2024-02-05T00:00:00",
          "2024-02-06T00:00:00",
          "2024-02-07T00:00:00",
          "2024-02-08T00:00:00",
          "2024-02-09T00:00:00",
          "2024-02-10T00:00:00",
          "2024-02-11T00:00:00",
          "2024-02-12T00:00:00",
          "2024-02-13T00:00:00",
          "2024-02-14T00:00:00",
          "2024-02-15T00:00:00",
          "2024-02-16T00:00:00",
          "2024-02-17T00:00:00",
          "2024-02-18T00:00:00",
          "2024-02-19T00:00:00",
          "2024-02-20T00:00:00",
          "2024-02-21T00:00:00",
          "2024-02-22T00:00:00",
          "2024-02-23T00:00:00",
          "2024-02-24T00:00:00",
          "2024-02-25T00:00:00",
          "2024-02-26T00:00:00",
          "2024-02-27T00:00:00",
          "2024-02-28T00:00:00",
          "2024-02-29T00:00:00",
          "2024-03-01T00:00:00",
          "2024-03-02T00:00:00",
          "2024-03-03T00:00:00",
          "2024-03-04T00:00:00",
          "2024-03-05T00:00:00",
          "2024-03-06T00:00:00",
          "2024-03-07T00:00:00",
          "2024-03-08T00:00:00",
          "2024-03-09T00:00:00",
          "2024-03-10T00:00:00",
          "2024-03-11T00:00:00",
          "2024-03-12T00:00:00",
          "2024-03-13T00:00:00",
          "2024-03-14T00:00:00",
          "2024-03-15T00:00:00",
          "2024-03-16T00:00:00",
          "2024-03-17T00:00:00",
          "2024-03-18T00:00:00",
          "2024-03-19T00:00:00",
          "2024-03-20T00:00:00",
          "2024-03-21T00:00:00",
          "2024-03-22T00:00:00",
          "2024-03-23T00:00:00",
          "2024-03-24T00:00:00",
          "2024-03-25T00:00:00",
          "2024-03-26T00:00:00",
          "2024-03-27T00:00:00",
          "2024-03-28T00:00:00",
          "2024-03-29T00:00:00",
          "2024-03-30T00:00:00",
          "2024-03-31T00:00:00",
          "2024-04-01T00:00:00",
          "2024-04-02T00:00:00",
          "2024-04-03T00:00:00",
          "2024-04-04T00:00:00",
          "2024-04-05T00:00:00",
          "2024-04-06T00:00:00",
          "2024-04-07T00:00:00",
          "2024-04-08T00:00:00",
          "2024-04-09T00:00:00",
          "2024-04-10T00:00:00",
          "2024-04-11T00:00:00",
          "2024-04-12T00:00:00",
          "2024-04-13T00:00:00",
          "2024-04-14T00:00:00",
          "2024-04-15T00:00:00",
          "2024-04-16T00:00:00",
          "2024-04-17T00:00:00",
          "2024-04-18T00:00:00",
          "2024-04-19T00:00:00",
          "2024-04-20T00:00:00",
          "2024-04-21T00:00:00",
          "2024-04-22T00:00:00",
          "2024-04-23T00:00:00",
          "2024-04-24T00:00:00",
          "2024-04-25T00:00:00",
          "2024-04-26T00:00:00",
          "2024-04-27T00:00:00",
          "2024-04-28T00:00:00",
          "2024-04-29T00:00:00",
          "2024-04-30T00:00:00",
          "2024-05-01T00:00:00",
          "2024-05-02T00:00:00",
          "2024-05-03T00:00:00",
          "2024-05-04T00:00:00",
          "2024-05-05T00:00:00",
          "2024-05-06T00:00:00",
          "2024-05-07T00:00:00",
          "2024-05-08T00:00:00",
          "2024-05-09T00:00:00",
          "2024-05-10T00:00:00",
          "2024-05-11T00:00:00",
          "2024-05-12T00:00:00",
          "2024-05-13T00:00:00",
          "2024-05-14T00:00:00",
          "2024-05-15T00:00:00",
          "2024-05-16T00:00:00",
          "2024-05-17T00:00:00",
          "2024-05-18T00:00:00",
          "2024-05-19T00:00:00",
          "2024-05-20T00:00:00",
          "2024-05-21T00:00:00",
          "2024-05-22T00:00:00",
          "2024-05-23T00:00:00",
          "2024-05-24T00:00:00",
          "2024-05-25T00:00:00",
          "2024-05-26T00:00:00",
          "2024-05-27T00:00:00",
          "2024-05-28T00:00:00",
          "2024-05-29T00:00:00",
          "2024-05-30T00:00:00",
          "2024-05-31T00:00:00",
          "2024-06-01T00:00:00",
          "2024-06-02T00:00:00",
          "2024-06-03T00:00:00",
          "2024-06-04T00:00:00",
          "2024-06-05T00:00:00",
          "2024-06-06T00:00:00",
          "2024-06-07T00:00:00",
          "2024-06-08T00:00:00",
          "2024-06-09T00:00:00",
          "2024-06-10T00:00:00",
          "2024-06-11T00:00:00",
          "2024-06-12T00:00:00",
          "2024-06-13T00:00:00",
          "2024-06-14T00:00:00",
          "2024-06-15T00:00:00",
          "2024-06-16T00:00:00",
          "2024-06-17T00:00:00",
          "2024-06-18T00:00:00",
          "2024-06-19T00:00:00",
          "2024-06-20T00:00:00",
          "2024-06-21T00:00:00",
          "2024-06-22T00:00:00",
          "2024-06-23T00:00:00",
          "2024-06-24T00:00:00",
          "2024-06-25T00:00:00",
          "2024-06-26T00:00:00",
          "2024-06-27T00:00:00",
          "2024-06-28T00:00:00",
          "2024-06-29T00:00:00",
          "2024-06-30T00:00:00",
          "2024-07-01T00:00:00",
          "2024-07-02T00:00:00",
          "2024-07-03T00:00:00",
          "2024-07-04T00:00:00",
          "2024-07-05T00:00:00",
          "2024-07-06T00:00:00",
          "2024-07-07T00:00:00",
          "2024-07-08T00:00:00",
          "2024-07-09T00:00:00",
          "2024-07-10T00:00:00",
          "2024-07-11T00:00:00",
          "2024-07-12T00:00:00",
          "2024-07-13T00:00:00",
          "2024-07-14T00:00:00",
          "2024-07-15T00:00:00",
          "2024-07-16T00:00:00",
          "2024-07-17T00:00:00",
          "2024-07-18T00:00:00",
          "2024-07-19T00:00:00",
          "2024-07-20T00:00:00",
          "2024-07-21T00:00:00",
          "2024-07-22T00:00:00",
          "2024-07-23T00:00:00",
          "2024-07-24T00:00:00",
          "2024-07-25T00:00:00",
          "2024-07-26T00:00:00",
          "2024-07-27T00:00:00",
          "2024-07-28T00:00:00",
          "2024-07-29T00:00:00",
          "2024-07-30T00:00:00",
          "2024-07-31T00:00:00",
          "2024-08-01T00:00:00",
          "2024-08-02T00:00:00",
          "2024-08-03T00:00:00",
          "2024-08-04T00:00:00",
          "2024-08-05T00:00:00",
          "2024-08-06T00:00:00",
          "2024-08-07T00:00:00",
          "2024-08-08T00:00:00",
          "2024-08-09T00:00:00",
          "2024-08-10T00:00:00",
          "2024-08-11T00:00:00",
          "2024-08-12T00:00:00",
          "2024-08-13T00:00:00",
          "2024-08-14T00:00:00",
          "2024-08-15T00:00:00",
          "2024-08-16T00:00:00",
          "2024-08-17T00:00:00",
          "2024-08-18T00:00:00",
          "2024-08-19T00:00:00",
          "2024-08-20T00:00:00",
          "2024-08-21T00:00:00",
          "2024-08-22T00:00:00",
          "2024-08-23T00:00:00",
          "2024-08-24T00:00:00",
          "2024-08-25T00:00:00",
          "2024-08-26T00:00:00",
          "2024-08-27T00:00:00",
          "2024-08-28T00:00:00",
          "2024-08-29T00:00:00",
          "2024-08-30T00:00:00",
          "2024-08-31T00:00:00",
          "2024-09-01T00:00:00",
          "2024-09-02T00:00:00",
          "2024-09-03T00:00:00",
          "2024-09-04T00:00:00",
          "2024-09-05T00:00:00",
          "2024-09-06T00:00:00",
          "2024-09-07T00:00:00",
          "2024-09-08T00:00:00",
          "2024-09-09T00:00:00",
          "2024-09-10T00:00:00",
          "2024-09-11T00:00:00",
          "2024-09-12T00:00:00",
          "2024-09-13T00:00:00",
          "2024-09-14T00:00:00",
          "2024-09-15T00:00:00",
          "2024-09-16T00:00:00",
          "2024-09-17T00:00:00",
          "2024-09-18T00:00:00",
          "2024-09-19T00:00:00",
          "2024-09-20T00:00:00",
          "2024-09-21T00:00:00",
          "2024-09-22T00:00:00",
          "2024-09-23T00:00:00",
          "2024-09-24T00:00:00",
          "2024-09-25T00:00:00",
          "2024-09-26T00:00:00",
          "2024-09-27T00:00:00",
          "2024-09-28T00:00:00",
          "2024-09-29T00:00:00",
          "2024-09-30T00:00:00",
          "2024-10-01T00:00:00",
          "2024-10-02T00:00:00",
          "2024-10-03T00:00:00",
          "2024-10-04T00:00:00",
          "2024-10-05T00:00:00",
          "2024-10-06T00:00:00",
          "2024-10-07T00:00:00",
          "2024-10-08T00:00:00",
          "2024-10-09T00:00:00",
          "2024-10-10T00:00:00",
          "2024-10-11T00:00:00",
          "2024-10-12T00:00:00",
          "2024-10-13T00:00:00",
          "2024-10-14T00:00:00",
          "2024-10-15T00:00:00",
          "2024-10-16T00:00:00",
          "2024-10-17T00:00:00",
          "2024-10-18T00:00:00",
          "2024-10-19T00:00:00",
          "2024-10-20T00:00:00",
          "2024-10-21T00:00:00",
          "2024-10-22T00:00:00",
          "2024-10-23T00:00:00",
          "2024-10-24T00:00:00",
          "2024-10-25T00:00:00",
          "2024-10-26T00:00:00"
         ],
         "xaxis": "x",
         "y": [
          51.24245071411133,
          51.36592102050781,
          51.4893913269043,
          51.61286163330078,
          51.736331939697266,
          51.859825134277344,
          51.98329544067383,
          52.10676574707031,
          52.2302360534668,
          52.35370635986328,
          52.477169036865234,
          52.60063934326172,
          52.7241096496582,
          52.84757995605469,
          52.97105026245117,
          53.09454345703125,
          53.218013763427734,
          53.34148406982422,
          53.4649543762207,
          53.58842468261719,
          53.71189498901367,
          53.835365295410156,
          53.958839416503906,
          54.08230972290039,
          54.205780029296875,
          54.32925033569336,
          54.45274353027344,
          54.57621383666992,
          54.699684143066406,
          54.82315444946289,
          54.94661331176758,
          55.07008743286133,
          55.19355773925781,
          55.3170280456543,
          55.44049835205078,
          55.563968658447266,
          55.68743896484375,
          55.81093215942383,
          55.93440246582031,
          56.0578727722168,
          56.18134307861328,
          56.304813385009766,
          56.42828369140625,
          56.5517578125,
          56.675228118896484,
          56.79869842529297,
          56.92216873168945,
          57.04566192626953,
          57.169132232666016,
          57.2926025390625,
          57.416072845458984,
          57.53953170776367,
          57.663002014160156,
          57.786476135253906,
          57.90994644165039,
          58.033416748046875,
          58.15688705444336,
          58.280357360839844,
          58.40385055541992,
          58.527320861816406,
          58.65080261230469,
          58.77425003051758,
          58.89772033691406,
          59.02119445800781,
          59.1446647644043,
          59.26813507080078,
          59.391605377197266,
          59.51507568359375,
          59.638545989990234,
          59.76203918457031,
          59.8855094909668,
          60.00897979736328,
          60.132450103759766,
          60.25592041015625,
          60.37939453125,
          60.502864837646484,
          60.62633514404297,
          60.74980545043945,
          60.87327575683594,
          60.996768951416016,
          61.1202392578125,
          61.243709564208984,
          61.36717987060547,
          61.49065017700195,
          61.61412048339844,
          61.73759078979492,
          61.86106491088867,
          61.984535217285156,
          62.10800552368164,
          62.231475830078125,
          62.3549690246582,
          62.47843933105469,
          62.60190963745117,
          62.725379943847656,
          62.84885025024414,
          62.972320556640625,
          63.09579086303711,
          63.219261169433594,
          63.342735290527344,
          63.46620559692383,
          63.58969497680664,
          63.713165283203125,
          63.83661651611328,
          63.960086822509766,
          64.08355712890625,
          64.20702362060547,
          64.33049774169922,
          64.45397186279297,
          64.57743835449219,
          64.70091247558594,
          64.82438659667969,
          64.9478759765625,
          65.07134246826172,
          65.19481658935547,
          65.31829071044922,
          65.44175720214844,
          65.56523132324219,
          65.6886978149414,
          65.81217193603516,
          65.93563842773438,
          66.05911254882812,
          66.18258666992188,
          66.30607604980469,
          66.4295425415039,
          66.55301666259766,
          66.6764907836914,
          66.79995727539062,
          66.92343139648438,
          67.0468978881836,
          67.17037200927734,
          67.29383850097656,
          67.41731262207031,
          67.54080200195312,
          67.66427612304688,
          67.7877426147461,
          67.91121673583984,
          68.03468322753906,
          68.15815734863281,
          68.28163146972656,
          68.40509796142578,
          68.52857208251953,
          68.65203857421875,
          68.7755126953125,
          68.89897918701172,
          69.02245330810547,
          69.14592742919922,
          69.26939392089844,
          69.39286804199219,
          69.5163345336914,
          69.63980865478516,
          69.76327514648438,
          69.88674926757812,
          70.01022338867188,
          70.1336898803711,
          70.2571792602539,
          70.38065338134766,
          70.5041275024414,
          70.62759399414062,
          70.75106811523438,
          70.8745346069336,
          70.99800872802734,
          71.12147521972656,
          71.24494934082031,
          71.36841583251953,
          71.49191284179688,
          71.6153793334961,
          71.73885345458984,
          71.86231994628906,
          71.98579406738281,
          72.10926818847656,
          72.23273468017578,
          72.35620880126953,
          72.47967529296875,
          72.6031494140625,
          72.72661590576172,
          72.85011291503906,
          72.97357940673828,
          73.09705352783203,
          73.22052001953125,
          73.343994140625,
          73.46746826171875,
          73.59093475341797,
          73.71440887451172,
          73.83787536621094,
          73.96134948730469,
          74.0848159790039,
          74.20829010009766,
          74.33175659179688,
          74.45523071289062,
          74.57870483398438,
          74.7021713256836,
          74.82564544677734,
          74.94911193847656,
          75.07258605957031,
          75.19605255126953,
          75.31952667236328,
          75.4430160522461,
          75.56649017333984,
          75.68995666503906,
          75.81343078613281,
          75.93690490722656,
          76.06037139892578,
          76.18384552001953,
          76.30731201171875,
          76.4307861328125,
          76.55425262451172,
          76.67772674560547,
          76.80121612548828,
          76.92469024658203,
          77.04815673828125,
          77.171630859375,
          77.29510498046875,
          77.41857147216797,
          77.54204559326172,
          77.66551208496094,
          77.78898620605469,
          77.9124526977539,
          78.03594970703125,
          78.15941619873047,
          78.28289031982422,
          78.40635681152344,
          78.52983093261719,
          78.6532974243164,
          78.77677154541016,
          78.9002456665039,
          79.02371215820312,
          79.14718627929688,
          79.27063751220703,
          79.39412689208984,
          79.51759338378906,
          79.64106750488281,
          79.76454162597656,
          79.88800811767578,
          80.01148223876953,
          80.13494873046875,
          80.2584228515625,
          80.38188934326172,
          80.50536346435547,
          80.62883758544922,
          80.75232696533203,
          80.87579345703125,
          80.999267578125,
          81.12274169921875,
          81.24620819091797,
          81.36968231201172,
          81.49314880371094,
          81.61662292480469,
          81.7400894165039,
          81.86356353759766,
          81.98705291748047,
          82.11052703857422,
          82.23399353027344,
          82.35746765136719,
          82.4809341430664,
          82.60440826416016,
          82.7278823852539,
          82.85134887695312,
          82.97482299804688,
          83.0982894897461,
          83.22176361083984,
          83.34525299072266,
          83.4687271118164,
          83.59219360351562,
          83.71566772460938,
          83.8391342163086,
          83.96260833740234,
          84.0860824584961,
          84.20954895019531,
          84.33300018310547,
          84.45646667480469,
          84.57996368408203,
          84.70343017578125,
          84.826904296875,
          84.95037078857422,
          85.07384490966797,
          85.19731903076172,
          85.32078552246094,
          85.44425964355469,
          85.5677261352539,
          85.69120025634766,
          85.81466674804688,
          85.93816375732422,
          86.06163024902344,
          86.18510437011719,
          86.3085708618164,
          86.43204498291016,
          86.5555191040039,
          86.67898559570312,
          86.80245971679688,
          86.9259262084961,
          87.04940032958984,
          87.17286682128906,
          87.2963638305664,
          87.41983032226562,
          87.54330444335938,
          87.6667709350586,
          87.79024505615234,
          87.9137191772461,
          88.03718566894531,
          88.16065979003906
         ],
         "yaxis": "y"
        },
        {
         "line": {
          "color": "#2d92ff",
          "width": 2
         },
         "mode": "lines",
         "name": "yearly seasonality",
         "showlegend": false,
         "type": "scatter",
         "x": [
          "2024-01-01T00:00:00",
          "2024-01-02T00:00:00",
          "2024-01-03T00:00:00",
          "2024-01-04T00:00:00",
          "2024-01-05T00:00:00",
          "2024-01-06T00:00:00",
          "2024-01-07T00:00:00",
          "2024-01-08T00:00:00",
          "2024-01-09T00:00:00",
          "2024-01-10T00:00:00",
          "2024-01-11T00:00:00",
          "2024-01-12T00:00:00",
          "2024-01-13T00:00:00",
          "2024-01-14T00:00:00",
          "2024-01-15T00:00:00",
          "2024-01-16T00:00:00",
          "2024-01-17T00:00:00",
          "2024-01-18T00:00:00",
          "2024-01-19T00:00:00",
          "2024-01-20T00:00:00",
          "2024-01-21T00:00:00",
          "2024-01-22T00:00:00",
          "2024-01-23T00:00:00",
          "2024-01-24T00:00:00",
          "2024-01-25T00:00:00",
          "2024-01-26T00:00:00",
          "2024-01-27T00:00:00",
          "2024-01-28T00:00:00",
          "2024-01-29T00:00:00",
          "2024-01-30T00:00:00",
          "2024-01-31T00:00:00",
          "2024-02-01T00:00:00",
          "2024-02-02T00:00:00",
          "2024-02-03T00:00:00",
          "2024-02-04T00:00:00",
          "2024-02-05T00:00:00",
          "2024-02-06T00:00:00",
          "2024-02-07T00:00:00",
          "2024-02-08T00:00:00",
          "2024-02-09T00:00:00",
          "2024-02-10T00:00:00",
          "2024-02-11T00:00:00",
          "2024-02-12T00:00:00",
          "2024-02-13T00:00:00",
          "2024-02-14T00:00:00",
          "2024-02-15T00:00:00",
          "2024-02-16T00:00:00",
          "2024-02-17T00:00:00",
          "2024-02-18T00:00:00",
          "2024-02-19T00:00:00",
          "2024-02-20T00:00:00",
          "2024-02-21T00:00:00",
          "2024-02-22T00:00:00",
          "2024-02-23T00:00:00",
          "2024-02-24T00:00:00",
          "2024-02-25T00:00:00",
          "2024-02-26T00:00:00",
          "2024-02-27T00:00:00",
          "2024-02-28T00:00:00",
          "2024-02-29T00:00:00",
          "2024-03-01T00:00:00",
          "2024-03-02T00:00:00",
          "2024-03-03T00:00:00",
          "2024-03-04T00:00:00",
          "2024-03-05T00:00:00",
          "2024-03-06T00:00:00",
          "2024-03-07T00:00:00",
          "2024-03-08T00:00:00",
          "2024-03-09T00:00:00",
          "2024-03-10T00:00:00",
          "2024-03-11T00:00:00",
          "2024-03-12T00:00:00",
          "2024-03-13T00:00:00",
          "2024-03-14T00:00:00",
          "2024-03-15T00:00:00",
          "2024-03-16T00:00:00",
          "2024-03-17T00:00:00",
          "2024-03-18T00:00:00",
          "2024-03-19T00:00:00",
          "2024-03-20T00:00:00",
          "2024-03-21T00:00:00",
          "2024-03-22T00:00:00",
          "2024-03-23T00:00:00",
          "2024-03-24T00:00:00",
          "2024-03-25T00:00:00",
          "2024-03-26T00:00:00",
          "2024-03-27T00:00:00",
          "2024-03-28T00:00:00",
          "2024-03-29T00:00:00",
          "2024-03-30T00:00:00",
          "2024-03-31T00:00:00",
          "2024-04-01T00:00:00",
          "2024-04-02T00:00:00",
          "2024-04-03T00:00:00",
          "2024-04-04T00:00:00",
          "2024-04-05T00:00:00",
          "2024-04-06T00:00:00",
          "2024-04-07T00:00:00",
          "2024-04-08T00:00:00",
          "2024-04-09T00:00:00",
          "2024-04-10T00:00:00",
          "2024-04-11T00:00:00",
          "2024-04-12T00:00:00",
          "2024-04-13T00:00:00",
          "2024-04-14T00:00:00",
          "2024-04-15T00:00:00",
          "2024-04-16T00:00:00",
          "2024-04-17T00:00:00",
          "2024-04-18T00:00:00",
          "2024-04-19T00:00:00",
          "2024-04-20T00:00:00",
          "2024-04-21T00:00:00",
          "2024-04-22T00:00:00",
          "2024-04-23T00:00:00",
          "2024-04-24T00:00:00",
          "2024-04-25T00:00:00",
          "2024-04-26T00:00:00",
          "2024-04-27T00:00:00",
          "2024-04-28T00:00:00",
          "2024-04-29T00:00:00",
          "2024-04-30T00:00:00",
          "2024-05-01T00:00:00",
          "2024-05-02T00:00:00",
          "2024-05-03T00:00:00",
          "2024-05-04T00:00:00",
          "2024-05-05T00:00:00",
          "2024-05-06T00:00:00",
          "2024-05-07T00:00:00",
          "2024-05-08T00:00:00",
          "2024-05-09T00:00:00",
          "2024-05-10T00:00:00",
          "2024-05-11T00:00:00",
          "2024-05-12T00:00:00",
          "2024-05-13T00:00:00",
          "2024-05-14T00:00:00",
          "2024-05-15T00:00:00",
          "2024-05-16T00:00:00",
          "2024-05-17T00:00:00",
          "2024-05-18T00:00:00",
          "2024-05-19T00:00:00",
          "2024-05-20T00:00:00",
          "2024-05-21T00:00:00",
          "2024-05-22T00:00:00",
          "2024-05-23T00:00:00",
          "2024-05-24T00:00:00",
          "2024-05-25T00:00:00",
          "2024-05-26T00:00:00",
          "2024-05-27T00:00:00",
          "2024-05-28T00:00:00",
          "2024-05-29T00:00:00",
          "2024-05-30T00:00:00",
          "2024-05-31T00:00:00",
          "2024-06-01T00:00:00",
          "2024-06-02T00:00:00",
          "2024-06-03T00:00:00",
          "2024-06-04T00:00:00",
          "2024-06-05T00:00:00",
          "2024-06-06T00:00:00",
          "2024-06-07T00:00:00",
          "2024-06-08T00:00:00",
          "2024-06-09T00:00:00",
          "2024-06-10T00:00:00",
          "2024-06-11T00:00:00",
          "2024-06-12T00:00:00",
          "2024-06-13T00:00:00",
          "2024-06-14T00:00:00",
          "2024-06-15T00:00:00",
          "2024-06-16T00:00:00",
          "2024-06-17T00:00:00",
          "2024-06-18T00:00:00",
          "2024-06-19T00:00:00",
          "2024-06-20T00:00:00",
          "2024-06-21T00:00:00",
          "2024-06-22T00:00:00",
          "2024-06-23T00:00:00",
          "2024-06-24T00:00:00",
          "2024-06-25T00:00:00",
          "2024-06-26T00:00:00",
          "2024-06-27T00:00:00",
          "2024-06-28T00:00:00",
          "2024-06-29T00:00:00",
          "2024-06-30T00:00:00",
          "2024-07-01T00:00:00",
          "2024-07-02T00:00:00",
          "2024-07-03T00:00:00",
          "2024-07-04T00:00:00",
          "2024-07-05T00:00:00",
          "2024-07-06T00:00:00",
          "2024-07-07T00:00:00",
          "2024-07-08T00:00:00",
          "2024-07-09T00:00:00",
          "2024-07-10T00:00:00",
          "2024-07-11T00:00:00",
          "2024-07-12T00:00:00",
          "2024-07-13T00:00:00",
          "2024-07-14T00:00:00",
          "2024-07-15T00:00:00",
          "2024-07-16T00:00:00",
          "2024-07-17T00:00:00",
          "2024-07-18T00:00:00",
          "2024-07-19T00:00:00",
          "2024-07-20T00:00:00",
          "2024-07-21T00:00:00",
          "2024-07-22T00:00:00",
          "2024-07-23T00:00:00",
          "2024-07-24T00:00:00",
          "2024-07-25T00:00:00",
          "2024-07-26T00:00:00",
          "2024-07-27T00:00:00",
          "2024-07-28T00:00:00",
          "2024-07-29T00:00:00",
          "2024-07-30T00:00:00",
          "2024-07-31T00:00:00",
          "2024-08-01T00:00:00",
          "2024-08-02T00:00:00",
          "2024-08-03T00:00:00",
          "2024-08-04T00:00:00",
          "2024-08-05T00:00:00",
          "2024-08-06T00:00:00",
          "2024-08-07T00:00:00",
          "2024-08-08T00:00:00",
          "2024-08-09T00:00:00",
          "2024-08-10T00:00:00",
          "2024-08-11T00:00:00",
          "2024-08-12T00:00:00",
          "2024-08-13T00:00:00",
          "2024-08-14T00:00:00",
          "2024-08-15T00:00:00",
          "2024-08-16T00:00:00",
          "2024-08-17T00:00:00",
          "2024-08-18T00:00:00",
          "2024-08-19T00:00:00",
          "2024-08-20T00:00:00",
          "2024-08-21T00:00:00",
          "2024-08-22T00:00:00",
          "2024-08-23T00:00:00",
          "2024-08-24T00:00:00",
          "2024-08-25T00:00:00",
          "2024-08-26T00:00:00",
          "2024-08-27T00:00:00",
          "2024-08-28T00:00:00",
          "2024-08-29T00:00:00",
          "2024-08-30T00:00:00",
          "2024-08-31T00:00:00",
          "2024-09-01T00:00:00",
          "2024-09-02T00:00:00",
          "2024-09-03T00:00:00",
          "2024-09-04T00:00:00",
          "2024-09-05T00:00:00",
          "2024-09-06T00:00:00",
          "2024-09-07T00:00:00",
          "2024-09-08T00:00:00",
          "2024-09-09T00:00:00",
          "2024-09-10T00:00:00",
          "2024-09-11T00:00:00",
          "2024-09-12T00:00:00",
          "2024-09-13T00:00:00",
          "2024-09-14T00:00:00",
          "2024-09-15T00:00:00",
          "2024-09-16T00:00:00",
          "2024-09-17T00:00:00",
          "2024-09-18T00:00:00",
          "2024-09-19T00:00:00",
          "2024-09-20T00:00:00",
          "2024-09-21T00:00:00",
          "2024-09-22T00:00:00",
          "2024-09-23T00:00:00",
          "2024-09-24T00:00:00",
          "2024-09-25T00:00:00",
          "2024-09-26T00:00:00",
          "2024-09-27T00:00:00",
          "2024-09-28T00:00:00",
          "2024-09-29T00:00:00",
          "2024-09-30T00:00:00",
          "2024-10-01T00:00:00",
          "2024-10-02T00:00:00",
          "2024-10-03T00:00:00",
          "2024-10-04T00:00:00",
          "2024-10-05T00:00:00",
          "2024-10-06T00:00:00",
          "2024-10-07T00:00:00",
          "2024-10-08T00:00:00",
          "2024-10-09T00:00:00",
          "2024-10-10T00:00:00",
          "2024-10-11T00:00:00",
          "2024-10-12T00:00:00",
          "2024-10-13T00:00:00",
          "2024-10-14T00:00:00",
          "2024-10-15T00:00:00",
          "2024-10-16T00:00:00",
          "2024-10-17T00:00:00",
          "2024-10-18T00:00:00",
          "2024-10-19T00:00:00",
          "2024-10-20T00:00:00",
          "2024-10-21T00:00:00",
          "2024-10-22T00:00:00",
          "2024-10-23T00:00:00",
          "2024-10-24T00:00:00",
          "2024-10-25T00:00:00",
          "2024-10-26T00:00:00"
         ],
         "xaxis": "x2",
         "y": [
          13.55457878112793,
          13.333468437194824,
          13.083911895751953,
          12.8068208694458,
          12.502179145812988,
          12.170832633972168,
          11.81300163269043,
          11.430253028869629,
          11.024494171142578,
          10.596163749694824,
          10.147705078125,
          9.681400299072266,
          9.198017120361328,
          8.701035499572754,
          8.192240715026855,
          7.6753106117248535,
          7.151128768920898,
          6.622580528259277,
          6.093337059020996,
          5.566102504730225,
          5.042431831359863,
          4.5265092849731445,
          4.019802570343018,
          3.524423122406006,
          3.0449111461639404,
          2.5821053981781006,
          2.138232946395874,
          1.7161232233047485,
          1.316849708557129,
          0.9431118965148926,
          0.5959566235542297,
          0.276946485042572,
          -0.013375994749367237,
          -0.27332940697669983,
          -0.5030223727226257,
          -0.7010335326194763,
          -0.8677484393119812,
          -1.0026997327804565,
          -1.1067308187484741,
          -1.1794646978378296,
          -1.2220197916030884,
          -1.2352097034454346,
          -1.2197223901748657,
          -1.1769639253616333,
          -1.1076678037643433,
          -1.0138869285583496,
          -0.8968215584754944,
          -0.7584935426712036,
          -0.600110650062561,
          -0.4238794445991516,
          -0.23059287667274475,
          -0.023471659049391747,
          0.19654500484466553,
          0.4269646108150482,
          0.666709840297699,
          0.914257287979126,
          1.166751742362976,
          1.4236594438552856,
          1.6833966970443726,
          1.944192886352539,
          2.2054715156555176,
          2.4652228355407715,
          2.7230465412139893,
          2.978058338165283,
          3.2294726371765137,
          3.476799726486206,
          3.7198641300201416,
          3.9576303958892822,
          4.190650463104248,
          4.418591022491455,
          4.641791343688965,
          4.86029577255249,
          5.074447154998779,
          5.284327983856201,
          5.490720272064209,
          5.694124698638916,
          5.89474630355835,
          6.093402862548828,
          6.290651321411133,
          6.4869232177734375,
          6.682287693023682,
          6.878231048583984,
          7.074395656585693,
          7.270847797393799,
          7.468557357788086,
          7.667367458343506,
          7.866822242736816,
          8.067584037780762,
          8.268826484680176,
          8.470296859741211,
          8.671465873718262,
          8.871618270874023,
          9.06987190246582,
          9.265761375427246,
          9.457329750061035,
          9.643784523010254,
          9.823662757873535,
          9.995211601257324,
          10.157815933227539,
          10.308249473571777,
          10.445385932922363,
          10.567974090576172,
          10.672996520996094,
          10.759075164794922,
          10.824787139892578,
          10.867389678955078,
          10.885043144226074,
          10.8762845993042,
          10.839180946350098,
          10.77241039276123,
          10.673789024353027,
          10.541349411010742,
          10.375795364379883,
          10.174168586730957,
          9.936901092529297,
          9.66235637664795,
          9.350187301635742,
          9.000922203063965,
          8.613729476928711,
          8.189044952392578,
          7.727472305297852,
          7.230489253997803,
          6.697753429412842,
          6.131781101226807,
          5.533631801605225,
          4.904463291168213,
          4.247664451599121,
          3.5637805461883545,
          2.8567543029785156,
          2.1282155513763428,
          1.3816367387771606,
          0.6189725399017334,
          -0.1548292189836502,
          -0.9383218288421631,
          -1.7283060550689697,
          -2.5198159217834473,
          -3.312739610671997,
          -4.0989251136779785,
          -4.87938117980957,
          -5.648177146911621,
          -6.403738021850586,
          -7.143088340759277,
          -7.862693786621094,
          -8.559828758239746,
          -9.230494499206543,
          -9.87524700164795,
          -10.48993968963623,
          -11.07385540008545,
          -11.624629974365234,
          -12.140555381774902,
          -12.620892524719238,
          -13.065058708190918,
          -13.473898887634277,
          -13.844070434570312,
          -14.17843246459961,
          -14.476557731628418,
          -14.738652229309082,
          -14.965938568115234,
          -15.16016960144043,
          -15.322400093078613,
          -15.453950881958008,
          -15.558021545410156,
          -15.635276794433594,
          -15.689679145812988,
          -15.721992492675781,
          -15.735932350158691,
          -15.73386001586914,
          -15.718695640563965,
          -15.692973136901855,
          -15.659177780151367,
          -15.621581077575684,
          -15.581239700317383,
          -15.541418075561523,
          -15.504886627197266,
          -15.472972869873047,
          -15.449993133544922,
          -15.435763359069824,
          -15.43359088897705,
          -15.444808006286621,
          -15.470410346984863,
          -15.512092590332031,
          -15.570219039916992,
          -15.645731925964355,
          -15.738690376281738,
          -15.849090576171875,
          -15.976510047912598,
          -16.120996475219727,
          -16.28148651123047,
          -16.456525802612305,
          -16.64458465576172,
          -16.844545364379883,
          -17.05450439453125,
          -17.272071838378906,
          -17.495145797729492,
          -17.721261978149414,
          -17.948261260986328,
          -18.17238426208496,
          -18.392196655273438,
          -18.60384750366211,
          -18.804824829101562,
          -18.99251365661621,
          -19.163875579833984,
          -19.315933227539062,
          -19.446456909179688,
          -19.552734375,
          -19.632068634033203,
          -19.682655334472656,
          -19.702171325683594,
          -19.689245223999023,
          -19.641845703125,
          -19.558839797973633,
          -19.439237594604492,
          -19.282283782958984,
          -19.087921142578125,
          -18.85546112060547,
          -18.5852108001709,
          -18.278274536132812,
          -17.934221267700195,
          -17.55570411682129,
          -17.143075942993164,
          -16.69805145263672,
          -16.223848342895508,
          -15.721159934997559,
          -15.193157196044922,
          -14.64193058013916,
          -14.071836471557617,
          -13.48401927947998,
          -12.88298511505127,
          -12.271279335021973,
          -11.652387619018555,
          -11.030904769897461,
          -10.4083251953125,
          -9.788782119750977,
          -9.175793647766113,
          -8.573410034179688,
          -7.983561992645264,
          -7.409543991088867,
          -6.855144023895264,
          -6.3213348388671875,
          -5.812592506408691,
          -5.32844877243042,
          -4.874025344848633,
          -4.448736667633057,
          -4.055709362030029,
          -3.693861961364746,
          -3.3655645847320557,
          -3.0716710090637207,
          -2.8102242946624756,
          -2.58292293548584,
          -2.3887863159179688,
          -2.227890968322754,
          -2.096567153930664,
          -1.9959349632263184,
          -1.9244258403778076,
          -1.8783024549484253,
          -1.8573118448257446,
          -1.8553714752197266,
          -1.8753488063812256,
          -1.9111214876174927,
          -1.9604060649871826,
          -2.021597146987915,
          -2.088496685028076,
          -2.1618263721466064,
          -2.234952211380005,
          -2.3076095581054688,
          -2.3753843307495117,
          -2.43672513961792,
          -2.486985445022583,
          -2.522765874862671,
          -2.544780731201172,
          -2.547856330871582,
          -2.5311572551727295,
          -2.4907727241516113,
          -2.427173137664795,
          -2.3377349376678467,
          -2.222254753112793,
          -2.0782909393310547,
          -1.9057660102844238,
          -1.7049307823181152,
          -1.4747613668441772,
          -1.2157504558563232,
          -0.9285750985145569,
          -0.6144892573356628,
          -0.27326226234436035,
          0.09318727999925613,
          0.48260819911956787,
          0.8947691917419434,
          1.3265970945358276,
          1.7772880792617798,
          2.2427420616149902,
          2.7215867042541504,
          3.211143732070923,
          3.709455728530884,
          4.213354587554932,
          4.719146728515625,
          5.226199150085449,
          5.730845928192139,
          6.230356693267822,
          6.722229957580566,
          7.203856468200684
         ],
         "yaxis": "y2"
        },
        {
         "line": {
          "color": "#2d92ff",
          "width": 2
         },
         "mode": "lines",
         "name": "weekly seasonality",
         "showlegend": false,
         "type": "scatter",
         "x": [
          "2024-01-01T00:00:00",
          "2024-01-02T00:00:00",
          "2024-01-03T00:00:00",
          "2024-01-04T00:00:00",
          "2024-01-05T00:00:00",
          "2024-01-06T00:00:00",
          "2024-01-07T00:00:00",
          "2024-01-08T00:00:00",
          "2024-01-09T00:00:00",
          "2024-01-10T00:00:00",
          "2024-01-11T00:00:00",
          "2024-01-12T00:00:00",
          "2024-01-13T00:00:00",
          "2024-01-14T00:00:00",
          "2024-01-15T00:00:00",
          "2024-01-16T00:00:00",
          "2024-01-17T00:00:00",
          "2024-01-18T00:00:00",
          "2024-01-19T00:00:00",
          "2024-01-20T00:00:00",
          "2024-01-21T00:00:00",
          "2024-01-22T00:00:00",
          "2024-01-23T00:00:00",
          "2024-01-24T00:00:00",
          "2024-01-25T00:00:00",
          "2024-01-26T00:00:00",
          "2024-01-27T00:00:00",
          "2024-01-28T00:00:00",
          "2024-01-29T00:00:00",
          "2024-01-30T00:00:00",
          "2024-01-31T00:00:00",
          "2024-02-01T00:00:00",
          "2024-02-02T00:00:00",
          "2024-02-03T00:00:00",
          "2024-02-04T00:00:00",
          "2024-02-05T00:00:00",
          "2024-02-06T00:00:00",
          "2024-02-07T00:00:00",
          "2024-02-08T00:00:00",
          "2024-02-09T00:00:00",
          "2024-02-10T00:00:00",
          "2024-02-11T00:00:00",
          "2024-02-12T00:00:00",
          "2024-02-13T00:00:00",
          "2024-02-14T00:00:00",
          "2024-02-15T00:00:00",
          "2024-02-16T00:00:00",
          "2024-02-17T00:00:00",
          "2024-02-18T00:00:00",
          "2024-02-19T00:00:00",
          "2024-02-20T00:00:00",
          "2024-02-21T00:00:00",
          "2024-02-22T00:00:00",
          "2024-02-23T00:00:00",
          "2024-02-24T00:00:00",
          "2024-02-25T00:00:00",
          "2024-02-26T00:00:00",
          "2024-02-27T00:00:00",
          "2024-02-28T00:00:00",
          "2024-02-29T00:00:00",
          "2024-03-01T00:00:00",
          "2024-03-02T00:00:00",
          "2024-03-03T00:00:00",
          "2024-03-04T00:00:00",
          "2024-03-05T00:00:00",
          "2024-03-06T00:00:00",
          "2024-03-07T00:00:00",
          "2024-03-08T00:00:00",
          "2024-03-09T00:00:00",
          "2024-03-10T00:00:00",
          "2024-03-11T00:00:00",
          "2024-03-12T00:00:00",
          "2024-03-13T00:00:00",
          "2024-03-14T00:00:00",
          "2024-03-15T00:00:00",
          "2024-03-16T00:00:00",
          "2024-03-17T00:00:00",
          "2024-03-18T00:00:00",
          "2024-03-19T00:00:00",
          "2024-03-20T00:00:00",
          "2024-03-21T00:00:00",
          "2024-03-22T00:00:00",
          "2024-03-23T00:00:00",
          "2024-03-24T00:00:00",
          "2024-03-25T00:00:00",
          "2024-03-26T00:00:00",
          "2024-03-27T00:00:00",
          "2024-03-28T00:00:00",
          "2024-03-29T00:00:00",
          "2024-03-30T00:00:00",
          "2024-03-31T00:00:00",
          "2024-04-01T00:00:00",
          "2024-04-02T00:00:00",
          "2024-04-03T00:00:00",
          "2024-04-04T00:00:00",
          "2024-04-05T00:00:00",
          "2024-04-06T00:00:00",
          "2024-04-07T00:00:00",
          "2024-04-08T00:00:00",
          "2024-04-09T00:00:00",
          "2024-04-10T00:00:00",
          "2024-04-11T00:00:00",
          "2024-04-12T00:00:00",
          "2024-04-13T00:00:00",
          "2024-04-14T00:00:00",
          "2024-04-15T00:00:00",
          "2024-04-16T00:00:00",
          "2024-04-17T00:00:00",
          "2024-04-18T00:00:00",
          "2024-04-19T00:00:00",
          "2024-04-20T00:00:00",
          "2024-04-21T00:00:00",
          "2024-04-22T00:00:00",
          "2024-04-23T00:00:00",
          "2024-04-24T00:00:00",
          "2024-04-25T00:00:00",
          "2024-04-26T00:00:00",
          "2024-04-27T00:00:00",
          "2024-04-28T00:00:00",
          "2024-04-29T00:00:00",
          "2024-04-30T00:00:00",
          "2024-05-01T00:00:00",
          "2024-05-02T00:00:00",
          "2024-05-03T00:00:00",
          "2024-05-04T00:00:00",
          "2024-05-05T00:00:00",
          "2024-05-06T00:00:00",
          "2024-05-07T00:00:00",
          "2024-05-08T00:00:00",
          "2024-05-09T00:00:00",
          "2024-05-10T00:00:00",
          "2024-05-11T00:00:00",
          "2024-05-12T00:00:00",
          "2024-05-13T00:00:00",
          "2024-05-14T00:00:00",
          "2024-05-15T00:00:00",
          "2024-05-16T00:00:00",
          "2024-05-17T00:00:00",
          "2024-05-18T00:00:00",
          "2024-05-19T00:00:00",
          "2024-05-20T00:00:00",
          "2024-05-21T00:00:00",
          "2024-05-22T00:00:00",
          "2024-05-23T00:00:00",
          "2024-05-24T00:00:00",
          "2024-05-25T00:00:00",
          "2024-05-26T00:00:00",
          "2024-05-27T00:00:00",
          "2024-05-28T00:00:00",
          "2024-05-29T00:00:00",
          "2024-05-30T00:00:00",
          "2024-05-31T00:00:00",
          "2024-06-01T00:00:00",
          "2024-06-02T00:00:00",
          "2024-06-03T00:00:00",
          "2024-06-04T00:00:00",
          "2024-06-05T00:00:00",
          "2024-06-06T00:00:00",
          "2024-06-07T00:00:00",
          "2024-06-08T00:00:00",
          "2024-06-09T00:00:00",
          "2024-06-10T00:00:00",
          "2024-06-11T00:00:00",
          "2024-06-12T00:00:00",
          "2024-06-13T00:00:00",
          "2024-06-14T00:00:00",
          "2024-06-15T00:00:00",
          "2024-06-16T00:00:00",
          "2024-06-17T00:00:00",
          "2024-06-18T00:00:00",
          "2024-06-19T00:00:00",
          "2024-06-20T00:00:00",
          "2024-06-21T00:00:00",
          "2024-06-22T00:00:00",
          "2024-06-23T00:00:00",
          "2024-06-24T00:00:00",
          "2024-06-25T00:00:00",
          "2024-06-26T00:00:00",
          "2024-06-27T00:00:00",
          "2024-06-28T00:00:00",
          "2024-06-29T00:00:00",
          "2024-06-30T00:00:00",
          "2024-07-01T00:00:00",
          "2024-07-02T00:00:00",
          "2024-07-03T00:00:00",
          "2024-07-04T00:00:00",
          "2024-07-05T00:00:00",
          "2024-07-06T00:00:00",
          "2024-07-07T00:00:00",
          "2024-07-08T00:00:00",
          "2024-07-09T00:00:00",
          "2024-07-10T00:00:00",
          "2024-07-11T00:00:00",
          "2024-07-12T00:00:00",
          "2024-07-13T00:00:00",
          "2024-07-14T00:00:00",
          "2024-07-15T00:00:00",
          "2024-07-16T00:00:00",
          "2024-07-17T00:00:00",
          "2024-07-18T00:00:00",
          "2024-07-19T00:00:00",
          "2024-07-20T00:00:00",
          "2024-07-21T00:00:00",
          "2024-07-22T00:00:00",
          "2024-07-23T00:00:00",
          "2024-07-24T00:00:00",
          "2024-07-25T00:00:00",
          "2024-07-26T00:00:00",
          "2024-07-27T00:00:00",
          "2024-07-28T00:00:00",
          "2024-07-29T00:00:00",
          "2024-07-30T00:00:00",
          "2024-07-31T00:00:00",
          "2024-08-01T00:00:00",
          "2024-08-02T00:00:00",
          "2024-08-03T00:00:00",
          "2024-08-04T00:00:00",
          "2024-08-05T00:00:00",
          "2024-08-06T00:00:00",
          "2024-08-07T00:00:00",
          "2024-08-08T00:00:00",
          "2024-08-09T00:00:00",
          "2024-08-10T00:00:00",
          "2024-08-11T00:00:00",
          "2024-08-12T00:00:00",
          "2024-08-13T00:00:00",
          "2024-08-14T00:00:00",
          "2024-08-15T00:00:00",
          "2024-08-16T00:00:00",
          "2024-08-17T00:00:00",
          "2024-08-18T00:00:00",
          "2024-08-19T00:00:00",
          "2024-08-20T00:00:00",
          "2024-08-21T00:00:00",
          "2024-08-22T00:00:00",
          "2024-08-23T00:00:00",
          "2024-08-24T00:00:00",
          "2024-08-25T00:00:00",
          "2024-08-26T00:00:00",
          "2024-08-27T00:00:00",
          "2024-08-28T00:00:00",
          "2024-08-29T00:00:00",
          "2024-08-30T00:00:00",
          "2024-08-31T00:00:00",
          "2024-09-01T00:00:00",
          "2024-09-02T00:00:00",
          "2024-09-03T00:00:00",
          "2024-09-04T00:00:00",
          "2024-09-05T00:00:00",
          "2024-09-06T00:00:00",
          "2024-09-07T00:00:00",
          "2024-09-08T00:00:00",
          "2024-09-09T00:00:00",
          "2024-09-10T00:00:00",
          "2024-09-11T00:00:00",
          "2024-09-12T00:00:00",
          "2024-09-13T00:00:00",
          "2024-09-14T00:00:00",
          "2024-09-15T00:00:00",
          "2024-09-16T00:00:00",
          "2024-09-17T00:00:00",
          "2024-09-18T00:00:00",
          "2024-09-19T00:00:00",
          "2024-09-20T00:00:00",
          "2024-09-21T00:00:00",
          "2024-09-22T00:00:00",
          "2024-09-23T00:00:00",
          "2024-09-24T00:00:00",
          "2024-09-25T00:00:00",
          "2024-09-26T00:00:00",
          "2024-09-27T00:00:00",
          "2024-09-28T00:00:00",
          "2024-09-29T00:00:00",
          "2024-09-30T00:00:00",
          "2024-10-01T00:00:00",
          "2024-10-02T00:00:00",
          "2024-10-03T00:00:00",
          "2024-10-04T00:00:00",
          "2024-10-05T00:00:00",
          "2024-10-06T00:00:00",
          "2024-10-07T00:00:00",
          "2024-10-08T00:00:00",
          "2024-10-09T00:00:00",
          "2024-10-10T00:00:00",
          "2024-10-11T00:00:00",
          "2024-10-12T00:00:00",
          "2024-10-13T00:00:00",
          "2024-10-14T00:00:00",
          "2024-10-15T00:00:00",
          "2024-10-16T00:00:00",
          "2024-10-17T00:00:00",
          "2024-10-18T00:00:00",
          "2024-10-19T00:00:00",
          "2024-10-20T00:00:00",
          "2024-10-21T00:00:00",
          "2024-10-22T00:00:00",
          "2024-10-23T00:00:00",
          "2024-10-24T00:00:00",
          "2024-10-25T00:00:00",
          "2024-10-26T00:00:00"
         ],
         "xaxis": "x3",
         "y": [
          0.44704774022102356,
          -0.5958563089370728,
          -0.26636675000190735,
          0.224257692694664,
          -0.12269914895296097,
          -0.15229390561580658,
          0.46509096026420593,
          0.44701242446899414,
          -0.5958160161972046,
          -0.2662373483181,
          0.22440502047538757,
          -0.12286311388015747,
          -0.1513044238090515,
          0.4651886522769928,
          0.44701308012008667,
          -0.5958796739578247,
          -0.266331285238266,
          0.22401967644691467,
          -0.12271218746900558,
          -0.15116353332996368,
          0.4651174247264862,
          0.44697779417037964,
          -0.5969589948654175,
          -0.266201913356781,
          0.2241670936346054,
          -0.12287616729736328,
          -0.1510227769613266,
          0.4652150571346283,
          0.4469420909881592,
          -0.5959029793739319,
          -0.2662959098815918,
          0.22454853355884552,
          -0.1230401024222374,
          -0.15226787328720093,
          0.46531298756599426,
          0.446943074464798,
          -0.5958626866340637,
          -0.2663900852203369,
          0.224696084856987,
          -0.12257427722215652,
          -0.1512782871723175,
          0.46524152159690857,
          0.4469437897205353,
          -0.5958220958709717,
          -0.26603737473487854,
          0.22401198744773865,
          -0.12273827195167542,
          -0.1511373668909073,
          0.4651702344417572,
          0.4469442367553711,
          -0.5971090793609619,
          -0.26613110303878784,
          0.224159374833107,
          -0.1229022666811943,
          -0.150996595621109,
          0.46526798605918884,
          0.446872740983963,
          -0.595949649810791,
          -0.26622506976127625,
          0.2245405912399292,
          -0.12275131046772003,
          -0.15224190056324005,
          0.4653659462928772,
          0.4468737840652466,
          -0.5959094166755676,
          -0.2663191854953766,
          0.2243891805410385,
          -0.12291529774665833,
          -0.1512521505355835,
          0.46529442071914673,
          0.4468745291233063,
          -0.5959729552268982,
          -0.2661896347999573,
          0.22430305182933807,
          -0.12276437878608704,
          -0.1511112004518509,
          0.46522313356399536,
          0.4468391239643097,
          -0.5970519185066223,
          -0.2662837505340576,
          0.22415167093276978,
          -0.12292834371328354,
          -0.15123899281024933,
          0.4653208255767822,
          0.446839839220047,
          -0.5958921909332275,
          -0.2661542296409607,
          0.22423389554023743,
          -0.12277743965387344,
          -0.15221595764160156,
          0.46524950861930847,
          0.4468403458595276,
          -0.595956027507782,
          -0.2660248875617981,
          0.22414779663085938,
          -0.12294139713048935,
          -0.15095731616020203,
          0.4651784598827362,
          0.4486120343208313,
          -0.5960195660591125,
          -0.26611876487731934,
          0.22429533302783966,
          -0.12310533970594406,
          -0.15081669390201569,
          0.465445339679718,
          0.44676971435546875,
          -0.5959793925285339,
          -0.26621291041374207,
          0.22444288432598114,
          -0.12263946235179901,
          -0.15233084559440613,
          0.465373694896698,
          0.446770578622818,
          -0.5959388613700867,
          -0.26608335971832275,
          0.22422601282596588,
          -0.12280348688364029,
          -0.1521899402141571,
          0.46530237793922424,
          0.4467710256576538,
          -0.5960026979446411,
          -0.26595407724380493,
          0.22414012253284454,
          -0.12296748906373978,
          -0.15093111991882324,
          0.4654001295566559,
          0.44857943058013916,
          -0.5960661768913269,
          -0.26604795455932617,
          0.22428756952285767,
          -0.12281651049852371,
          -0.15105880796909332,
          0.46532875299453735,
          0.44670039415359497,
          -0.5960259437561035,
          -0.2661420404911041,
          0.22413623332977295,
          -0.1229805201292038,
          -0.1520361602306366,
          0.4654265344142914,
          0.44670116901397705,
          -0.5960894823074341,
          -0.2660125195980072,
          0.22451676428318024,
          -0.12314446270465851,
          -0.15216395258903503,
          0.46535518765449524,
          0.4466656744480133,
          -0.5960493087768555,
          -0.26610660552978516,
          0.22443123161792755,
          -0.12299355864524841,
          -0.15117362141609192,
          0.46545302867889404,
          0.44851022958755493,
          -0.596008837223053,
          -0.2662009000778198,
          0.2239810973405838,
          -0.12284260988235474,
          -0.15103262662887573,
          0.4653816223144531,
          0.4466671049594879,
          -0.5959681272506714,
          -0.2658478319644928,
          0.22412846982479095,
          -0.12300659716129303,
          -0.15201014280319214,
          0.4653104543685913,
          0.4465951919555664,
          -0.5961361527442932,
          -0.26594167947769165,
          0.22450877726078033,
          -0.12317056208848953,
          -0.1518695056438446,
          0.46557751297950745,
          0.4465963542461395,
          -0.5960959196090698,
          -0.2660357356071472,
          0.22442343831062317,
          -0.12301964312791824,
          -0.15114744007587433,
          0.4655058681964874,
          0.4484410583972931,
          -0.5960555076599121,
          -0.2659062445163727,
          0.22427204251289368,
          -0.12286867946386337,
          -0.15100641548633575,
          0.4654344618320465,
          0.44659778475761414,
          -0.5961192846298218,
          -0.26600030064582825,
          0.22412075102329254,
          -0.12303268909454346,
          -0.15198412537574768,
          0.46553224325180054,
          0.4465625584125519,
          -0.5960788726806641,
          -0.2658708393573761,
          0.22450080513954163,
          -0.12288171052932739,
          -0.1521119326353073,
          0.465460866689682,
          0.44656315445899963,
          -0.5961425304412842,
          -0.26596489548683167,
          0.22411687672138214,
          -0.12304572016000748,
          -0.15085247159004211,
          0.4653896689414978,
          0.44837188720703125,
          -0.5962059497833252,
          -0.26583540439605713,
          0.22426429390907288,
          -0.12320969253778458,
          -0.15183041989803314,
          0.4654872417449951,
          0.4464922547340393,
          -0.5961658358573914,
          -0.26753485202789307,
          0.22441183030605316,
          -0.1233736053109169,
          -0.15222692489624023,
          0.4655851125717163,
          0.4464931786060333,
          -0.5961254835128784,
          -0.2660236656665802,
          0.22396180033683777,
          -0.12290777266025543,
          -0.15208591520786285,
          0.4655136168003082,
          0.44833794236183167,
          -0.5960848331451416,
          -0.2656707763671875,
          0.22410911321640015,
          -0.12307179719209671,
          -0.15082623064517975,
          0.4654424786567688,
          0.448302686214447,
          -0.5962525010108948,
          -0.26576459407806396,
          0.22425653040409088,
          -0.12323576211929321,
          -0.15207287669181824,
          0.4655401110649109,
          0.44642284512519836,
          -0.5962124466896057,
          -0.2674640715122223,
          0.22440406680107117,
          -0.12308482825756073,
          -0.15193206071853638,
          0.4656379520893097,
          0.44642382860183716,
          -0.5961721539497375,
          -0.2657291889190674,
          0.2242526412010193,
          -0.12324877828359604,
          -0.152059867978096,
          0.465566486120224,
          0.4482688009738922,
          -0.5962356925010681,
          -0.2658231258392334,
          0.22440016269683838,
          -0.12309785932302475,
          -0.15080001950263977,
          0.4656643867492676,
          0.4482335150241852,
          -0.5961953401565552,
          -0.2659173607826233,
          0.2242487668991089,
          -0.12294687330722809,
          -0.15204688906669617,
          0.4655928611755371,
          0.4463897943496704,
          -0.5961548089981079,
          -0.2673932909965515,
          0.22409746050834656,
          -0.12311088293790817,
          -0.15190604329109192,
          0.4655216336250305,
          0.4463902413845062,
          -0.5963222980499268,
          -0.26565831899642944,
          0.2242448478937149,
          -0.12327486276626587,
          -0.15176528692245483,
          0.465450644493103,
          0.448163241147995,
          -0.5962823033332825,
          -0.26575225591659546,
          0.2243923395872116,
          -0.12343880534172058,
          -0.15104268491268158,
          0.46571725606918335,
          0.44816428422927856,
          -0.5962420105934143,
          -0.26584646105766296,
          0.2242409586906433,
          -0.12297295033931732,
          -0.15202084183692932
         ],
         "yaxis": "y3"
        }
       ],
       "layout": {
        "autosize": true,
        "font": {
         "size": 10
        },
        "height": 630,
        "hovermode": "x unified",
        "legend": {
         "traceorder": "reversed",
         "y": 0.1
        },
        "margin": {
         "b": 0,
         "l": 0,
         "pad": 0,
         "r": 10,
         "t": 10
        },
        "template": {
         "data": {
          "bar": [
           {
            "error_x": {
             "color": "#2a3f5f"
            },
            "error_y": {
             "color": "#2a3f5f"
            },
            "marker": {
             "line": {
              "color": "white",
              "width": 0.5
             },
             "pattern": {
              "fillmode": "overlay",
              "size": 10,
              "solidity": 0.2
             }
            },
            "type": "bar"
           }
          ],
          "barpolar": [
           {
            "marker": {
             "line": {
              "color": "white",
              "width": 0.5
             },
             "pattern": {
              "fillmode": "overlay",
              "size": 10,
              "solidity": 0.2
             }
            },
            "type": "barpolar"
           }
          ],
          "carpet": [
           {
            "aaxis": {
             "endlinecolor": "#2a3f5f",
             "gridcolor": "#C8D4E3",
             "linecolor": "#C8D4E3",
             "minorgridcolor": "#C8D4E3",
             "startlinecolor": "#2a3f5f"
            },
            "baxis": {
             "endlinecolor": "#2a3f5f",
             "gridcolor": "#C8D4E3",
             "linecolor": "#C8D4E3",
             "minorgridcolor": "#C8D4E3",
             "startlinecolor": "#2a3f5f"
            },
            "type": "carpet"
           }
          ],
          "choropleth": [
           {
            "colorbar": {
             "outlinewidth": 0,
             "ticks": ""
            },
            "type": "choropleth"
           }
          ],
          "contour": [
           {
            "colorbar": {
             "outlinewidth": 0,
             "ticks": ""
            },
            "colorscale": [
             [
              0,
              "#0d0887"
             ],
             [
              0.1111111111111111,
              "#46039f"
             ],
             [
              0.2222222222222222,
              "#7201a8"
             ],
             [
              0.3333333333333333,
              "#9c179e"
             ],
             [
              0.4444444444444444,
              "#bd3786"
             ],
             [
              0.5555555555555556,
              "#d8576b"
             ],
             [
              0.6666666666666666,
              "#ed7953"
             ],
             [
              0.7777777777777778,
              "#fb9f3a"
             ],
             [
              0.8888888888888888,
              "#fdca26"
             ],
             [
              1,
              "#f0f921"
             ]
            ],
            "type": "contour"
           }
          ],
          "contourcarpet": [
           {
            "colorbar": {
             "outlinewidth": 0,
             "ticks": ""
            },
            "type": "contourcarpet"
           }
          ],
          "heatmap": [
           {
            "colorbar": {
             "outlinewidth": 0,
             "ticks": ""
            },
            "colorscale": [
             [
              0,
              "#0d0887"
             ],
             [
              0.1111111111111111,
              "#46039f"
             ],
             [
              0.2222222222222222,
              "#7201a8"
             ],
             [
              0.3333333333333333,
              "#9c179e"
             ],
             [
              0.4444444444444444,
              "#bd3786"
             ],
             [
              0.5555555555555556,
              "#d8576b"
             ],
             [
              0.6666666666666666,
              "#ed7953"
             ],
             [
              0.7777777777777778,
              "#fb9f3a"
             ],
             [
              0.8888888888888888,
              "#fdca26"
             ],
             [
              1,
              "#f0f921"
             ]
            ],
            "type": "heatmap"
           }
          ],
          "heatmapgl": [
           {
            "colorbar": {
             "outlinewidth": 0,
             "ticks": ""
            },
            "colorscale": [
             [
              0,
              "#0d0887"
             ],
             [
              0.1111111111111111,
              "#46039f"
             ],
             [
              0.2222222222222222,
              "#7201a8"
             ],
             [
              0.3333333333333333,
              "#9c179e"
             ],
             [
              0.4444444444444444,
              "#bd3786"
             ],
             [
              0.5555555555555556,
              "#d8576b"
             ],
             [
              0.6666666666666666,
              "#ed7953"
             ],
             [
              0.7777777777777778,
              "#fb9f3a"
             ],
             [
              0.8888888888888888,
              "#fdca26"
             ],
             [
              1,
              "#f0f921"
             ]
            ],
            "type": "heatmapgl"
           }
          ],
          "histogram": [
           {
            "marker": {
             "pattern": {
              "fillmode": "overlay",
              "size": 10,
              "solidity": 0.2
             }
            },
            "type": "histogram"
           }
          ],
          "histogram2d": [
           {
            "colorbar": {
             "outlinewidth": 0,
             "ticks": ""
            },
            "colorscale": [
             [
              0,
              "#0d0887"
             ],
             [
              0.1111111111111111,
              "#46039f"
             ],
             [
              0.2222222222222222,
              "#7201a8"
             ],
             [
              0.3333333333333333,
              "#9c179e"
             ],
             [
              0.4444444444444444,
              "#bd3786"
             ],
             [
              0.5555555555555556,
              "#d8576b"
             ],
             [
              0.6666666666666666,
              "#ed7953"
             ],
             [
              0.7777777777777778,
              "#fb9f3a"
             ],
             [
              0.8888888888888888,
              "#fdca26"
             ],
             [
              1,
              "#f0f921"
             ]
            ],
            "type": "histogram2d"
           }
          ],
          "histogram2dcontour": [
           {
            "colorbar": {
             "outlinewidth": 0,
             "ticks": ""
            },
            "colorscale": [
             [
              0,
              "#0d0887"
             ],
             [
              0.1111111111111111,
              "#46039f"
             ],
             [
              0.2222222222222222,
              "#7201a8"
             ],
             [
              0.3333333333333333,
              "#9c179e"
             ],
             [
              0.4444444444444444,
              "#bd3786"
             ],
             [
              0.5555555555555556,
              "#d8576b"
             ],
             [
              0.6666666666666666,
              "#ed7953"
             ],
             [
              0.7777777777777778,
              "#fb9f3a"
             ],
             [
              0.8888888888888888,
              "#fdca26"
             ],
             [
              1,
              "#f0f921"
             ]
            ],
            "type": "histogram2dcontour"
           }
          ],
          "mesh3d": [
           {
            "colorbar": {
             "outlinewidth": 0,
             "ticks": ""
            },
            "type": "mesh3d"
           }
          ],
          "parcoords": [
           {
            "line": {
             "colorbar": {
              "outlinewidth": 0,
              "ticks": ""
             }
            },
            "type": "parcoords"
           }
          ],
          "pie": [
           {
            "automargin": true,
            "type": "pie"
           }
          ],
          "scatter": [
           {
            "fillpattern": {
             "fillmode": "overlay",
             "size": 10,
             "solidity": 0.2
            },
            "type": "scatter"
           }
          ],
          "scatter3d": [
           {
            "line": {
             "colorbar": {
              "outlinewidth": 0,
              "ticks": ""
             }
            },
            "marker": {
             "colorbar": {
              "outlinewidth": 0,
              "ticks": ""
             }
            },
            "type": "scatter3d"
           }
          ],
          "scattercarpet": [
           {
            "marker": {
             "colorbar": {
              "outlinewidth": 0,
              "ticks": ""
             }
            },
            "type": "scattercarpet"
           }
          ],
          "scattergeo": [
           {
            "marker": {
             "colorbar": {
              "outlinewidth": 0,
              "ticks": ""
             }
            },
            "type": "scattergeo"
           }
          ],
          "scattergl": [
           {
            "marker": {
             "colorbar": {
              "outlinewidth": 0,
              "ticks": ""
             }
            },
            "type": "scattergl"
           }
          ],
          "scattermapbox": [
           {
            "marker": {
             "colorbar": {
              "outlinewidth": 0,
              "ticks": ""
             }
            },
            "type": "scattermapbox"
           }
          ],
          "scatterpolar": [
           {
            "marker": {
             "colorbar": {
              "outlinewidth": 0,
              "ticks": ""
             }
            },
            "type": "scatterpolar"
           }
          ],
          "scatterpolargl": [
           {
            "marker": {
             "colorbar": {
              "outlinewidth": 0,
              "ticks": ""
             }
            },
            "type": "scatterpolargl"
           }
          ],
          "scatterternary": [
           {
            "marker": {
             "colorbar": {
              "outlinewidth": 0,
              "ticks": ""
             }
            },
            "type": "scatterternary"
           }
          ],
          "surface": [
           {
            "colorbar": {
             "outlinewidth": 0,
             "ticks": ""
            },
            "colorscale": [
             [
              0,
              "#0d0887"
             ],
             [
              0.1111111111111111,
              "#46039f"
             ],
             [
              0.2222222222222222,
              "#7201a8"
             ],
             [
              0.3333333333333333,
              "#9c179e"
             ],
             [
              0.4444444444444444,
              "#bd3786"
             ],
             [
              0.5555555555555556,
              "#d8576b"
             ],
             [
              0.6666666666666666,
              "#ed7953"
             ],
             [
              0.7777777777777778,
              "#fb9f3a"
             ],
             [
              0.8888888888888888,
              "#fdca26"
             ],
             [
              1,
              "#f0f921"
             ]
            ],
            "type": "surface"
           }
          ],
          "table": [
           {
            "cells": {
             "fill": {
              "color": "#EBF0F8"
             },
             "line": {
              "color": "white"
             }
            },
            "header": {
             "fill": {
              "color": "#C8D4E3"
             },
             "line": {
              "color": "white"
             }
            },
            "type": "table"
           }
          ]
         },
         "layout": {
          "annotationdefaults": {
           "arrowcolor": "#2a3f5f",
           "arrowhead": 0,
           "arrowwidth": 1
          },
          "autotypenumbers": "strict",
          "coloraxis": {
           "colorbar": {
            "outlinewidth": 0,
            "ticks": ""
           }
          },
          "colorscale": {
           "diverging": [
            [
             0,
             "#8e0152"
            ],
            [
             0.1,
             "#c51b7d"
            ],
            [
             0.2,
             "#de77ae"
            ],
            [
             0.3,
             "#f1b6da"
            ],
            [
             0.4,
             "#fde0ef"
            ],
            [
             0.5,
             "#f7f7f7"
            ],
            [
             0.6,
             "#e6f5d0"
            ],
            [
             0.7,
             "#b8e186"
            ],
            [
             0.8,
             "#7fbc41"
            ],
            [
             0.9,
             "#4d9221"
            ],
            [
             1,
             "#276419"
            ]
           ],
           "sequential": [
            [
             0,
             "#0d0887"
            ],
            [
             0.1111111111111111,
             "#46039f"
            ],
            [
             0.2222222222222222,
             "#7201a8"
            ],
            [
             0.3333333333333333,
             "#9c179e"
            ],
            [
             0.4444444444444444,
             "#bd3786"
            ],
            [
             0.5555555555555556,
             "#d8576b"
            ],
            [
             0.6666666666666666,
             "#ed7953"
            ],
            [
             0.7777777777777778,
             "#fb9f3a"
            ],
            [
             0.8888888888888888,
             "#fdca26"
            ],
            [
             1,
             "#f0f921"
            ]
           ],
           "sequentialminus": [
            [
             0,
             "#0d0887"
            ],
            [
             0.1111111111111111,
             "#46039f"
            ],
            [
             0.2222222222222222,
             "#7201a8"
            ],
            [
             0.3333333333333333,
             "#9c179e"
            ],
            [
             0.4444444444444444,
             "#bd3786"
            ],
            [
             0.5555555555555556,
             "#d8576b"
            ],
            [
             0.6666666666666666,
             "#ed7953"
            ],
            [
             0.7777777777777778,
             "#fb9f3a"
            ],
            [
             0.8888888888888888,
             "#fdca26"
            ],
            [
             1,
             "#f0f921"
            ]
           ]
          },
          "colorway": [
           "#636efa",
           "#EF553B",
           "#00cc96",
           "#ab63fa",
           "#FFA15A",
           "#19d3f3",
           "#FF6692",
           "#B6E880",
           "#FF97FF",
           "#FECB52"
          ],
          "font": {
           "color": "#2a3f5f"
          },
          "geo": {
           "bgcolor": "white",
           "lakecolor": "white",
           "landcolor": "white",
           "showlakes": true,
           "showland": true,
           "subunitcolor": "#C8D4E3"
          },
          "hoverlabel": {
           "align": "left"
          },
          "hovermode": "closest",
          "mapbox": {
           "style": "light"
          },
          "paper_bgcolor": "white",
          "plot_bgcolor": "white",
          "polar": {
           "angularaxis": {
            "gridcolor": "#EBF0F8",
            "linecolor": "#EBF0F8",
            "ticks": ""
           },
           "bgcolor": "white",
           "radialaxis": {
            "gridcolor": "#EBF0F8",
            "linecolor": "#EBF0F8",
            "ticks": ""
           }
          },
          "scene": {
           "xaxis": {
            "backgroundcolor": "white",
            "gridcolor": "#DFE8F3",
            "gridwidth": 2,
            "linecolor": "#EBF0F8",
            "showbackground": true,
            "ticks": "",
            "zerolinecolor": "#EBF0F8"
           },
           "yaxis": {
            "backgroundcolor": "white",
            "gridcolor": "#DFE8F3",
            "gridwidth": 2,
            "linecolor": "#EBF0F8",
            "showbackground": true,
            "ticks": "",
            "zerolinecolor": "#EBF0F8"
           },
           "zaxis": {
            "backgroundcolor": "white",
            "gridcolor": "#DFE8F3",
            "gridwidth": 2,
            "linecolor": "#EBF0F8",
            "showbackground": true,
            "ticks": "",
            "zerolinecolor": "#EBF0F8"
           }
          },
          "shapedefaults": {
           "line": {
            "color": "#2a3f5f"
           }
          },
          "ternary": {
           "aaxis": {
            "gridcolor": "#DFE8F3",
            "linecolor": "#A2B1C6",
            "ticks": ""
           },
           "baxis": {
            "gridcolor": "#DFE8F3",
            "linecolor": "#A2B1C6",
            "ticks": ""
           },
           "bgcolor": "white",
           "caxis": {
            "gridcolor": "#DFE8F3",
            "linecolor": "#A2B1C6",
            "ticks": ""
           }
          },
          "title": {
           "x": 0.05
          },
          "xaxis": {
           "automargin": true,
           "gridcolor": "#EBF0F8",
           "linecolor": "#EBF0F8",
           "ticks": "",
           "title": {
            "standoff": 15
           },
           "zerolinecolor": "#EBF0F8",
           "zerolinewidth": 2
          },
          "yaxis": {
           "automargin": true,
           "gridcolor": "#EBF0F8",
           "linecolor": "#EBF0F8",
           "ticks": "",
           "title": {
            "standoff": 15
           },
           "zerolinecolor": "#EBF0F8",
           "zerolinewidth": 2
          }
         }
        },
        "title": {
         "font": {
          "size": 12
         }
        },
        "width": 700,
        "xaxis": {
         "anchor": "y",
         "domain": [
          0,
          1
         ],
         "linewidth": 1.5,
         "mirror": true,
         "range": [
          "2023-12-17T00:00:00",
          "2024-11-10T00:00:00"
         ],
         "showline": true,
         "title": {
          "text": "ds"
         },
         "type": "date"
        },
        "xaxis2": {
         "anchor": "y2",
         "domain": [
          0,
          1
         ],
         "linewidth": 1.5,
         "mirror": true,
         "range": [
          "2023-12-17T00:00:00",
          "2024-11-10T00:00:00"
         ],
         "showline": true,
         "title": {
          "text": "ds"
         },
         "type": "date"
        },
        "xaxis3": {
         "anchor": "y3",
         "domain": [
          0,
          1
         ],
         "linewidth": 1.5,
         "mirror": true,
         "range": [
          "2023-12-17T00:00:00",
          "2024-11-10T00:00:00"
         ],
         "showline": true,
         "title": {
          "text": "ds"
         },
         "type": "date"
        },
        "yaxis": {
         "anchor": "x",
         "domain": [
          0.7333333333333333,
          1
         ],
         "linewidth": 1.5,
         "mirror": true,
         "rangemode": "normal",
         "showline": true,
         "title": {
          "text": "Trend"
         }
        },
        "yaxis2": {
         "anchor": "x2",
         "domain": [
          0.36666666666666664,
          0.6333333333333333
         ],
         "linewidth": 1.5,
         "mirror": true,
         "rangemode": "tozero",
         "showline": true,
         "title": {
          "text": "yearly seasonality"
         }
        },
        "yaxis3": {
         "anchor": "x3",
         "domain": [
          0,
          0.26666666666666666
         ],
         "linewidth": 1.5,
         "mirror": true,
         "rangemode": "tozero",
         "showline": true,
         "title": {
          "text": "weekly seasonality"
         }
        }
       }
      }
     },
     "metadata": {},
     "output_type": "display_data"
    }
   ],
   "source": [
    "model.plot_components(forecast)"
   ]
  },
  {
   "cell_type": "code",
   "execution_count": null,
   "id": "d73ded53",
   "metadata": {},
   "outputs": [],
   "source": []
  }
 ],
 "metadata": {
  "kernelspec": {
   "display_name": "prediction",
   "language": "python",
   "name": "python3"
  },
  "language_info": {
   "codemirror_mode": {
    "name": "ipython",
    "version": 3
   },
   "file_extension": ".py",
   "mimetype": "text/x-python",
   "name": "python",
   "nbconvert_exporter": "python",
   "pygments_lexer": "ipython3",
   "version": "3.9.0"
  }
 },
 "nbformat": 4,
 "nbformat_minor": 5
}
