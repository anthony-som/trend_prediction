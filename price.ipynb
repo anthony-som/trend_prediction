{
 "cells": [
  {
   "cell_type": "code",
   "execution_count": null,
   "id": "5cf5ef63-b117-4ce3-98a9-ab6f079c2479",
   "metadata": {
    "tags": []
   },
   "outputs": [],
   "source": [
    "pip install yfinance neuralprophet"
   ]
  },
  {
   "cell_type": "code",
   "execution_count": 10,
   "id": "6e39ba33",
   "metadata": {},
   "outputs": [],
   "source": [
    "import pandas as pd\n",
    "import matplotlib.pyplot as plt\n",
    "from neuralprophet import NeuralProphet\n",
    "import yfinance as yf\n"
   ]
  },
  {
   "cell_type": "code",
   "execution_count": 11,
   "id": "88299f56-19a3-4d2b-8919-3294c913e75b",
   "metadata": {
    "tags": []
   },
   "outputs": [
    {
     "name": "stderr",
     "output_type": "stream",
     "text": [
      "[*********************100%%**********************]  1 of 1 completed"
     ]
    },
    {
     "name": "stdout",
     "output_type": "stream",
     "text": [
      "              Open    High     Low   Close  Adj Close    Volume\n",
      "Date                                                           \n",
      "2015-01-02  5.0325  5.0700  4.9525  5.0325   4.832806  11368000\n",
      "2015-01-05  5.0325  5.0475  4.9250  4.9475   4.751179  19795200\n",
      "2015-01-06  4.9550  4.9600  4.7925  4.7975   4.607130  19776400\n",
      "2015-01-07  4.8325  4.8750  4.7700  4.7850   4.595127  32180800\n",
      "2015-01-08  4.8400  4.9950  4.8375  4.9650   4.767986  28378000\n"
     ]
    },
    {
     "name": "stderr",
     "output_type": "stream",
     "text": [
      "\n"
     ]
    }
   ],
   "source": [
    "stock_symbol = 'NVDA'\n",
    "start_date = '2015-01-01'\n",
    "end_date = '2024-01-01'\n",
    "\n",
    "stock_data = yf.download(stock_symbol, start=start_date, end=end_date)\n",
    "\n",
    "print(stock_data.head())\n",
    "stock_data.to_csv('stock_data.csv')"
   ]
  },
  {
   "cell_type": "code",
   "execution_count": 12,
   "id": "a5bc1f00-d53b-497e-8742-ecd72542f05a",
   "metadata": {
    "tags": []
   },
   "outputs": [
    {
     "data": {
      "image/png": "[encoded data removed]",
      "text/plain": [
       "<Figure size 640x480 with 1 Axes>"
      ]
     },
     "metadata": {},
     "output_type": "display_data"
    }
   ],
   "source": [
    "stocks = pd.read_csv('stock_data.csv')\n",
    "stocks['Data'] = pd.to_datetime(stocks['Date'])\n",
    "stocks = stocks[['Date', 'Close']]\n",
    "\n",
    "stocks.columns= ['ds', 'y']\n",
    "\n",
    "\n",
    "plt.plot(stocks['ds'], stocks['y'], label = 'actual', c = 'g')\n",
    "plt.show()"
   ]
  },
  {
   "cell_type": "code",
   "execution_count": 13,
   "id": "0e50c0dc-ff6a-4de1-8b05-445f1dbbf6b7",
   "metadata": {
    "tags": []
   },
   "outputs": [
    {
     "name": "stderr",
     "output_type": "stream",
     "text": [
      "WARNING - (NP.forecaster.fit) - When Global modeling with local normalization, metrics are displayed in normalized scale.\n",
      "f:\\trend_prediction\\prediction\\lib\\site-packages\\neuralprophet\\df_utils.py:1152: FutureWarning: Series.view is deprecated and will be removed in a future version. Use ``astype`` as an alternative to change the dtype.\n",
      "  converted_ds = pd.to_datetime(ds_col, utc=True).view(dtype=np.int64)\n",
      "INFO - (NP.df_utils._infer_frequency) - Major frequency B corresponds to 96.334% of the data.\n",
      "INFO - (NP.df_utils._infer_frequency) - Dataframe freq automatically defined as B\n",
      "INFO - (NP.config.init_data_params) - Setting normalization to global as only one dataframe provided for training.\n",
      "INFO - (NP.utils.set_auto_seasonalities) - Disabling daily seasonality. Run NeuralProphet with daily_seasonality=True to override this.\n",
      "INFO - (NP.config.set_auto_batch_epoch) - Auto-set batch_size to 64\n",
      "INFO - (NP.config.set_auto_batch_epoch) - Auto-set epochs to 90\n",
      "WARNING - (NP.config.set_lr_finder_args) - Learning rate finder: The number of batches (36) is too small than the required number                     for the learning rate finder (234). The results might not be optimal.\n",
      "f:\\trend_prediction\\prediction\\lib\\site-packages\\pytorch_lightning\\trainer\\configuration_validator.py:108: PossibleUserWarning: You defined a `validation_step` but have no `val_dataloader`. Skipping val loop.\n",
      "  rank_zero_warn(\n",
      "f:\\trend_prediction\\prediction\\lib\\site-packages\\pytorch_lightning\\trainer\\connectors\\data_connector.py:224: PossibleUserWarning: The dataloader, train_dataloader, does not have many workers which may be a bottleneck. Consider increasing the value of the `num_workers` argument` (try 16 which is the number of cpus on this machine) in the `DataLoader` init to improve performance.\n",
      "  rank_zero_warn(\n",
      "f:\\trend_prediction\\prediction\\lib\\site-packages\\pytorch_lightning\\trainer\\trainer.py:1609: PossibleUserWarning: The number of training batches (36) is smaller than the logging interval Trainer(log_every_n_steps=50). Set a lower value for log_every_n_steps if you want to see logs for the training epoch.\n",
      "  rank_zero_warn(\n",
      "Finding best initial lr: 100%|██████████| 234/234 [00:00<00:00, 313.81it/s]\n"
     ]
    },
    {
     "name": "stdout",
     "output_type": "stream",
     "text": [
      "Epoch 90: 100%|██████████| 90/90 [00:00<00:00, 841.12it/s, loss=0.0194, v_num=16, MAE=27.80, RMSE=45.40, Loss=0.0191, RegLoss=0.000]  \n"
     ]
    },
    {
     "data": {
      "text/html": [
       "<div>\n",
       "<style scoped>\n",
       "    .dataframe tbody tr th:only-of-type {\n",
       "        vertical-align: middle;\n",
       "    }\n",
       "\n",
       "    .dataframe tbody tr th {\n",
       "        vertical-align: top;\n",
       "    }\n",
       "\n",
       "    .dataframe thead th {\n",
       "        text-align: right;\n",
       "    }\n",
       "</style>\n",
       "<table border=\"1\" class=\"dataframe\">\n",
       "  <thead>\n",
       "    <tr style=\"text-align: right;\">\n",
       "      <th></th>\n",
       "      <th>MAE</th>\n",
       "      <th>RMSE</th>\n",
       "      <th>Loss</th>\n",
       "      <th>RegLoss</th>\n",
       "      <th>epoch</th>\n",
       "    </tr>\n",
       "  </thead>\n",
       "  <tbody>\n",
       "    <tr>\n",
       "      <th>0</th>\n",
       "      <td>758.301392</td>\n",
       "      <td>839.297485</td>\n",
       "      <td>1.241150</td>\n",
       "      <td>0.0</td>\n",
       "      <td>0</td>\n",
       "    </tr>\n",
       "    <tr>\n",
       "      <th>1</th>\n",
       "      <td>572.797363</td>\n",
       "      <td>658.220520</td>\n",
       "      <td>0.897361</td>\n",
       "      <td>0.0</td>\n",
       "      <td>1</td>\n",
       "    </tr>\n",
       "    <tr>\n",
       "      <th>2</th>\n",
       "      <td>393.728821</td>\n",
       "      <td>479.247406</td>\n",
       "      <td>0.572079</td>\n",
       "      <td>0.0</td>\n",
       "      <td>2</td>\n",
       "    </tr>\n",
       "    <tr>\n",
       "      <th>3</th>\n",
       "      <td>252.751846</td>\n",
       "      <td>318.858215</td>\n",
       "      <td>0.321665</td>\n",
       "      <td>0.0</td>\n",
       "      <td>3</td>\n",
       "    </tr>\n",
       "    <tr>\n",
       "      <th>4</th>\n",
       "      <td>150.829498</td>\n",
       "      <td>192.342834</td>\n",
       "      <td>0.150505</td>\n",
       "      <td>0.0</td>\n",
       "      <td>4</td>\n",
       "    </tr>\n",
       "    <tr>\n",
       "      <th>...</th>\n",
       "      <td>...</td>\n",
       "      <td>...</td>\n",
       "      <td>...</td>\n",
       "      <td>...</td>\n",
       "      <td>...</td>\n",
       "    </tr>\n",
       "    <tr>\n",
       "      <th>85</th>\n",
       "      <td>27.593193</td>\n",
       "      <td>45.153912</td>\n",
       "      <td>0.018983</td>\n",
       "      <td>0.0</td>\n",
       "      <td>85</td>\n",
       "    </tr>\n",
       "    <tr>\n",
       "      <th>86</th>\n",
       "      <td>27.612843</td>\n",
       "      <td>45.636845</td>\n",
       "      <td>0.019142</td>\n",
       "      <td>0.0</td>\n",
       "      <td>86</td>\n",
       "    </tr>\n",
       "    <tr>\n",
       "      <th>87</th>\n",
       "      <td>27.716230</td>\n",
       "      <td>45.292156</td>\n",
       "      <td>0.018941</td>\n",
       "      <td>0.0</td>\n",
       "      <td>87</td>\n",
       "    </tr>\n",
       "    <tr>\n",
       "      <th>88</th>\n",
       "      <td>27.933781</td>\n",
       "      <td>45.691666</td>\n",
       "      <td>0.019179</td>\n",
       "      <td>0.0</td>\n",
       "      <td>88</td>\n",
       "    </tr>\n",
       "    <tr>\n",
       "      <th>89</th>\n",
       "      <td>27.758053</td>\n",
       "      <td>45.428818</td>\n",
       "      <td>0.019146</td>\n",
       "      <td>0.0</td>\n",
       "      <td>89</td>\n",
       "    </tr>\n",
       "  </tbody>\n",
       "</table>\n",
       "<p>90 rows × 5 columns</p>\n",
       "</div>"
      ],
      "text/plain": [
       "           MAE        RMSE      Loss  RegLoss  epoch\n",
       "0   758.301392  839.297485  1.241150      0.0      0\n",
       "1   572.797363  658.220520  0.897361      0.0      1\n",
       "2   393.728821  479.247406  0.572079      0.0      2\n",
       "3   252.751846  318.858215  0.321665      0.0      3\n",
       "4   150.829498  192.342834  0.150505      0.0      4\n",
       "..         ...         ...       ...      ...    ...\n",
       "85   27.593193   45.153912  0.018983      0.0     85\n",
       "86   27.612843   45.636845  0.019142      0.0     86\n",
       "87   27.716230   45.292156  0.018941      0.0     87\n",
       "88   27.933781   45.691666  0.019179      0.0     88\n",
       "89   27.758053   45.428818  0.019146      0.0     89\n",
       "\n",
       "[90 rows x 5 columns]"
      ]
     },
     "execution_count": 13,
     "metadata": {},
     "output_type": "execute_result"
    }
   ],
   "source": [
    "model = NeuralProphet()\n",
    "model.fit(stocks)"
   ]
  },
  {
   "cell_type": "code",
   "execution_count": 14,
   "id": "4a71d916-a9ce-40b5-82a3-684bc7a13c65",
   "metadata": {
    "tags": []
   },
   "outputs": [
    {
     "name": "stderr",
     "output_type": "stream",
     "text": [
      "f:\\trend_prediction\\prediction\\lib\\site-packages\\neuralprophet\\df_utils.py:1152: FutureWarning: Series.view is deprecated and will be removed in a future version. Use ``astype`` as an alternative to change the dtype.\n",
      "  converted_ds = pd.to_datetime(ds_col, utc=True).view(dtype=np.int64)\n",
      "INFO - (NP.df_utils._infer_frequency) - Major frequency B corresponds to 96.334% of the data.\n",
      "f:\\trend_prediction\\prediction\\lib\\site-packages\\neuralprophet\\df_utils.py:1152: FutureWarning: Series.view is deprecated and will be removed in a future version. Use ``astype`` as an alternative to change the dtype.\n",
      "  converted_ds = pd.to_datetime(ds_col, utc=True).view(dtype=np.int64)\n",
      "f:\\trend_prediction\\prediction\\lib\\site-packages\\neuralprophet\\df_utils.py:1152: FutureWarning: Series.view is deprecated and will be removed in a future version. Use ``astype`` as an alternative to change the dtype.\n",
      "  converted_ds = pd.to_datetime(ds_col, utc=True).view(dtype=np.int64)\n",
      "INFO - (NP.df_utils._infer_frequency) - Defined frequency is equal to major frequency - B\n",
      "INFO - (NP.df_utils.return_df_in_original_format) - Returning df with no ID column\n",
      "f:\\trend_prediction\\prediction\\lib\\site-packages\\neuralprophet\\df_utils.py:1152: FutureWarning: Series.view is deprecated and will be removed in a future version. Use ``astype`` as an alternative to change the dtype.\n",
      "  converted_ds = pd.to_datetime(ds_col, utc=True).view(dtype=np.int64)\n",
      "INFO - (NP.df_utils._infer_frequency) - Major frequency B corresponds to 99.667% of the data.\n",
      "f:\\trend_prediction\\prediction\\lib\\site-packages\\neuralprophet\\df_utils.py:1152: FutureWarning: Series.view is deprecated and will be removed in a future version. Use ``astype`` as an alternative to change the dtype.\n",
      "  converted_ds = pd.to_datetime(ds_col, utc=True).view(dtype=np.int64)\n",
      "f:\\trend_prediction\\prediction\\lib\\site-packages\\neuralprophet\\df_utils.py:1152: FutureWarning: Series.view is deprecated and will be removed in a future version. Use ``astype`` as an alternative to change the dtype.\n",
      "  converted_ds = pd.to_datetime(ds_col, utc=True).view(dtype=np.int64)\n",
      "INFO - (NP.df_utils._infer_frequency) - Defined frequency is equal to major frequency - B\n",
      "f:\\trend_prediction\\prediction\\lib\\site-packages\\neuralprophet\\df_utils.py:1152: FutureWarning: Series.view is deprecated and will be removed in a future version. Use ``astype`` as an alternative to change the dtype.\n",
      "  converted_ds = pd.to_datetime(ds_col, utc=True).view(dtype=np.int64)\n",
      "INFO - (NP.df_utils._infer_frequency) - Major frequency B corresponds to 99.667% of the data.\n",
      "f:\\trend_prediction\\prediction\\lib\\site-packages\\neuralprophet\\df_utils.py:1152: FutureWarning: Series.view is deprecated and will be removed in a future version. Use ``astype`` as an alternative to change the dtype.\n",
      "  converted_ds = pd.to_datetime(ds_col, utc=True).view(dtype=np.int64)\n",
      "f:\\trend_prediction\\prediction\\lib\\site-packages\\neuralprophet\\df_utils.py:1152: FutureWarning: Series.view is deprecated and will be removed in a future version. Use ``astype`` as an alternative to change the dtype.\n",
      "  converted_ds = pd.to_datetime(ds_col, utc=True).view(dtype=np.int64)\n",
      "INFO - (NP.df_utils._infer_frequency) - Defined frequency is equal to major frequency - B\n",
      "f:\\trend_prediction\\prediction\\lib\\site-packages\\pytorch_lightning\\trainer\\connectors\\data_connector.py:224: PossibleUserWarning: The dataloader, predict_dataloader 0, does not have many workers which may be a bottleneck. Consider increasing the value of the `num_workers` argument` (try 16 which is the number of cpus on this machine) in the `DataLoader` init to improve performance.\n",
      "  rank_zero_warn(\n"
     ]
    },
    {
     "name": "stdout",
     "output_type": "stream",
     "text": [
      "Predicting DataLoader 0: 100%|██████████| 1/1 [00:00<00:00, 333.12it/s]"
     ]
    },
    {
     "name": "stderr",
     "output_type": "stream",
     "text": [
      "INFO - (NP.df_utils.return_df_in_original_format) - Returning df with no ID column\n",
      "f:\\trend_prediction\\prediction\\lib\\site-packages\\neuralprophet\\df_utils.py:1152: FutureWarning: Series.view is deprecated and will be removed in a future version. Use ``astype`` as an alternative to change the dtype.\n",
      "  converted_ds = pd.to_datetime(ds_col, utc=True).view(dtype=np.int64)\n",
      "INFO - (NP.df_utils._infer_frequency) - Major frequency B corresponds to 96.334% of the data.\n",
      "f:\\trend_prediction\\prediction\\lib\\site-packages\\neuralprophet\\df_utils.py:1152: FutureWarning: Series.view is deprecated and will be removed in a future version. Use ``astype`` as an alternative to change the dtype.\n",
      "  converted_ds = pd.to_datetime(ds_col, utc=True).view(dtype=np.int64)\n",
      "f:\\trend_prediction\\prediction\\lib\\site-packages\\neuralprophet\\df_utils.py:1152: FutureWarning: Series.view is deprecated and will be removed in a future version. Use ``astype`` as an alternative to change the dtype.\n",
      "  converted_ds = pd.to_datetime(ds_col, utc=True).view(dtype=np.int64)\n",
      "INFO - (NP.df_utils._infer_frequency) - Defined frequency is equal to major frequency - B\n",
      "f:\\trend_prediction\\prediction\\lib\\site-packages\\neuralprophet\\df_utils.py:1152: FutureWarning: Series.view is deprecated and will be removed in a future version. Use ``astype`` as an alternative to change the dtype.\n",
      "  converted_ds = pd.to_datetime(ds_col, utc=True).view(dtype=np.int64)\n",
      "INFO - (NP.df_utils._infer_frequency) - Major frequency B corresponds to 96.334% of the data.\n",
      "f:\\trend_prediction\\prediction\\lib\\site-packages\\neuralprophet\\df_utils.py:1152: FutureWarning: Series.view is deprecated and will be removed in a future version. Use ``astype`` as an alternative to change the dtype.\n",
      "  converted_ds = pd.to_datetime(ds_col, utc=True).view(dtype=np.int64)\n",
      "f:\\trend_prediction\\prediction\\lib\\site-packages\\neuralprophet\\df_utils.py:1152: FutureWarning: Series.view is deprecated and will be removed in a future version. Use ``astype`` as an alternative to change the dtype.\n",
      "  converted_ds = pd.to_datetime(ds_col, utc=True).view(dtype=np.int64)\n",
      "INFO - (NP.df_utils._infer_frequency) - Defined frequency is equal to major frequency - B\n",
      "f:\\trend_prediction\\prediction\\lib\\site-packages\\pytorch_lightning\\trainer\\connectors\\data_connector.py:224: PossibleUserWarning: The dataloader, predict_dataloader 0, does not have many workers which may be a bottleneck. Consider increasing the value of the `num_workers` argument` (try 16 which is the number of cpus on this machine) in the `DataLoader` init to improve performance.\n",
      "  rank_zero_warn(\n"
     ]
    },
    {
     "name": "stdout",
     "output_type": "stream",
     "text": [
      "\n",
      "Predicting DataLoader 0: 100%|██████████| 3/3 [00:00<00:00, 375.05it/s]"
     ]
    },
    {
     "name": "stderr",
     "output_type": "stream",
     "text": [
      "INFO - (NP.df_utils.return_df_in_original_format) - Returning df with no ID column\n"
     ]
    },
    {
     "name": "stdout",
     "output_type": "stream",
     "text": [
      "\n"
     ]
    },
    {
     "data": {
      "image/png": "[encoded data removed]",
      "text/plain": [
       "<Figure size 640x480 with 1 Axes>"
      ]
     },
     "metadata": {},
     "output_type": "display_data"
    }
   ],
   "source": [
    "future = model.make_future_dataframe(stocks, periods = 300)\n",
    "\n",
    "forecast = model.predict(future)\n",
    "actual_prediction = model.predict(stocks)\n",
    "actual_prediction['ds'] = pd.to_datetime(actual_prediction['ds'])\n",
    "forecast['ds'] = pd.to_datetime(forecast['ds'])\n",
    "stocks['ds'] = pd.to_datetime(stocks['ds'])\n",
    "\n",
    "plt.plot(actual_prediction['ds'], actual_prediction['yhat1'], label = 'prediction_Actual', c='r')\n",
    "plt.plot(forecast['ds'], forecast['yhat1'], label = 'future_prediction', c='b')\n",
    "plt.plot(stocks['ds'], stocks['y'], label = 'actual', c = 'g')\n",
    "plt.legend()\n",
    "plt.show()"
   ]
  },
  {
   "cell_type": "code",
   "execution_count": 16,
   "id": "71560810",
   "metadata": {},
   "outputs": [
    {
     "name": "stderr",
     "output_type": "stream",
     "text": [
      "ERROR - (NP.plotly.plot_components) - plotly-resampler is not installed. Please install it to use the resampler.\n",
      "f:\\trend_prediction\\prediction\\lib\\site-packages\\neuralprophet\\plot_forecast_plotly.py:283: FutureWarning:\n",
      "\n",
      "Downcasting object dtype arrays on .fillna, .ffill, .bfill is deprecated and will change in a future version. Call result.infer_objects(copy=False) instead. To opt-in to the future behavior, set `pd.set_option('future.no_silent_downcasting', True)`\n",
      "\n",
      "f:\\trend_prediction\\prediction\\lib\\site-packages\\neuralprophet\\plot_forecast_plotly.py:410: FutureWarning:\n",
      "\n",
      "The behavior of DatetimeProperties.to_pydatetime is deprecated, in a future version this will return a Series containing python datetime objects instead of an ndarray. To retain the old behavior, call `np.array` on the result\n",
      "\n"
     ]
    },
    {
     "data": {
      "application/vnd.plotly.v1+json": {
       "config": {
        "plotlyServerURL": "https://plot.ly"
       },
       "data": [
        {
         "line": {
          "color": "#2d92ff",
          "width": 2
         },
         "mode": "lines",
         "name": "Trend",
         "showlegend": false,
         "type": "scatter",
         "x": [
          "2024-01-01T00:00:00",
          "2024-01-02T00:00:00",
          "2024-01-03T00:00:00",
          "2024-01-04T00:00:00",
          "2024-01-05T00:00:00",
          "2024-01-08T00:00:00",
          "2024-01-09T00:00:00",
          "2024-01-10T00:00:00",
          "2024-01-11T00:00:00",
          "2024-01-12T00:00:00",
          "2024-01-15T00:00:00",
          "2024-01-16T00:00:00",
          "2024-01-17T00:00:00",
          "2024-01-18T00:00:00",
          "2024-01-19T00:00:00",
          "2024-01-22T00:00:00",
          "2024-01-23T00:00:00",
          "2024-01-24T00:00:00",
          "2024-01-25T00:00:00",
          "2024-01-26T00:00:00",
          "2024-01-29T00:00:00",
          "2024-01-30T00:00:00",
          "2024-01-31T00:00:00",
          "2024-02-01T00:00:00",
          "2024-02-02T00:00:00",
          "2024-02-05T00:00:00",
          "2024-02-06T00:00:00",
          "2024-02-07T00:00:00",
          "2024-02-08T00:00:00",
          "2024-02-09T00:00:00",
          "2024-02-12T00:00:00",
          "2024-02-13T00:00:00",
          "2024-02-14T00:00:00",
          "2024-02-15T00:00:00",
          "2024-02-16T00:00:00",
          "2024-02-19T00:00:00",
          "2024-02-20T00:00:00",
          "2024-02-21T00:00:00",
          "2024-02-22T00:00:00",
          "2024-02-23T00:00:00",
          "2024-02-26T00:00:00",
          "2024-02-27T00:00:00",
          "2024-02-28T00:00:00",
          "2024-02-29T00:00:00",
          "2024-03-01T00:00:00",
          "2024-03-04T00:00:00",
          "2024-03-05T00:00:00",
          "2024-03-06T00:00:00",
          "2024-03-07T00:00:00",
          "2024-03-08T00:00:00",
          "2024-03-11T00:00:00",
          "2024-03-12T00:00:00",
          "2024-03-13T00:00:00",
          "2024-03-14T00:00:00",
          "2024-03-15T00:00:00",
          "2024-03-18T00:00:00",
          "2024-03-19T00:00:00",
          "2024-03-20T00:00:00",
          "2024-03-21T00:00:00",
          "2024-03-22T00:00:00",
          "2024-03-25T00:00:00",
          "2024-03-26T00:00:00",
          "2024-03-27T00:00:00",
          "2024-03-28T00:00:00",
          "2024-03-29T00:00:00",
          "2024-04-01T00:00:00",
          "2024-04-02T00:00:00",
          "2024-04-03T00:00:00",
          "2024-04-04T00:00:00",
          "2024-04-05T00:00:00",
          "2024-04-08T00:00:00",
          "2024-04-09T00:00:00",
          "2024-04-10T00:00:00",
          "2024-04-11T00:00:00",
          "2024-04-12T00:00:00",
          "2024-04-15T00:00:00",
          "2024-04-16T00:00:00",
          "2024-04-17T00:00:00",
          "2024-04-18T00:00:00",
          "2024-04-19T00:00:00",
          "2024-04-22T00:00:00",
          "2024-04-23T00:00:00",
          "2024-04-24T00:00:00",
          "2024-04-25T00:00:00",
          "2024-04-26T00:00:00",
          "2024-04-29T00:00:00",
          "2024-04-30T00:00:00",
          "2024-05-01T00:00:00",
          "2024-05-02T00:00:00",
          "2024-05-03T00:00:00",
          "2024-05-06T00:00:00",
          "2024-05-07T00:00:00",
          "2024-05-08T00:00:00",
          "2024-05-09T00:00:00",
          "2024-05-10T00:00:00",
          "2024-05-13T00:00:00",
          "2024-05-14T00:00:00",
          "2024-05-15T00:00:00",
          "2024-05-16T00:00:00",
          "2024-05-17T00:00:00",
          "2024-05-20T00:00:00",
          "2024-05-21T00:00:00",
          "2024-05-22T00:00:00",
          "2024-05-23T00:00:00",
          "2024-05-24T00:00:00",
          "2024-05-27T00:00:00",
          "2024-05-28T00:00:00",
          "2024-05-29T00:00:00",
          "2024-05-30T00:00:00",
          "2024-05-31T00:00:00",
          "2024-06-03T00:00:00",
          "2024-06-04T00:00:00",
          "2024-06-05T00:00:00",
          "2024-06-06T00:00:00",
          "2024-06-07T00:00:00",
          "2024-06-10T00:00:00",
          "2024-06-11T00:00:00",
          "2024-06-12T00:00:00",
          "2024-06-13T00:00:00",
          "2024-06-14T00:00:00",
          "2024-06-17T00:00:00",
          "2024-06-18T00:00:00",
          "2024-06-19T00:00:00",
          "2024-06-20T00:00:00",
          "2024-06-21T00:00:00",
          "2024-06-24T00:00:00",
          "2024-06-25T00:00:00",
          "2024-06-26T00:00:00",
          "2024-06-27T00:00:00",
          "2024-06-28T00:00:00",
          "2024-07-01T00:00:00",
          "2024-07-02T00:00:00",
          "2024-07-03T00:00:00",
          "2024-07-04T00:00:00",
          "2024-07-05T00:00:00",
          "2024-07-08T00:00:00",
          "2024-07-09T00:00:00",
          "2024-07-10T00:00:00",
          "2024-07-11T00:00:00",
          "2024-07-12T00:00:00",
          "2024-07-15T00:00:00",
          "2024-07-16T00:00:00",
          "2024-07-17T00:00:00",
          "2024-07-18T00:00:00",
          "2024-07-19T00:00:00",
          "2024-07-22T00:00:00",
          "2024-07-23T00:00:00",
          "2024-07-24T00:00:00",
          "2024-07-25T00:00:00",
          "2024-07-26T00:00:00",
          "2024-07-29T00:00:00",
          "2024-07-30T00:00:00",
          "2024-07-31T00:00:00",
          "2024-08-01T00:00:00",
          "2024-08-02T00:00:00",
          "2024-08-05T00:00:00",
          "2024-08-06T00:00:00",
          "2024-08-07T00:00:00",
          "2024-08-08T00:00:00",
          "2024-08-09T00:00:00",
          "2024-08-12T00:00:00",
          "2024-08-13T00:00:00",
          "2024-08-14T00:00:00",
          "2024-08-15T00:00:00",
          "2024-08-16T00:00:00",
          "2024-08-19T00:00:00",
          "2024-08-20T00:00:00",
          "2024-08-21T00:00:00",
          "2024-08-22T00:00:00",
          "2024-08-23T00:00:00",
          "2024-08-26T00:00:00",
          "2024-08-27T00:00:00",
          "2024-08-28T00:00:00",
          "2024-08-29T00:00:00",
          "2024-08-30T00:00:00",
          "2024-09-02T00:00:00",
          "2024-09-03T00:00:00",
          "2024-09-04T00:00:00",
          "2024-09-05T00:00:00",
          "2024-09-06T00:00:00",
          "2024-09-09T00:00:00",
          "2024-09-10T00:00:00",
          "2024-09-11T00:00:00",
          "2024-09-12T00:00:00",
          "2024-09-13T00:00:00",
          "2024-09-16T00:00:00",
          "2024-09-17T00:00:00",
          "2024-09-18T00:00:00",
          "2024-09-19T00:00:00",
          "2024-09-20T00:00:00",
          "2024-09-23T00:00:00",
          "2024-09-24T00:00:00",
          "2024-09-25T00:00:00",
          "2024-09-26T00:00:00",
          "2024-09-27T00:00:00",
          "2024-09-30T00:00:00",
          "2024-10-01T00:00:00",
          "2024-10-02T00:00:00",
          "2024-10-03T00:00:00",
          "2024-10-04T00:00:00",
          "2024-10-07T00:00:00",
          "2024-10-08T00:00:00",
          "2024-10-09T00:00:00",
          "2024-10-10T00:00:00",
          "2024-10-11T00:00:00",
          "2024-10-14T00:00:00",
          "2024-10-15T00:00:00",
          "2024-10-16T00:00:00",
          "2024-10-17T00:00:00",
          "2024-10-18T00:00:00",
          "2024-10-21T00:00:00",
          "2024-10-22T00:00:00",
          "2024-10-23T00:00:00",
          "2024-10-24T00:00:00",
          "2024-10-25T00:00:00",
          "2024-10-28T00:00:00",
          "2024-10-29T00:00:00",
          "2024-10-30T00:00:00",
          "2024-10-31T00:00:00",
          "2024-11-01T00:00:00",
          "2024-11-04T00:00:00",
          "2024-11-05T00:00:00",
          "2024-11-06T00:00:00",
          "2024-11-07T00:00:00",
          "2024-11-08T00:00:00",
          "2024-11-11T00:00:00",
          "2024-11-12T00:00:00",
          "2024-11-13T00:00:00",
          "2024-11-14T00:00:00",
          "2024-11-15T00:00:00",
          "2024-11-18T00:00:00",
          "2024-11-19T00:00:00",
          "2024-11-20T00:00:00",
          "2024-11-21T00:00:00",
          "2024-11-22T00:00:00",
          "2024-11-25T00:00:00",
          "2024-11-26T00:00:00",
          "2024-11-27T00:00:00",
          "2024-11-28T00:00:00",
          "2024-11-29T00:00:00",
          "2024-12-02T00:00:00",
          "2024-12-03T00:00:00",
          "2024-12-04T00:00:00",
          "2024-12-05T00:00:00",
          "2024-12-06T00:00:00",
          "2024-12-09T00:00:00",
          "2024-12-10T00:00:00",
          "2024-12-11T00:00:00",
          "2024-12-12T00:00:00",
          "2024-12-13T00:00:00",
          "2024-12-16T00:00:00",
          "2024-12-17T00:00:00",
          "2024-12-18T00:00:00",
          "2024-12-19T00:00:00",
          "2024-12-20T00:00:00",
          "2024-12-23T00:00:00",
          "2024-12-24T00:00:00",
          "2024-12-25T00:00:00",
          "2024-12-26T00:00:00",
          "2024-12-27T00:00:00",
          "2024-12-30T00:00:00",
          "2024-12-31T00:00:00",
          "2025-01-01T00:00:00",
          "2025-01-02T00:00:00",
          "2025-01-03T00:00:00",
          "2025-01-06T00:00:00",
          "2025-01-07T00:00:00",
          "2025-01-08T00:00:00",
          "2025-01-09T00:00:00",
          "2025-01-10T00:00:00",
          "2025-01-13T00:00:00",
          "2025-01-14T00:00:00",
          "2025-01-15T00:00:00",
          "2025-01-16T00:00:00",
          "2025-01-17T00:00:00",
          "2025-01-20T00:00:00",
          "2025-01-21T00:00:00",
          "2025-01-22T00:00:00",
          "2025-01-23T00:00:00",
          "2025-01-24T00:00:00",
          "2025-01-27T00:00:00",
          "2025-01-28T00:00:00",
          "2025-01-29T00:00:00",
          "2025-01-30T00:00:00",
          "2025-01-31T00:00:00",
          "2025-02-03T00:00:00",
          "2025-02-04T00:00:00",
          "2025-02-05T00:00:00",
          "2025-02-06T00:00:00",
          "2025-02-07T00:00:00",
          "2025-02-10T00:00:00",
          "2025-02-11T00:00:00",
          "2025-02-12T00:00:00",
          "2025-02-13T00:00:00",
          "2025-02-14T00:00:00",
          "2025-02-17T00:00:00",
          "2025-02-18T00:00:00",
          "2025-02-19T00:00:00",
          "2025-02-20T00:00:00",
          "2025-02-21T00:00:00"
         ],
         "xaxis": "x",
         "y": [
          50.81874465942383,
          51.08147430419922,
          51.34410858154297,
          51.60673904418945,
          51.86936950683594,
          52.6573600769043,
          52.91999053955078,
          53.182621002197266,
          53.44525146484375,
          53.707881927490234,
          54.4959716796875,
          54.758602142333984,
          55.02123260498047,
          55.28386306762695,
          55.54649353027344,
          56.33448791503906,
          56.59711837768555,
          56.85974884033203,
          57.122379302978516,
          57.385108947753906,
          58.17300033569336,
          58.435630798339844,
          58.69826126098633,
          58.96099090576172,
          59.2236213684082,
          60.011512756347656,
          60.27414321899414,
          60.5368766784668,
          60.79950714111328,
          61.062137603759766,
          61.85002899169922,
          62.11275863647461,
          62.375389099121094,
          62.63801956176758,
          62.90065002441406,
          63.68873977661133,
          63.95137023925781,
          64.21400451660156,
          64.47663879394531,
          64.73926544189453,
          65.52725219726562,
          65.78988647460938,
          66.05252075195312,
          66.31514739990234,
          66.57777404785156,
          67.36576843261719,
          67.62840270996094,
          67.89102935791016,
          68.15365600585938,
          68.41638946533203,
          69.20428466796875,
          69.4669189453125,
          69.72953796386719,
          69.99227905273438,
          70.25489807128906,
          71.04280090332031,
          71.305419921875,
          71.56816101074219,
          71.83079528808594,
          72.09341430664062,
          72.88140869140625,
          73.14413452148438,
          73.40676879882812,
          73.66940307617188,
          73.93203735351562,
          74.72001647949219,
          74.98265075683594,
          75.24528503417969,
          75.50791931152344,
          75.77053833007812,
          76.55853271484375,
          76.8211669921875,
          77.08380126953125,
          77.346435546875,
          77.60905456542969,
          78.39704895019531,
          78.65968322753906,
          78.92231750488281,
          79.1849365234375,
          79.44767761230469,
          80.23556518554688,
          80.49819946289062,
          80.76081848144531,
          81.02365112304688,
          81.28628540039062,
          82.07417297363281,
          82.33680725097656,
          82.59953308105469,
          82.86216735839844,
          83.12480163574219,
          83.91268920898438,
          84.17543029785156,
          84.43804931640625,
          84.70068359375,
          84.96331787109375,
          85.75120544433594,
          86.01393127441406,
          86.27656555175781,
          86.53919982910156,
          86.80183410644531,
          87.58981323242188,
          87.85244750976562,
          88.11508178710938,
          88.37771606445312,
          88.64033508300781,
          89.42832946777344,
          89.69096374511719,
          89.95359802246094,
          90.21632385253906,
          90.47895812988281,
          91.26695251464844,
          91.52957153320312,
          91.79220581054688,
          92.05484008789062,
          92.31756591796875,
          93.10545349121094,
          93.36808776855469,
          93.63072204589844,
          93.89344787597656,
          94.15608215332031,
          94.9439697265625,
          95.20660400390625,
          95.46932983398438,
          95.73196411132812,
          95.99459838867188,
          96.78248596191406,
          97.04521179199219,
          97.30784606933594,
          97.57048034667969,
          97.83311462402344,
          98.62110900878906,
          98.88383483886719,
          99.14646911621094,
          99.40908813476562,
          99.67172241210938,
          100.459716796875,
          100.72235107421875,
          100.98497009277344,
          101.24760437011719,
          101.51023864746094,
          102.29823303222656,
          102.56086730957031,
          102.823486328125,
          103.08612060546875,
          103.34884643554688,
          104.13674926757812,
          104.39936828613281,
          104.66200256347656,
          104.92472839355469,
          105.18736267089844,
          105.97525024414062,
          106.23788452148438,
          106.5006103515625,
          106.76324462890625,
          107.02587890625,
          107.81376647949219,
          108.07659912109375,
          108.3392333984375,
          108.60186767578125,
          108.86448669433594,
          109.65248107910156,
          109.91511535644531,
          110.17774963378906,
          110.44036865234375,
          110.7030029296875,
          111.49099731445312,
          111.75363159179688,
          112.01626586914062,
          112.27888488769531,
          112.54151916503906,
          113.32951354980469,
          113.59214782714844,
          113.85476684570312,
          114.11740112304688,
          114.380126953125,
          115.16802978515625,
          115.43064880371094,
          115.69328308105469,
          115.95602416992188,
          116.21864318847656,
          117.00663757324219,
          117.26927185058594,
          117.53199768066406,
          117.79463195800781,
          118.05726623535156,
          118.84515380859375,
          119.1077880859375,
          119.37051391601562,
          119.63314819335938,
          119.89578247070312,
          120.68367004394531,
          120.94639587402344,
          121.20903015136719,
          121.47166442871094,
          121.73428344726562,
          122.52227783203125,
          122.784912109375,
          123.04754638671875,
          123.31016540527344,
          123.57279968261719,
          124.36079406738281,
          124.62342834472656,
          124.88604736328125,
          125.148681640625,
          125.41131591796875,
          126.19940185546875,
          126.4620361328125,
          126.72467041015625,
          126.9873046875,
          127.25003051757812,
          128.0379180908203,
          128.30055236816406,
          128.5631866455078,
          128.82591247558594,
          129.0885467529297,
          129.87643432617188,
          130.13906860351562,
          130.40179443359375,
          130.6644287109375,
          130.92706298828125,
          131.71495056152344,
          131.97767639160156,
          132.2403106689453,
          132.50294494628906,
          132.76556396484375,
          133.55357360839844,
          133.81619262695312,
          134.07882690429688,
          134.34146118164062,
          134.60418701171875,
          135.39218139648438,
          135.65481567382812,
          135.9174346923828,
          136.18006896972656,
          136.4427032470703,
          137.23069763183594,
          137.49331665039062,
          137.75595092773438,
          138.01858520507812,
          138.28131103515625,
          139.0692138671875,
          139.3318328857422,
          139.59446716308594,
          139.85719299316406,
          140.1198272705078,
          140.90771484375,
          141.17034912109375,
          141.43307495117188,
          141.69570922851562,
          141.95834350585938,
          142.74623107910156,
          143.00897216796875,
          143.27159118652344,
          143.53433227539062,
          143.7969512939453,
          144.58494567871094,
          144.8475799560547,
          145.11021423339844,
          145.37283325195312,
          145.63546752929688,
          146.4234619140625,
          146.68609619140625,
          146.94873046875,
          147.2113494873047,
          147.47398376464844,
          148.26197814941406,
          148.5246124267578,
          148.7872314453125,
          149.04986572265625,
          149.31259155273438,
          150.10049438476562,
          150.3631134033203,
          150.62574768066406,
          150.88848876953125,
          151.15110778808594,
          151.9390106201172,
          152.20162963867188,
          152.46446228027344,
          152.7270965576172,
          152.98973083496094,
          153.77761840820312,
          154.04025268554688,
          154.302978515625,
          154.56561279296875,
          154.82823181152344,
          155.6161346435547,
          155.8788604736328,
          156.14149475097656,
          156.4041290283203,
          156.666748046875,
          157.45474243164062,
          157.71737670898438,
          157.98001098632812,
          158.2426300048828,
          158.50526428222656,
          159.2932586669922,
          159.55589294433594,
          159.81851196289062,
          160.08114624023438,
          160.34378051757812
         ],
         "yaxis": "y"
        },
        {
         "line": {
          "color": "#2d92ff",
          "width": 2
         },
         "mode": "lines",
         "name": "yearly seasonality",
         "showlegend": false,
         "type": "scatter",
         "x": [
          "2024-01-01T00:00:00",
          "2024-01-02T00:00:00",
          "2024-01-03T00:00:00",
          "2024-01-04T00:00:00",
          "2024-01-05T00:00:00",
          "2024-01-08T00:00:00",
          "2024-01-09T00:00:00",
          "2024-01-10T00:00:00",
          "2024-01-11T00:00:00",
          "2024-01-12T00:00:00",
          "2024-01-15T00:00:00",
          "2024-01-16T00:00:00",
          "2024-01-17T00:00:00",
          "2024-01-18T00:00:00",
          "2024-01-19T00:00:00",
          "2024-01-22T00:00:00",
          "2024-01-23T00:00:00",
          "2024-01-24T00:00:00",
          "2024-01-25T00:00:00",
          "2024-01-26T00:00:00",
          "2024-01-29T00:00:00",
          "2024-01-30T00:00:00",
          "2024-01-31T00:00:00",
          "2024-02-01T00:00:00",
          "2024-02-02T00:00:00",
          "2024-02-05T00:00:00",
          "2024-02-06T00:00:00",
          "2024-02-07T00:00:00",
          "2024-02-08T00:00:00",
          "2024-02-09T00:00:00",
          "2024-02-12T00:00:00",
          "2024-02-13T00:00:00",
          "2024-02-14T00:00:00",
          "2024-02-15T00:00:00",
          "2024-02-16T00:00:00",
          "2024-02-19T00:00:00",
          "2024-02-20T00:00:00",
          "2024-02-21T00:00:00",
          "2024-02-22T00:00:00",
          "2024-02-23T00:00:00",
          "2024-02-26T00:00:00",
          "2024-02-27T00:00:00",
          "2024-02-28T00:00:00",
          "2024-02-29T00:00:00",
          "2024-03-01T00:00:00",
          "2024-03-04T00:00:00",
          "2024-03-05T00:00:00",
          "2024-03-06T00:00:00",
          "2024-03-07T00:00:00",
          "2024-03-08T00:00:00",
          "2024-03-11T00:00:00",
          "2024-03-12T00:00:00",
          "2024-03-13T00:00:00",
          "2024-03-14T00:00:00",
          "2024-03-15T00:00:00",
          "2024-03-18T00:00:00",
          "2024-03-19T00:00:00",
          "2024-03-20T00:00:00",
          "2024-03-21T00:00:00",
          "2024-03-22T00:00:00",
          "2024-03-25T00:00:00",
          "2024-03-26T00:00:00",
          "2024-03-27T00:00:00",
          "2024-03-28T00:00:00",
          "2024-03-29T00:00:00",
          "2024-04-01T00:00:00",
          "2024-04-02T00:00:00",
          "2024-04-03T00:00:00",
          "2024-04-04T00:00:00",
          "2024-04-05T00:00:00",
          "2024-04-08T00:00:00",
          "2024-04-09T00:00:00",
          "2024-04-10T00:00:00",
          "2024-04-11T00:00:00",
          "2024-04-12T00:00:00",
          "2024-04-15T00:00:00",
          "2024-04-16T00:00:00",
          "2024-04-17T00:00:00",
          "2024-04-18T00:00:00",
          "2024-04-19T00:00:00",
          "2024-04-22T00:00:00",
          "2024-04-23T00:00:00",
          "2024-04-24T00:00:00",
          "2024-04-25T00:00:00",
          "2024-04-26T00:00:00",
          "2024-04-29T00:00:00",
          "2024-04-30T00:00:00",
          "2024-05-01T00:00:00",
          "2024-05-02T00:00:00",
          "2024-05-03T00:00:00",
          "2024-05-06T00:00:00",
          "2024-05-07T00:00:00",
          "2024-05-08T00:00:00",
          "2024-05-09T00:00:00",
          "2024-05-10T00:00:00",
          "2024-05-13T00:00:00",
          "2024-05-14T00:00:00",
          "2024-05-15T00:00:00",
          "2024-05-16T00:00:00",
          "2024-05-17T00:00:00",
          "2024-05-20T00:00:00",
          "2024-05-21T00:00:00",
          "2024-05-22T00:00:00",
          "2024-05-23T00:00:00",
          "2024-05-24T00:00:00",
          "2024-05-27T00:00:00",
          "2024-05-28T00:00:00",
          "2024-05-29T00:00:00",
          "2024-05-30T00:00:00",
          "2024-05-31T00:00:00",
          "2024-06-03T00:00:00",
          "2024-06-04T00:00:00",
          "2024-06-05T00:00:00",
          "2024-06-06T00:00:00",
          "2024-06-07T00:00:00",
          "2024-06-10T00:00:00",
          "2024-06-11T00:00:00",
          "2024-06-12T00:00:00",
          "2024-06-13T00:00:00",
          "2024-06-14T00:00:00",
          "2024-06-17T00:00:00",
          "2024-06-18T00:00:00",
          "2024-06-19T00:00:00",
          "2024-06-20T00:00:00",
          "2024-06-21T00:00:00",
          "2024-06-24T00:00:00",
          "2024-06-25T00:00:00",
          "2024-06-26T00:00:00",
          "2024-06-27T00:00:00",
          "2024-06-28T00:00:00",
          "2024-07-01T00:00:00",
          "2024-07-02T00:00:00",
          "2024-07-03T00:00:00",
          "2024-07-04T00:00:00",
          "2024-07-05T00:00:00",
          "2024-07-08T00:00:00",
          "2024-07-09T00:00:00",
          "2024-07-10T00:00:00",
          "2024-07-11T00:00:00",
          "2024-07-12T00:00:00",
          "2024-07-15T00:00:00",
          "2024-07-16T00:00:00",
          "2024-07-17T00:00:00",
          "2024-07-18T00:00:00",
          "2024-07-19T00:00:00",
          "2024-07-22T00:00:00",
          "2024-07-23T00:00:00",
          "2024-07-24T00:00:00",
          "2024-07-25T00:00:00",
          "2024-07-26T00:00:00",
          "2024-07-29T00:00:00",
          "2024-07-30T00:00:00",
          "2024-07-31T00:00:00",
          "2024-08-01T00:00:00",
          "2024-08-02T00:00:00",
          "2024-08-05T00:00:00",
          "2024-08-06T00:00:00",
          "2024-08-07T00:00:00",
          "2024-08-08T00:00:00",
          "2024-08-09T00:00:00",
          "2024-08-12T00:00:00",
          "2024-08-13T00:00:00",
          "2024-08-14T00:00:00",
          "2024-08-15T00:00:00",
          "2024-08-16T00:00:00",
          "2024-08-19T00:00:00",
          "2024-08-20T00:00:00",
          "2024-08-21T00:00:00",
          "2024-08-22T00:00:00",
          "2024-08-23T00:00:00",
          "2024-08-26T00:00:00",
          "2024-08-27T00:00:00",
          "2024-08-28T00:00:00",
          "2024-08-29T00:00:00",
          "2024-08-30T00:00:00",
          "2024-09-02T00:00:00",
          "2024-09-03T00:00:00",
          "2024-09-04T00:00:00",
          "2024-09-05T00:00:00",
          "2024-09-06T00:00:00",
          "2024-09-09T00:00:00",
          "2024-09-10T00:00:00",
          "2024-09-11T00:00:00",
          "2024-09-12T00:00:00",
          "2024-09-13T00:00:00",
          "2024-09-16T00:00:00",
          "2024-09-17T00:00:00",
          "2024-09-18T00:00:00",
          "2024-09-19T00:00:00",
          "2024-09-20T00:00:00",
          "2024-09-23T00:00:00",
          "2024-09-24T00:00:00",
          "2024-09-25T00:00:00",
          "2024-09-26T00:00:00",
          "2024-09-27T00:00:00",
          "2024-09-30T00:00:00",
          "2024-10-01T00:00:00",
          "2024-10-02T00:00:00",
          "2024-10-03T00:00:00",
          "2024-10-04T00:00:00",
          "2024-10-07T00:00:00",
          "2024-10-08T00:00:00",
          "2024-10-09T00:00:00",
          "2024-10-10T00:00:00",
          "2024-10-11T00:00:00",
          "2024-10-14T00:00:00",
          "2024-10-15T00:00:00",
          "2024-10-16T00:00:00",
          "2024-10-17T00:00:00",
          "2024-10-18T00:00:00",
          "2024-10-21T00:00:00",
          "2024-10-22T00:00:00",
          "2024-10-23T00:00:00",
          "2024-10-24T00:00:00",
          "2024-10-25T00:00:00",
          "2024-10-28T00:00:00",
          "2024-10-29T00:00:00",
          "2024-10-30T00:00:00",
          "2024-10-31T00:00:00",
          "2024-11-01T00:00:00",
          "2024-11-04T00:00:00",
          "2024-11-05T00:00:00",
          "2024-11-06T00:00:00",
          "2024-11-07T00:00:00",
          "2024-11-08T00:00:00",
          "2024-11-11T00:00:00",
          "2024-11-12T00:00:00",
          "2024-11-13T00:00:00",
          "2024-11-14T00:00:00",
          "2024-11-15T00:00:00",
          "2024-11-18T00:00:00",
          "2024-11-19T00:00:00",
          "2024-11-20T00:00:00",
          "2024-11-21T00:00:00",
          "2024-11-22T00:00:00",
          "2024-11-25T00:00:00",
          "2024-11-26T00:00:00",
          "2024-11-27T00:00:00",
          "2024-11-28T00:00:00",
          "2024-11-29T00:00:00",
          "2024-12-02T00:00:00",
          "2024-12-03T00:00:00",
          "2024-12-04T00:00:00",
          "2024-12-05T00:00:00",
          "2024-12-06T00:00:00",
          "2024-12-09T00:00:00",
          "2024-12-10T00:00:00",
          "2024-12-11T00:00:00",
          "2024-12-12T00:00:00",
          "2024-12-13T00:00:00",
          "2024-12-16T00:00:00",
          "2024-12-17T00:00:00",
          "2024-12-18T00:00:00",
          "2024-12-19T00:00:00",
          "2024-12-20T00:00:00",
          "2024-12-23T00:00:00",
          "2024-12-24T00:00:00",
          "2024-12-25T00:00:00",
          "2024-12-26T00:00:00",
          "2024-12-27T00:00:00",
          "2024-12-30T00:00:00",
          "2024-12-31T00:00:00",
          "2025-01-01T00:00:00",
          "2025-01-02T00:00:00",
          "2025-01-03T00:00:00",
          "2025-01-06T00:00:00",
          "2025-01-07T00:00:00",
          "2025-01-08T00:00:00",
          "2025-01-09T00:00:00",
          "2025-01-10T00:00:00",
          "2025-01-13T00:00:00",
          "2025-01-14T00:00:00",
          "2025-01-15T00:00:00",
          "2025-01-16T00:00:00",
          "2025-01-17T00:00:00",
          "2025-01-20T00:00:00",
          "2025-01-21T00:00:00",
          "2025-01-22T00:00:00",
          "2025-01-23T00:00:00",
          "2025-01-24T00:00:00",
          "2025-01-27T00:00:00",
          "2025-01-28T00:00:00",
          "2025-01-29T00:00:00",
          "2025-01-30T00:00:00",
          "2025-01-31T00:00:00",
          "2025-02-03T00:00:00",
          "2025-02-04T00:00:00",
          "2025-02-05T00:00:00",
          "2025-02-06T00:00:00",
          "2025-02-07T00:00:00",
          "2025-02-10T00:00:00",
          "2025-02-11T00:00:00",
          "2025-02-12T00:00:00",
          "2025-02-13T00:00:00",
          "2025-02-14T00:00:00",
          "2025-02-17T00:00:00",
          "2025-02-18T00:00:00",
          "2025-02-19T00:00:00",
          "2025-02-20T00:00:00",
          "2025-02-21T00:00:00"
         ],
         "xaxis": "x2",
         "y": [
          -2.517507314682007,
          -3.215428113937378,
          -3.883352518081665,
          -4.517009258270264,
          -5.116578102111816,
          -6.6967010498046875,
          -7.147600173950195,
          -7.561148166656494,
          -7.937138080596924,
          -8.275006294250488,
          -9.074234008789062,
          -9.272391319274902,
          -9.440800666809082,
          -9.579036712646484,
          -9.691468238830566,
          -9.886987686157227,
          -9.914179801940918,
          -9.925822257995605,
          -9.924924850463867,
          -9.91431999206543,
          -9.844657897949219,
          -9.816935539245605,
          -9.790196418762207,
          -9.765972137451172,
          -9.746193885803223,
          -9.726358413696289,
          -9.736409187316895,
          -9.755285263061523,
          -9.78426456451416,
          -9.822198867797852,
          -9.99256420135498,
          -10.065817832946777,
          -10.145609855651855,
          -10.230792999267578,
          -10.32034969329834,
          -10.599130630493164,
          -10.689804077148438,
          -10.776484489440918,
          -10.857550621032715,
          -10.931175231933594,
          -11.089680671691895,
          -11.116618156433105,
          -11.128286361694336,
          -11.123600959777832,
          -11.100931167602539,
          -10.922130584716797,
          -10.824016571044922,
          -10.706589698791504,
          -10.569539070129395,
          -10.414210319519043,
          -9.84681224822998,
          -9.628071784973145,
          -9.397046089172363,
          -9.155834197998047,
          -8.90717601776123,
          -8.134613990783691,
          -7.877817630767822,
          -7.625643730163574,
          -7.38092565536499,
          -7.145675182342529,
          -6.52963924407959,
          -6.362072467803955,
          -6.219392776489258,
          -6.100360870361328,
          -6.0098748207092285,
          -5.920815467834473,
          -5.956467151641846,
          -6.026561260223389,
          -6.131308555603027,
          -6.271541595458984,
          -6.897298812866211,
          -7.171947479248047,
          -7.477304458618164,
          -7.811793327331543,
          -8.172951698303223,
          -9.392301559448242,
          -9.833404541015625,
          -10.287327766418457,
          -10.749602317810059,
          -11.216886520385742,
          -12.606157302856445,
          -13.051823616027832,
          -13.483112335205078,
          -13.89432430267334,
          -14.281853675842285,
          -15.267701148986816,
          -15.525712966918945,
          -15.743453979492188,
          -15.917261123657227,
          -16.043935775756836,
          -16.132978439331055,
          -16.057403564453125,
          -15.930843353271484,
          -15.74953556060791,
          -15.515921592712402,
          -14.49829387664795,
          -14.058147430419922,
          -13.570486068725586,
          -13.037924766540527,
          -12.463826179504395,
          -10.516016006469727,
          -9.803449630737305,
          -9.06556510925293,
          -8.306532859802246,
          -7.5319695472717285,
          -5.146212100982666,
          -4.3454108238220215,
          -3.5501198768615723,
          -2.763117790222168,
          -1.9888590574264526,
          0.21936212480068207,
          0.9056846499443054,
          1.5617340803146362,
          2.185267448425293,
          2.7731080055236816,
          4.307606220245361,
          4.737936496734619,
          5.126857280731201,
          5.472848892211914,
          5.7770843505859375,
          6.442399978637695,
          6.585606098175049,
          6.6919989585876465,
          6.763852596282959,
          6.803231239318848,
          6.752379417419434,
          6.688936710357666,
          6.606916904449463,
          6.509885311126709,
          6.400960445404053,
          6.035646438598633,
          5.911760330200195,
          5.792230129241943,
          5.6797308921813965,
          5.576845169067383,
          5.351883411407471,
          5.312315464019775,
          5.293066501617432,
          5.29530143737793,
          5.321402072906494,
          5.544686317443848,
          5.668520927429199,
          5.817188739776611,
          5.9894185066223145,
          6.1859588623046875,
          6.899764060974121,
          7.174498558044434,
          7.4654693603515625,
          7.769946098327637,
          8.085522651672363,
          9.075366973876953,
          9.41167163848877,
          9.74674129486084,
          10.077689170837402,
          10.402267456054688,
          11.313325881958008,
          11.588557243347168,
          11.84521484375,
          12.082511901855469,
          12.29787540435791,
          12.797443389892578,
          12.911652565002441,
          12.997749328613281,
          13.054862976074219,
          13.08314323425293,
          12.994202613830566,
          12.906736373901367,
          12.79118537902832,
          12.647754669189453,
          12.479578018188477,
          11.82347297668457,
          11.560765266418457,
          11.277364730834961,
          10.975065231323242,
          10.656916618347168,
          9.614688873291016,
          9.244600296020508,
          8.866722106933594,
          8.481135368347168,
          8.090136528015137,
          6.900905609130859,
          6.503490447998047,
          6.1077728271484375,
          5.715051174163818,
          5.3258957862854,
          4.193373680114746,
          3.830029010772705,
          3.4745094776153564,
          3.128753185272217,
          2.791569948196411,
          1.8439093828201294,
          1.5496695041656494,
          1.2675286531448364,
          0.9979737401008606,
          0.7404592037200928,
          0.04728395864367485,
          -0.15595415234565735,
          -0.3442552983760834,
          -0.517930269241333,
          -0.6758612990379333,
          -1.050459623336792,
          -1.13948655128479,
          -1.2099312543869019,
          -1.260855793952942,
          -1.291382074356079,
          -1.2527397871017456,
          -1.1941851377487183,
          -1.111352801322937,
          -1.0034282207489014,
          -0.8702264428138733,
          -0.31115859746932983,
          -0.07028859108686447,
          0.19823256134986877,
          0.4942161440849304,
          0.8179559111595154,
          1.9516292810440063,
          2.381843328475952,
          2.8371098041534424,
          3.3157243728637695,
          3.816610336303711,
          5.437357425689697,
          6.010058879852295,
          6.596127986907959,
          7.1914591789245605,
          7.79517126083374,
          9.623909950256348,
          10.22807502746582,
          10.826367378234863,
          11.412817001342773,
          11.98556137084961,
          13.583625793457031,
          14.064859390258789,
          14.517098426818848,
          14.933956146240234,
          15.314809799194336,
          16.207515716552734,
          16.414085388183594,
          16.5719051361084,
          16.679065704345703,
          16.73383903503418,
          16.576292037963867,
          16.41402244567871,
          16.1978702545166,
          15.926985740661621,
          15.60252857208252,
          14.32178783416748,
          13.797914505004883,
          13.229633331298828,
          12.61842155456543,
          11.96875,
          9.815081596374512,
          9.04030990600586,
          8.244145393371582,
          7.429209232330322,
          6.601191520690918,
          4.069371700286865,
          3.223256826400757,
          2.384770393371582,
          1.5538657903671265,
          0.7366468906402588,
          -1.6049485206604004,
          -2.3395066261291504,
          -3.0434086322784424,
          -3.719797372817993,
          -4.360987186431885,
          -6.078242301940918,
          -6.5773606300354,
          -7.038795471191406,
          -7.461843013763428,
          -7.846431732177734,
          -8.779011726379395,
          -9.018963813781738,
          -9.225979804992676,
          -9.401946067810059,
          -9.547309875488281,
          -9.82898235321045,
          -9.877802848815918,
          -9.90895938873291,
          -9.924298286437988,
          -9.926072120666504,
          -9.878514289855957,
          -9.85207748413086,
          -9.824165344238281,
          -9.796582221984863,
          -9.771442413330078,
          -9.72624683380127,
          -9.725184440612793,
          -9.732856750488281,
          -9.749768257141113,
          -9.776108741760254,
          -9.9124755859375,
          -9.975410461425781,
          -10.046734809875488,
          -10.125199317932129,
          -10.208857536315918,
          -10.482536315917969,
          -10.575972557067871,
          -10.667462348937988,
          -10.755234718322754,
          -10.837881088256836
         ],
         "yaxis": "y2"
        },
        {
         "line": {
          "color": "#2d92ff",
          "width": 2
         },
         "mode": "lines",
         "name": "weekly seasonality",
         "showlegend": false,
         "type": "scatter",
         "x": [
          "2024-01-01T00:00:00",
          "2024-01-02T00:00:00",
          "2024-01-03T00:00:00",
          "2024-01-04T00:00:00",
          "2024-01-05T00:00:00",
          "2024-01-08T00:00:00",
          "2024-01-09T00:00:00",
          "2024-01-10T00:00:00",
          "2024-01-11T00:00:00",
          "2024-01-12T00:00:00",
          "2024-01-15T00:00:00",
          "2024-01-16T00:00:00",
          "2024-01-17T00:00:00",
          "2024-01-18T00:00:00",
          "2024-01-19T00:00:00",
          "2024-01-22T00:00:00",
          "2024-01-23T00:00:00",
          "2024-01-24T00:00:00",
          "2024-01-25T00:00:00",
          "2024-01-26T00:00:00",
          "2024-01-29T00:00:00",
          "2024-01-30T00:00:00",
          "2024-01-31T00:00:00",
          "2024-02-01T00:00:00",
          "2024-02-02T00:00:00",
          "2024-02-05T00:00:00",
          "2024-02-06T00:00:00",
          "2024-02-07T00:00:00",
          "2024-02-08T00:00:00",
          "2024-02-09T00:00:00",
          "2024-02-12T00:00:00",
          "2024-02-13T00:00:00",
          "2024-02-14T00:00:00",
          "2024-02-15T00:00:00",
          "2024-02-16T00:00:00",
          "2024-02-19T00:00:00",
          "2024-02-20T00:00:00",
          "2024-02-21T00:00:00",
          "2024-02-22T00:00:00",
          "2024-02-23T00:00:00",
          "2024-02-26T00:00:00",
          "2024-02-27T00:00:00",
          "2024-02-28T00:00:00",
          "2024-02-29T00:00:00",
          "2024-03-01T00:00:00",
          "2024-03-04T00:00:00",
          "2024-03-05T00:00:00",
          "2024-03-06T00:00:00",
          "2024-03-07T00:00:00",
          "2024-03-08T00:00:00",
          "2024-03-11T00:00:00",
          "2024-03-12T00:00:00",
          "2024-03-13T00:00:00",
          "2024-03-14T00:00:00",
          "2024-03-15T00:00:00",
          "2024-03-18T00:00:00",
          "2024-03-19T00:00:00",
          "2024-03-20T00:00:00",
          "2024-03-21T00:00:00",
          "2024-03-22T00:00:00",
          "2024-03-25T00:00:00",
          "2024-03-26T00:00:00",
          "2024-03-27T00:00:00",
          "2024-03-28T00:00:00",
          "2024-03-29T00:00:00",
          "2024-04-01T00:00:00",
          "2024-04-02T00:00:00",
          "2024-04-03T00:00:00",
          "2024-04-04T00:00:00",
          "2024-04-05T00:00:00",
          "2024-04-08T00:00:00",
          "2024-04-09T00:00:00",
          "2024-04-10T00:00:00",
          "2024-04-11T00:00:00",
          "2024-04-12T00:00:00",
          "2024-04-15T00:00:00",
          "2024-04-16T00:00:00",
          "2024-04-17T00:00:00",
          "2024-04-18T00:00:00",
          "2024-04-19T00:00:00",
          "2024-04-22T00:00:00",
          "2024-04-23T00:00:00",
          "2024-04-24T00:00:00",
          "2024-04-25T00:00:00",
          "2024-04-26T00:00:00",
          "2024-04-29T00:00:00",
          "2024-04-30T00:00:00",
          "2024-05-01T00:00:00",
          "2024-05-02T00:00:00",
          "2024-05-03T00:00:00",
          "2024-05-06T00:00:00",
          "2024-05-07T00:00:00",
          "2024-05-08T00:00:00",
          "2024-05-09T00:00:00",
          "2024-05-10T00:00:00",
          "2024-05-13T00:00:00",
          "2024-05-14T00:00:00",
          "2024-05-15T00:00:00",
          "2024-05-16T00:00:00",
          "2024-05-17T00:00:00",
          "2024-05-20T00:00:00",
          "2024-05-21T00:00:00",
          "2024-05-22T00:00:00",
          "2024-05-23T00:00:00",
          "2024-05-24T00:00:00",
          "2024-05-27T00:00:00",
          "2024-05-28T00:00:00",
          "2024-05-29T00:00:00",
          "2024-05-30T00:00:00",
          "2024-05-31T00:00:00",
          "2024-06-03T00:00:00",
          "2024-06-04T00:00:00",
          "2024-06-05T00:00:00",
          "2024-06-06T00:00:00",
          "2024-06-07T00:00:00",
          "2024-06-10T00:00:00",
          "2024-06-11T00:00:00",
          "2024-06-12T00:00:00",
          "2024-06-13T00:00:00",
          "2024-06-14T00:00:00",
          "2024-06-17T00:00:00",
          "2024-06-18T00:00:00",
          "2024-06-19T00:00:00",
          "2024-06-20T00:00:00",
          "2024-06-21T00:00:00",
          "2024-06-24T00:00:00",
          "2024-06-25T00:00:00",
          "2024-06-26T00:00:00",
          "2024-06-27T00:00:00",
          "2024-06-28T00:00:00",
          "2024-07-01T00:00:00",
          "2024-07-02T00:00:00",
          "2024-07-03T00:00:00",
          "2024-07-04T00:00:00",
          "2024-07-05T00:00:00",
          "2024-07-08T00:00:00",
          "2024-07-09T00:00:00",
          "2024-07-10T00:00:00",
          "2024-07-11T00:00:00",
          "2024-07-12T00:00:00",
          "2024-07-15T00:00:00",
          "2024-07-16T00:00:00",
          "2024-07-17T00:00:00",
          "2024-07-18T00:00:00",
          "2024-07-19T00:00:00",
          "2024-07-22T00:00:00",
          "2024-07-23T00:00:00",
          "2024-07-24T00:00:00",
          "2024-07-25T00:00:00",
          "2024-07-26T00:00:00",
          "2024-07-29T00:00:00",
          "2024-07-30T00:00:00",
          "2024-07-31T00:00:00",
          "2024-08-01T00:00:00",
          "2024-08-02T00:00:00",
          "2024-08-05T00:00:00",
          "2024-08-06T00:00:00",
          "2024-08-07T00:00:00",
          "2024-08-08T00:00:00",
          "2024-08-09T00:00:00",
          "2024-08-12T00:00:00",
          "2024-08-13T00:00:00",
          "2024-08-14T00:00:00",
          "2024-08-15T00:00:00",
          "2024-08-16T00:00:00",
          "2024-08-19T00:00:00",
          "2024-08-20T00:00:00",
          "2024-08-21T00:00:00",
          "2024-08-22T00:00:00",
          "2024-08-23T00:00:00",
          "2024-08-26T00:00:00",
          "2024-08-27T00:00:00",
          "2024-08-28T00:00:00",
          "2024-08-29T00:00:00",
          "2024-08-30T00:00:00",
          "2024-09-02T00:00:00",
          "2024-09-03T00:00:00",
          "2024-09-04T00:00:00",
          "2024-09-05T00:00:00",
          "2024-09-06T00:00:00",
          "2024-09-09T00:00:00",
          "2024-09-10T00:00:00",
          "2024-09-11T00:00:00",
          "2024-09-12T00:00:00",
          "2024-09-13T00:00:00",
          "2024-09-16T00:00:00",
          "2024-09-17T00:00:00",
          "2024-09-18T00:00:00",
          "2024-09-19T00:00:00",
          "2024-09-20T00:00:00",
          "2024-09-23T00:00:00",
          "2024-09-24T00:00:00",
          "2024-09-25T00:00:00",
          "2024-09-26T00:00:00",
          "2024-09-27T00:00:00",
          "2024-09-30T00:00:00",
          "2024-10-01T00:00:00",
          "2024-10-02T00:00:00",
          "2024-10-03T00:00:00",
          "2024-10-04T00:00:00",
          "2024-10-07T00:00:00",
          "2024-10-08T00:00:00",
          "2024-10-09T00:00:00",
          "2024-10-10T00:00:00",
          "2024-10-11T00:00:00",
          "2024-10-14T00:00:00",
          "2024-10-15T00:00:00",
          "2024-10-16T00:00:00",
          "2024-10-17T00:00:00",
          "2024-10-18T00:00:00",
          "2024-10-21T00:00:00",
          "2024-10-22T00:00:00",
          "2024-10-23T00:00:00",
          "2024-10-24T00:00:00",
          "2024-10-25T00:00:00",
          "2024-10-28T00:00:00",
          "2024-10-29T00:00:00",
          "2024-10-30T00:00:00",
          "2024-10-31T00:00:00",
          "2024-11-01T00:00:00",
          "2024-11-04T00:00:00",
          "2024-11-05T00:00:00",
          "2024-11-06T00:00:00",
          "2024-11-07T00:00:00",
          "2024-11-08T00:00:00",
          "2024-11-11T00:00:00",
          "2024-11-12T00:00:00",
          "2024-11-13T00:00:00",
          "2024-11-14T00:00:00",
          "2024-11-15T00:00:00",
          "2024-11-18T00:00:00",
          "2024-11-19T00:00:00",
          "2024-11-20T00:00:00",
          "2024-11-21T00:00:00",
          "2024-11-22T00:00:00",
          "2024-11-25T00:00:00",
          "2024-11-26T00:00:00",
          "2024-11-27T00:00:00",
          "2024-11-28T00:00:00",
          "2024-11-29T00:00:00",
          "2024-12-02T00:00:00",
          "2024-12-03T00:00:00",
          "2024-12-04T00:00:00",
          "2024-12-05T00:00:00",
          "2024-12-06T00:00:00",
          "2024-12-09T00:00:00",
          "2024-12-10T00:00:00",
          "2024-12-11T00:00:00",
          "2024-12-12T00:00:00",
          "2024-12-13T00:00:00",
          "2024-12-16T00:00:00",
          "2024-12-17T00:00:00",
          "2024-12-18T00:00:00",
          "2024-12-19T00:00:00",
          "2024-12-20T00:00:00",
          "2024-12-23T00:00:00",
          "2024-12-24T00:00:00",
          "2024-12-25T00:00:00",
          "2024-12-26T00:00:00",
          "2024-12-27T00:00:00",
          "2024-12-30T00:00:00",
          "2024-12-31T00:00:00",
          "2025-01-01T00:00:00",
          "2025-01-02T00:00:00",
          "2025-01-03T00:00:00",
          "2025-01-06T00:00:00",
          "2025-01-07T00:00:00",
          "2025-01-08T00:00:00",
          "2025-01-09T00:00:00",
          "2025-01-10T00:00:00",
          "2025-01-13T00:00:00",
          "2025-01-14T00:00:00",
          "2025-01-15T00:00:00",
          "2025-01-16T00:00:00",
          "2025-01-17T00:00:00",
          "2025-01-20T00:00:00",
          "2025-01-21T00:00:00",
          "2025-01-22T00:00:00",
          "2025-01-23T00:00:00",
          "2025-01-24T00:00:00",
          "2025-01-27T00:00:00",
          "2025-01-28T00:00:00",
          "2025-01-29T00:00:00",
          "2025-01-30T00:00:00",
          "2025-01-31T00:00:00",
          "2025-02-03T00:00:00",
          "2025-02-04T00:00:00",
          "2025-02-05T00:00:00",
          "2025-02-06T00:00:00",
          "2025-02-07T00:00:00",
          "2025-02-10T00:00:00",
          "2025-02-11T00:00:00",
          "2025-02-12T00:00:00",
          "2025-02-13T00:00:00",
          "2025-02-14T00:00:00",
          "2025-02-17T00:00:00",
          "2025-02-18T00:00:00",
          "2025-02-19T00:00:00",
          "2025-02-20T00:00:00",
          "2025-02-21T00:00:00"
         ],
         "xaxis": "x3",
         "y": [
          343.2334289550781,
          342.0310363769531,
          341.1202697753906,
          341.0629577636719,
          341.1019592285156,
          343.1321105957031,
          342.06121826171875,
          341.30657958984375,
          341.3561096191406,
          340.7498779296875,
          343.2660827636719,
          342.0187072753906,
          341.1263732910156,
          340.2631530761719,
          341.09088134765625,
          343.1646423339844,
          341.4801940917969,
          341.3127136230469,
          340.5562438964844,
          340.7388000488281,
          343.0626220703125,
          342.00634765625,
          341.1325378417969,
          341.64794921875,
          340.3866882324219,
          343.1972351074219,
          342.0365905761719,
          340.951904296875,
          341.9417419433594,
          341.42071533203125,
          343.33123779296875,
          342.06732177734375,
          341.5045166015625,
          340.2601623535156,
          341.0687255859375,
          343.4646301269531,
          341.3834533691406,
          341.324951171875,
          340.5531921386719,
          340.7166748046875,
          343.127685546875,
          341.98175048828125,
          341.1448669433594,
          341.6448669433594,
          341.0576171875,
          343.2623596191406,
          342.0118713378906,
          340.96429443359375,
          341.3498840332031,
          340.7055358886719,
          343.39642333984375,
          341.969482421875,
          341.1510314941406,
          340.8451232910156,
          341.04656982421875,
          343.294921875,
          341.4305419921875,
          340.9704895019531,
          340.5502014160156,
          340.6944885253906,
          343.42901611328125,
          342.0302429199219,
          341.1571960449219,
          341.0538024902344,
          341.0354919433594,
          343.5625305175781,
          341.9872131347656,
          341.34332275390625,
          340.5486755371094,
          340.6834411621094,
          341.0844421386719,
          341.94482421875,
          341.1633605957031,
          340.842041015625,
          340.3312683105469,
          343.3599853515625,
          341.9748840332031,
          340.98284912109375,
          341.1357421875,
          341.365234375,
          343.4941711425781,
          342.0054626464844,
          341.1695251464844,
          341.05078125,
          341.01324462890625,
          343.62774658203125,
          341.96246337890625,
          341.3555908203125,
          340.545654296875,
          340.6612243652344,
          341.3861083984375,
          341.92022705078125,
          341.1756896972656,
          340.8389892578125,
          341.0021057128906,
          343.42510986328125,
          341.95013427734375,
          340.9952087402344,
          340.5441589355469,
          340.6501159667969,
          343.559326171875,
          341.9079284667969,
          341.1818542480469,
          341.63543701171875,
          340.2979736328125,
          343.4576416015625,
          341.93780517578125,
          341.0014953613281,
          341.131103515625,
          340.6390380859375,
          341.4514465332031,
          341.96832275390625,
          340.8204650878906,
          340.24822998046875,
          340.9799499511719,
          343.7255554199219,
          341.99951171875,
          341.3739929199219,
          340.5411682128906,
          340.62786865234375,
          343.3877868652344,
          341.8833312988281,
          341.19415283203125,
          341.6323547363281,
          340.2757568359375,
          343.52264404296875,
          341.9130859375,
          341.0138244628906,
          341.1280212402344,
          340.6168518066406,
          341.5167236328125,
          341.9435729980469,
          341.2002868652344,
          340.8329162597656,
          340.9577331542969,
          343.790771484375,
          341.9007568359375,
          341.0199890136719,
          340.5381774902344,
          340.605712890625,
          343.6895751953125,
          341.93121337890625,
          341.20654296875,
          341.6291809082031,
          340.94659423828125,
          343.8233337402344,
          341.888427734375,
          341.0261535644531,
          340.53662109375,
          340.5945739746094,
          341.5820617675781,
          341.8464050292969,
          341.2126159667969,
          340.829833984375,
          340.24249267578125,
          343.6202697753906,
          341.8761291503906,
          341.2463073730469,
          341.1233825683594,
          339.89031982421875,
          343.75469970703125,
          341.9064025878906,
          340.8515625,
          340.2408142089844,
          340.9244079589844,
          341.74853515625,
          341.93743896484375,
          341.404541015625,
          340.53363037109375,
          340.5724182128906,
          341.64727783203125,
          341.82177734375,
          341.2249755859375,
          340.8267822265625,
          340.2203369140625,
          343.6853332519531,
          341.8514099121094,
          341.25848388671875,
          341.1202697753906,
          340.5613098144531,
          343.81976318359375,
          341.88165283203125,
          341.23101806640625,
          340.8252258300781,
          340.20916748046875,
          341.8138732910156,
          341.83905029296875,
          341.0508728027344,
          341.1187744140625,
          340.5501403808594,
          341.7125549316406,
          341.8693542480469,
          340.8702392578125,
          340.82373046875,
          340.8910217285156,
          343.9862365722656,
          341.90008544921875,
          341.2706604003906,
          340.52911376953125,
          340.5390319824219,
          344.11956787109375,
          341.7848815917969,
          341.2434387207031,
          340.82220458984375,
          340.18695068359375,
          341.64312744140625,
          341.81439208984375,
          341.0632629394531,
          341.11566162109375,
          339.8348388671875,
          341.7778015136719,
          341.8445739746094,
          340.8825988769531,
          340.8206787109375,
          340.86883544921875,
          344.0514221191406,
          341.8753356933594,
          341.2828674316406,
          340.5260925292969,
          340.516845703125,
          343.949951171875,
          341.8321838378906,
          341.25567626953125,
          340.81915283203125,
          340.1647644042969,
          341.94451904296875,
          341.78973388671875,
          341.0756530761719,
          341.1125793457031,
          340.5057373046875,
          341.843017578125,
          341.81982421875,
          341.4751281738281,
          340.817626953125,
          340.153564453125,
          344.11651611328125,
          341.77740478515625,
          341.29510498046875,
          341.1109924316406,
          339.8014221191406,
          341.8756408691406,
          341.80743408203125,
          340.9012756347656,
          341.40472412109375,
          342.48175048828125,
          342.0097961425781,
          341.838134765625,
          340.7201843261719,
          340.5215759277344,
          340.4833679199219,
          342.143310546875,
          341.72344970703125,
          341.4872741699219,
          340.8146057128906,
          340.1313171386719,
          343.9453125,
          341.7527160644531,
          341.3074035644531,
          341.1079406738281,
          339.77923583984375,
          341.94085693359375,
          341.78265380859375,
          340.9136657714844,
          340.8130798339844,
          341.766845703125,
          342.0750732421875,
          341.8133239746094,
          341.100341796875,
          341.10638427734375,
          340.46112060546875,
          341.9734802246094,
          341.7703552246094,
          341.1329650878906,
          340.8115539550781,
          340.10906982421875,
          344.2467956542969,
          341.80084228515625,
          341.3195495605469,
          341.1048583984375,
          340.4500427246094,
          342.2413024902344,
          341.75799560546875,
          341.2926330566406,
          340.8100280761719,
          341.7447509765625,
          342.1402893066406,
          341.7157287597656,
          341.1127624511719,
          341.1033020019531,
          339.745849609375,
          342.03863525390625,
          341.74566650390625,
          341.1452331542969,
          341.3969421386719,
          340.7796936035156,
          344.3118591308594,
          341.7760925292969,
          340.9642028808594,
          340.51409912109375,
          340.427734375
         ],
         "yaxis": "y3"
        }
       ],
       "layout": {
        "autosize": true,
        "font": {
         "size": 10
        },
        "height": 630,
        "hovermode": "x unified",
        "legend": {
         "traceorder": "reversed",
         "y": 0.1
        },
        "margin": {
         "b": 0,
         "l": 0,
         "pad": 0,
         "r": 10,
         "t": 10
        },
        "template": {
         "data": {
          "bar": [
           {
            "error_x": {
             "color": "#2a3f5f"
            },
            "error_y": {
             "color": "#2a3f5f"
            },
            "marker": {
             "line": {
              "color": "white",
              "width": 0.5
             },
             "pattern": {
              "fillmode": "overlay",
              "size": 10,
              "solidity": 0.2
             }
            },
            "type": "bar"
           }
          ],
          "barpolar": [
           {
            "marker": {
             "line": {
              "color": "white",
              "width": 0.5
             },
             "pattern": {
              "fillmode": "overlay",
              "size": 10,
              "solidity": 0.2
             }
            },
            "type": "barpolar"
           }
          ],
          "carpet": [
           {
            "aaxis": {
             "endlinecolor": "#2a3f5f",
             "gridcolor": "#C8D4E3",
             "linecolor": "#C8D4E3",
             "minorgridcolor": "#C8D4E3",
             "startlinecolor": "#2a3f5f"
            },
            "baxis": {
             "endlinecolor": "#2a3f5f",
             "gridcolor": "#C8D4E3",
             "linecolor": "#C8D4E3",
             "minorgridcolor": "#C8D4E3",
             "startlinecolor": "#2a3f5f"
            },
            "type": "carpet"
           }
          ],
          "choropleth": [
           {
            "colorbar": {
             "outlinewidth": 0,
             "ticks": ""
            },
            "type": "choropleth"
           }
          ],
          "contour": [
           {
            "colorbar": {
             "outlinewidth": 0,
             "ticks": ""
            },
            "colorscale": [
             [
              0,
              "#0d0887"
             ],
             [
              0.1111111111111111,
              "#46039f"
             ],
             [
              0.2222222222222222,
              "#7201a8"
             ],
             [
              0.3333333333333333,
              "#9c179e"
             ],
             [
              0.4444444444444444,
              "#bd3786"
             ],
             [
              0.5555555555555556,
              "#d8576b"
             ],
             [
              0.6666666666666666,
              "#ed7953"
             ],
             [
              0.7777777777777778,
              "#fb9f3a"
             ],
             [
              0.8888888888888888,
              "#fdca26"
             ],
             [
              1,
              "#f0f921"
             ]
            ],
            "type": "contour"
           }
          ],
          "contourcarpet": [
           {
            "colorbar": {
             "outlinewidth": 0,
             "ticks": ""
            },
            "type": "contourcarpet"
           }
          ],
          "heatmap": [
           {
            "colorbar": {
             "outlinewidth": 0,
             "ticks": ""
            },
            "colorscale": [
             [
              0,
              "#0d0887"
             ],
             [
              0.1111111111111111,
              "#46039f"
             ],
             [
              0.2222222222222222,
              "#7201a8"
             ],
             [
              0.3333333333333333,
              "#9c179e"
             ],
             [
              0.4444444444444444,
              "#bd3786"
             ],
             [
              0.5555555555555556,
              "#d8576b"
             ],
             [
              0.6666666666666666,
              "#ed7953"
             ],
             [
              0.7777777777777778,
              "#fb9f3a"
             ],
             [
              0.8888888888888888,
              "#fdca26"
             ],
             [
              1,
              "#f0f921"
             ]
            ],
            "type": "heatmap"
           }
          ],
          "heatmapgl": [
           {
            "colorbar": {
             "outlinewidth": 0,
             "ticks": ""
            },
            "colorscale": [
             [
              0,
              "#0d0887"
             ],
             [
              0.1111111111111111,
              "#46039f"
             ],
             [
              0.2222222222222222,
              "#7201a8"
             ],
             [
              0.3333333333333333,
              "#9c179e"
             ],
             [
              0.4444444444444444,
              "#bd3786"
             ],
             [
              0.5555555555555556,
              "#d8576b"
             ],
             [
              0.6666666666666666,
              "#ed7953"
             ],
             [
              0.7777777777777778,
              "#fb9f3a"
             ],
             [
              0.8888888888888888,
              "#fdca26"
             ],
             [
              1,
              "#f0f921"
             ]
            ],
            "type": "heatmapgl"
           }
          ],
          "histogram": [
           {
            "marker": {
             "pattern": {
              "fillmode": "overlay",
              "size": 10,
              "solidity": 0.2
             }
            },
            "type": "histogram"
           }
          ],
          "histogram2d": [
           {
            "colorbar": {
             "outlinewidth": 0,
             "ticks": ""
            },
            "colorscale": [
             [
              0,
              "#0d0887"
             ],
             [
              0.1111111111111111,
              "#46039f"
             ],
             [
              0.2222222222222222,
              "#7201a8"
             ],
             [
              0.3333333333333333,
              "#9c179e"
             ],
             [
              0.4444444444444444,
              "#bd3786"
             ],
             [
              0.5555555555555556,
              "#d8576b"
             ],
             [
              0.6666666666666666,
              "#ed7953"
             ],
             [
              0.7777777777777778,
              "#fb9f3a"
             ],
             [
              0.8888888888888888,
              "#fdca26"
             ],
             [
              1,
              "#f0f921"
             ]
            ],
            "type": "histogram2d"
           }
          ],
          "histogram2dcontour": [
           {
            "colorbar": {
             "outlinewidth": 0,
             "ticks": ""
            },
            "colorscale": [
             [
              0,
              "#0d0887"
             ],
             [
              0.1111111111111111,
              "#46039f"
             ],
             [
              0.2222222222222222,
              "#7201a8"
             ],
             [
              0.3333333333333333,
              "#9c179e"
             ],
             [
              0.4444444444444444,
              "#bd3786"
             ],
             [
              0.5555555555555556,
              "#d8576b"
             ],
             [
              0.6666666666666666,
              "#ed7953"
             ],
             [
              0.7777777777777778,
              "#fb9f3a"
             ],
             [
              0.8888888888888888,
              "#fdca26"
             ],
             [
              1,
              "#f0f921"
             ]
            ],
            "type": "histogram2dcontour"
           }
          ],
          "mesh3d": [
           {
            "colorbar": {
             "outlinewidth": 0,
             "ticks": ""
            },
            "type": "mesh3d"
           }
          ],
          "parcoords": [
           {
            "line": {
             "colorbar": {
              "outlinewidth": 0,
              "ticks": ""
             }
            },
            "type": "parcoords"
           }
          ],
          "pie": [
           {
            "automargin": true,
            "type": "pie"
           }
          ],
          "scatter": [
           {
            "fillpattern": {
             "fillmode": "overlay",
             "size": 10,
             "solidity": 0.2
            },
            "type": "scatter"
           }
          ],
          "scatter3d": [
           {
            "line": {
             "colorbar": {
              "outlinewidth": 0,
              "ticks": ""
             }
            },
            "marker": {
             "colorbar": {
              "outlinewidth": 0,
              "ticks": ""
             }
            },
            "type": "scatter3d"
           }
          ],
          "scattercarpet": [
           {
            "marker": {
             "colorbar": {
              "outlinewidth": 0,
              "ticks": ""
             }
            },
            "type": "scattercarpet"
           }
          ],
          "scattergeo": [
           {
            "marker": {
             "colorbar": {
              "outlinewidth": 0,
              "ticks": ""
             }
            },
            "type": "scattergeo"
           }
          ],
          "scattergl": [
           {
            "marker": {
             "colorbar": {
              "outlinewidth": 0,
              "ticks": ""
             }
            },
            "type": "scattergl"
           }
          ],
          "scattermapbox": [
           {
            "marker": {
             "colorbar": {
              "outlinewidth": 0,
              "ticks": ""
             }
            },
            "type": "scattermapbox"
           }
          ],
          "scatterpolar": [
           {
            "marker": {
             "colorbar": {
              "outlinewidth": 0,
              "ticks": ""
             }
            },
            "type": "scatterpolar"
           }
          ],
          "scatterpolargl": [
           {
            "marker": {
             "colorbar": {
              "outlinewidth": 0,
              "ticks": ""
             }
            },
            "type": "scatterpolargl"
           }
          ],
          "scatterternary": [
           {
            "marker": {
             "colorbar": {
              "outlinewidth": 0,
              "ticks": ""
             }
            },
            "type": "scatterternary"
           }
          ],
          "surface": [
           {
            "colorbar": {
             "outlinewidth": 0,
             "ticks": ""
            },
            "colorscale": [
             [
              0,
              "#0d0887"
             ],
             [
              0.1111111111111111,
              "#46039f"
             ],
             [
              0.2222222222222222,
              "#7201a8"
             ],
             [
              0.3333333333333333,
              "#9c179e"
             ],
             [
              0.4444444444444444,
              "#bd3786"
             ],
             [
              0.5555555555555556,
              "#d8576b"
             ],
             [
              0.6666666666666666,
              "#ed7953"
             ],
             [
              0.7777777777777778,
              "#fb9f3a"
             ],
             [
              0.8888888888888888,
              "#fdca26"
             ],
             [
              1,
              "#f0f921"
             ]
            ],
            "type": "surface"
           }
          ],
          "table": [
           {
            "cells": {
             "fill": {
              "color": "#EBF0F8"
             },
             "line": {
              "color": "white"
             }
            },
            "header": {
             "fill": {
              "color": "#C8D4E3"
             },
             "line": {
              "color": "white"
             }
            },
            "type": "table"
           }
          ]
         },
         "layout": {
          "annotationdefaults": {
           "arrowcolor": "#2a3f5f",
           "arrowhead": 0,
           "arrowwidth": 1
          },
          "autotypenumbers": "strict",
          "coloraxis": {
           "colorbar": {
            "outlinewidth": 0,
            "ticks": ""
           }
          },
          "colorscale": {
           "diverging": [
            [
             0,
             "#8e0152"
            ],
            [
             0.1,
             "#c51b7d"
            ],
            [
             0.2,
             "#de77ae"
            ],
            [
             0.3,
             "#f1b6da"
            ],
            [
             0.4,
             "#fde0ef"
            ],
            [
             0.5,
             "#f7f7f7"
            ],
            [
             0.6,
             "#e6f5d0"
            ],
            [
             0.7,
             "#b8e186"
            ],
            [
             0.8,
             "#7fbc41"
            ],
            [
             0.9,
             "#4d9221"
            ],
            [
             1,
             "#276419"
            ]
           ],
           "sequential": [
            [
             0,
             "#0d0887"
            ],
            [
             0.1111111111111111,
             "#46039f"
            ],
            [
             0.2222222222222222,
             "#7201a8"
            ],
            [
             0.3333333333333333,
             "#9c179e"
            ],
            [
             0.4444444444444444,
             "#bd3786"
            ],
            [
             0.5555555555555556,
             "#d8576b"
            ],
            [
             0.6666666666666666,
             "#ed7953"
            ],
            [
             0.7777777777777778,
             "#fb9f3a"
            ],
            [
             0.8888888888888888,
             "#fdca26"
            ],
            [
             1,
             "#f0f921"
            ]
           ],
           "sequentialminus": [
            [
             0,
             "#0d0887"
            ],
            [
             0.1111111111111111,
             "#46039f"
            ],
            [
             0.2222222222222222,
             "#7201a8"
            ],
            [
             0.3333333333333333,
             "#9c179e"
            ],
            [
             0.4444444444444444,
             "#bd3786"
            ],
            [
             0.5555555555555556,
             "#d8576b"
            ],
            [
             0.6666666666666666,
             "#ed7953"
            ],
            [
             0.7777777777777778,
             "#fb9f3a"
            ],
            [
             0.8888888888888888,
             "#fdca26"
            ],
            [
             1,
             "#f0f921"
            ]
           ]
          },
          "colorway": [
           "#636efa",
           "#EF553B",
           "#00cc96",
           "#ab63fa",
           "#FFA15A",
           "#19d3f3",
           "#FF6692",
           "#B6E880",
           "#FF97FF",
           "#FECB52"
          ],
          "font": {
           "color": "#2a3f5f"
          },
          "geo": {
           "bgcolor": "white",
           "lakecolor": "white",
           "landcolor": "white",
           "showlakes": true,
           "showland": true,
           "subunitcolor": "#C8D4E3"
          },
          "hoverlabel": {
           "align": "left"
          },
          "hovermode": "closest",
          "mapbox": {
           "style": "light"
          },
          "paper_bgcolor": "white",
          "plot_bgcolor": "white",
          "polar": {
           "angularaxis": {
            "gridcolor": "#EBF0F8",
            "linecolor": "#EBF0F8",
            "ticks": ""
           },
           "bgcolor": "white",
           "radialaxis": {
            "gridcolor": "#EBF0F8",
            "linecolor": "#EBF0F8",
            "ticks": ""
           }
          },
          "scene": {
           "xaxis": {
            "backgroundcolor": "white",
            "gridcolor": "#DFE8F3",
            "gridwidth": 2,
            "linecolor": "#EBF0F8",
            "showbackground": true,
            "ticks": "",
            "zerolinecolor": "#EBF0F8"
           },
           "yaxis": {
            "backgroundcolor": "white",
            "gridcolor": "#DFE8F3",
            "gridwidth": 2,
            "linecolor": "#EBF0F8",
            "showbackground": true,
            "ticks": "",
            "zerolinecolor": "#EBF0F8"
           },
           "zaxis": {
            "backgroundcolor": "white",
            "gridcolor": "#DFE8F3",
            "gridwidth": 2,
            "linecolor": "#EBF0F8",
            "showbackground": true,
            "ticks": "",
            "zerolinecolor": "#EBF0F8"
           }
          },
          "shapedefaults": {
           "line": {
            "color": "#2a3f5f"
           }
          },
          "ternary": {
           "aaxis": {
            "gridcolor": "#DFE8F3",
            "linecolor": "#A2B1C6",
            "ticks": ""
           },
           "baxis": {
            "gridcolor": "#DFE8F3",
            "linecolor": "#A2B1C6",
            "ticks": ""
           },
           "bgcolor": "white",
           "caxis": {
            "gridcolor": "#DFE8F3",
            "linecolor": "#A2B1C6",
            "ticks": ""
           }
          },
          "title": {
           "x": 0.05
          },
          "xaxis": {
           "automargin": true,
           "gridcolor": "#EBF0F8",
           "linecolor": "#EBF0F8",
           "ticks": "",
           "title": {
            "standoff": 15
           },
           "zerolinecolor": "#EBF0F8",
           "zerolinewidth": 2
          },
          "yaxis": {
           "automargin": true,
           "gridcolor": "#EBF0F8",
           "linecolor": "#EBF0F8",
           "ticks": "",
           "title": {
            "standoff": 15
           },
           "zerolinecolor": "#EBF0F8",
           "zerolinewidth": 2
          }
         }
        },
        "title": {
         "font": {
          "size": 12
         }
        },
        "width": 700,
        "xaxis": {
         "anchor": "y",
         "domain": [
          0,
          1
         ],
         "linewidth": 1.5,
         "mirror": true,
         "range": [
          "2023-12-11T00:00:00",
          "2025-03-14T00:00:00"
         ],
         "showline": true,
         "title": {
          "text": "ds"
         },
         "type": "date"
        },
        "xaxis2": {
         "anchor": "y2",
         "domain": [
          0,
          1
         ],
         "linewidth": 1.5,
         "mirror": true,
         "range": [
          "2023-12-11T00:00:00",
          "2025-03-14T00:00:00"
         ],
         "showline": true,
         "title": {
          "text": "ds"
         },
         "type": "date"
        },
        "xaxis3": {
         "anchor": "y3",
         "domain": [
          0,
          1
         ],
         "linewidth": 1.5,
         "mirror": true,
         "range": [
          "2023-12-11T00:00:00",
          "2025-03-14T00:00:00"
         ],
         "showline": true,
         "title": {
          "text": "ds"
         },
         "type": "date"
        },
        "yaxis": {
         "anchor": "x",
         "domain": [
          0.7333333333333333,
          1
         ],
         "linewidth": 1.5,
         "mirror": true,
         "rangemode": "normal",
         "showline": true,
         "title": {
          "text": "Trend"
         }
        },
        "yaxis2": {
         "anchor": "x2",
         "domain": [
          0.36666666666666664,
          0.6333333333333333
         ],
         "linewidth": 1.5,
         "mirror": true,
         "rangemode": "tozero",
         "showline": true,
         "title": {
          "text": "yearly seasonality"
         }
        },
        "yaxis3": {
         "anchor": "x3",
         "domain": [
          0,
          0.26666666666666666
         ],
         "linewidth": 1.5,
         "mirror": true,
         "rangemode": "tozero",
         "showline": true,
         "title": {
          "text": "weekly seasonality"
         }
        }
       }
      }
     },
     "metadata": {},
     "output_type": "display_data"
    }
   ],
   "source": [
    "model.plot_components(forecast)"
   ]
  }
 ],
 "metadata": {
  "kernelspec": {
   "display_name": "prediction",
   "language": "python",
   "name": "python3"
  },
  "language_info": {
   "codemirror_mode": {
    "name": "ipython",
    "version": 3
   },
   "file_extension": ".py",
   "mimetype": "text/x-python",
   "name": "python",
   "nbconvert_exporter": "python",
   "pygments_lexer": "ipython3",
   "version": "3.9.0"
  }
 },
 "nbformat": 4,
 "nbformat_minor": 5
}
